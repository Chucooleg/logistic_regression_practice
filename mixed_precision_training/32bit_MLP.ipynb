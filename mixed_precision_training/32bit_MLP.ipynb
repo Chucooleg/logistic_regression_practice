{
 "cells": [
  {
   "cell_type": "code",
   "execution_count": 2,
   "metadata": {},
   "outputs": [],
   "source": [
    "import sys\n",
    "sys.path.append(\"../\")\n",
    "\n",
    "import torch\n",
    "import torch.nn as nn\n",
    "from torch.utils.data import Dataset, DataLoader\n",
    "import torch.autograd.profiler as profiler\n",
    "\n",
    "import matplotlib.pyplot as plt\n",
    "%matplotlib inline\n",
    "\n",
    "import os\n",
    "import time, gc\n",
    "from progressbar import progressbar\n",
    "import numpy as np\n",
    "from sklearn.datasets import make_classification\n",
    "from collections import defaultdict\n",
    "from argparse import ArgumentDefaultsHelpFormatter, ArgumentParser\n",
    "\n",
    "from utils.moduleCodeProfiler import rankByCriteria"
   ]
  },
  {
   "cell_type": "code",
   "execution_count": 3,
   "metadata": {},
   "outputs": [
    {
     "name": "stdout",
     "output_type": "stream",
     "text": [
      "Wed Nov 25 14:35:29 2020       \r\n",
      "+-----------------------------------------------------------------------------+\r\n",
      "| NVIDIA-SMI 455.32.00    Driver Version: 455.32.00    CUDA Version: 11.1     |\r\n",
      "|-------------------------------+----------------------+----------------------+\r\n",
      "| GPU  Name        Persistence-M| Bus-Id        Disp.A | Volatile Uncorr. ECC |\r\n",
      "| Fan  Temp  Perf  Pwr:Usage/Cap|         Memory-Usage | GPU-Util  Compute M. |\r\n",
      "|                               |                      |               MIG M. |\r\n",
      "|===============================+======================+======================|\r\n",
      "|   0  Tesla V100-PCIE...  On   | 00004026:00:00.0 Off |                  Off |\r\n",
      "| N/A   30C    P0    23W / 250W |      0MiB / 16160MiB |      0%      Default |\r\n",
      "|                               |                      |                  N/A |\r\n",
      "+-------------------------------+----------------------+----------------------+\r\n",
      "                                                                               \r\n",
      "+-----------------------------------------------------------------------------+\r\n",
      "| Processes:                                                                  |\r\n",
      "|  GPU   GI   CI        PID   Type   Process name                  GPU Memory |\r\n",
      "|        ID   ID                                                   Usage      |\r\n",
      "|=============================================================================|\r\n",
      "|  No running processes found                                                 |\r\n",
      "+-----------------------------------------------------------------------------+\r\n"
     ]
    }
   ],
   "source": [
    "!nvidia-smi"
   ]
  },
  {
   "cell_type": "code",
   "execution_count": 4,
   "metadata": {},
   "outputs": [],
   "source": [
    "cuda0 = torch.device('cuda:0') "
   ]
  },
  {
   "cell_type": "code",
   "execution_count": 5,
   "metadata": {},
   "outputs": [],
   "source": [
    "parser = ArgumentParser(formatter_class=ArgumentDefaultsHelpFormatter)\n",
    "args = parser.parse_args('')\n",
    "\n",
    "args.data_dir = '~/datadrive'\n",
    "args.dataset_dir = 'toy_mlp_1'\n",
    "args.seed = 123\n",
    "args.batch_size = 1000\n",
    "# https://stackoverflow.com/questions/15753701/how-can-i-pass-a-list-as-a-command-line-argument-with-argparse\n",
    "args.hidden_layer_dims = [5000, 5000, 5000, 5000, 5000, 5000, 5000]\n",
    "args.lr = 0.01\n",
    "args.epochs = 20"
   ]
  },
  {
   "cell_type": "markdown",
   "metadata": {},
   "source": [
    "## Toy Data Generation"
   ]
  },
  {
   "cell_type": "code",
   "execution_count": 6,
   "metadata": {},
   "outputs": [
    {
     "name": "stdout",
     "output_type": "stream",
     "text": [
      "First 10 training indices [1603 8472 2213  498 1038 8399 3324 7535 1519 1959]\n",
      "X shape (9000, 10)\n",
      "y shape (9000,)\n"
     ]
    }
   ],
   "source": [
    "# construct and save toydataset\n",
    "\n",
    "m_train = 9000\n",
    "m_total = m_train\n",
    "\n",
    "X, y = make_classification(n_samples=m_total, n_features=10, n_informative=10, n_redundant=0, n_repeated=0, n_classes=5, n_clusters_per_class=2, weights=None, flip_y=0.01, class_sep=1.0, hypercube=True, shift=0.0, scale=1.0, shuffle=True, random_state=args.seed)\n",
    "# y = np.expand_dims(y, -1)\n",
    "\n",
    "np.random.seed(args.seed)\n",
    "permutation = np.random.permutation(m_total)\n",
    "print('First 10 training indices', permutation[:10])\n",
    "print('X shape', X.shape)\n",
    "print('y shape', y.shape)\n",
    "\n",
    "train_indices = permutation[0:m_train]\n",
    "\n",
    "dataset_dir = 'toy_mlp_1'\n",
    "os.makedirs(os.path.join(args.data_dir, dataset_dir, 'train'), mode = 0o777, exist_ok = True) \n",
    "\n",
    "np.save(os.path.join(args.data_dir, dataset_dir, 'train', 'features.npy'), X[train_indices])\n",
    "np.save(os.path.join(args.data_dir, dataset_dir, 'train', 'labels.npy'), y[train_indices])"
   ]
  },
  {
   "cell_type": "code",
   "execution_count": 7,
   "metadata": {},
   "outputs": [],
   "source": [
    "class ToyDataset(Dataset):\n",
    "    \"\"\"Toy dataset construction.\"\"\"\n",
    "\n",
    "    def __init__(self, data_dir):\n",
    "        \"\"\"\n",
    "        Args:\n",
    "            data_dir (string): Path to the directory with data files.\n",
    "            transform (callable, optional): Optional transform to be applied\n",
    "                on a sample.\n",
    "        \"\"\"\n",
    "        # shape (m, nx)\n",
    "        self.X = np.load(os.path.join(data_dir, 'features.npy'))\n",
    "        # shape (m, ny=1)\n",
    "        self.y = np.load(os.path.join(data_dir, 'labels.npy'))\n",
    "        \n",
    "\n",
    "    def __len__(self):\n",
    "        return self.X.shape[0]\n",
    "\n",
    "    def __getitem__(self, idx):\n",
    "        if torch.is_tensor(idx):\n",
    "            idx = idx.tolist()\n",
    "        else:\n",
    "            X = torch.from_numpy(self.X[idx, :]).type(torch.FloatTensor)\n",
    "            y = torch.tensor(self.y[idx], dtype=torch.long)\n",
    "#             y = torch.from_numpy(self.y[idx, :]).type(torch.FloatTensor)\n",
    "            sample = {'X': X, 'y': y}\n",
    "\n",
    "        return sample"
   ]
  },
  {
   "cell_type": "markdown",
   "metadata": {},
   "source": [
    "## Model"
   ]
  },
  {
   "cell_type": "code",
   "execution_count": 8,
   "metadata": {},
   "outputs": [],
   "source": [
    "class MLPLazy(nn.Module):\n",
    "\n",
    "    def __init__(self, nx, hidden_layer_dims, ny):\n",
    "        super(MLPLazy, self).__init__()\n",
    "        self.hidden_layer_dims = hidden_layer_dims\n",
    "        \n",
    "        linear_layers = []\n",
    "        last_dim = nx\n",
    "        for next_dim in hidden_layer_dims:\n",
    "            linear_layer = nn.Linear(last_dim, next_dim)\n",
    "            linear_layers.append(linear_layer)\n",
    "            last_dim = next_dim\n",
    "        # should push to ModuleList so that params stay on cuda\n",
    "        self.linear_layers = nn.ModuleList(linear_layers)\n",
    "        self.scorer = nn.Linear(last_dim, ny)\n",
    "\n",
    "    def forward(self, X):\n",
    "        '''\n",
    "        X has shape (m, nx)\n",
    "        '''\n",
    "        last_X = X\n",
    "        for i, linear_layer in enumerate(self.linear_layers):\n",
    "            # shape (m, self.hidden_layer_dims[i])\n",
    "            last_X = linear_layer(last_X)\n",
    "            # shape (m, self.hidden_layer_dims[i])\n",
    "            last_X = torch.relu(last_X)\n",
    "        # shape (m, ny)\n",
    "        z = self.scorer(last_X)\n",
    "        # shape (m, ny)\n",
    "        a = torch.softmax(z, dim=1)\n",
    "        return z, a"
   ]
  },
  {
   "cell_type": "markdown",
   "metadata": {},
   "source": [
    "## Timer"
   ]
  },
  {
   "cell_type": "code",
   "execution_count": 9,
   "metadata": {},
   "outputs": [],
   "source": [
    "def start_timer():\n",
    "    global start_time\n",
    "    torch.cuda.synchronize()\n",
    "    start_time = time.time()\n",
    "\n",
    "def end_timer():\n",
    "    torch.cuda.synchronize()\n",
    "    end_time = time.time()\n",
    "    return end_time - start_time"
   ]
  },
  {
   "cell_type": "markdown",
   "metadata": {},
   "source": [
    "## Worflow"
   ]
  },
  {
   "cell_type": "code",
   "execution_count": 10,
   "metadata": {},
   "outputs": [],
   "source": [
    "def check_weights_precision(model):\n",
    "    '''specific to checking MLP'''\n",
    "    for i, layer in enumerate(model.linear_layers):\n",
    "        print(f'layer {i}, weight dtype {layer.weight.dtype}')\n",
    "        print(f'layer {i}, bias dtype {layer.bias.dtype}')\n",
    "    print(f'scorer weight dtype {model.scorer.weight.dtype}')\n",
    "    print(f'scorer bias dtype {model.scorer.bias.dtype}')"
   ]
  },
  {
   "cell_type": "code",
   "execution_count": 11,
   "metadata": {},
   "outputs": [],
   "source": [
    "def get_max_memory_alloc():\n",
    "    devices_max_memory_alloc = {}\n",
    "    for i in range(torch.cuda.device_count()):\n",
    "        device = torch.device(f'cuda:{i}')\n",
    "        devices_max_memory_alloc[f'cuda:{i}'] = torch.cuda.max_memory_allocated(device) / 1e6\n",
    "        torch.cuda.reset_max_memory_allocated(device)\n",
    "    return devices_max_memory_alloc"
   ]
  },
  {
   "cell_type": "code",
   "execution_count": 12,
   "metadata": {},
   "outputs": [],
   "source": [
    "def main_train(args, gpu=0, debug=False):\n",
    "\n",
    "    start_timer()\n",
    "    torch.manual_seed(args.seed)\n",
    "    \n",
    "    ################################################################\n",
    "    # load datasets\n",
    "    training_set = ToyDataset(data_dir=os.path.join(args.data_dir, args.dataset_dir, 'train'))\n",
    "    training_generator = torch.utils.data.DataLoader(dataset=training_set, \n",
    "                                                        batch_size=args.batch_size, \n",
    "                                                        shuffle=True, \n",
    "                                                        num_workers=0, \n",
    "                                                        pin_memory=True)\n",
    "\n",
    "    nx = training_set.X.shape[1]\n",
    "    ny = max(training_set.y) + 1\n",
    "    ################################################################\n",
    "\n",
    "    model = MLPLazy(nx, args.hidden_layer_dims, ny)  # single\n",
    "    loss_criterion = nn.CrossEntropyLoss(reduction='mean')\n",
    "    torch.cuda.set_device(gpu)\n",
    "    model.to(device=gpu)    \n",
    "\n",
    "    opt = torch.optim.SGD(model.parameters(), lr=args.lr)  # half\n",
    "    if debug:\n",
    "        print('\\nmodel weights at init')\n",
    "        check_weights_precision(model)\n",
    "\n",
    "    history = {\n",
    "        'epoch_train_losses': [], 'step_train_losses': [], 'max_memory_allocation':[], \n",
    "         'timing': defaultdict(int)\n",
    "    }\n",
    "    history['timing']['setup'] += end_timer()\n",
    "    \n",
    "    loop_start_time = time.time()\n",
    "    \n",
    "    for e in progressbar(range(5000)):\n",
    "        start_timer()\n",
    "        model.train()\n",
    "        sum_batch_losses = torch.tensor([0.], dtype=torch.float, device=gpu)\n",
    "        all_batch_losses = []\n",
    "        batch_max_memory_alloc = []\n",
    "        history['timing']['epoch_setup'] += end_timer()\n",
    "        \n",
    "        epoch_start_time = time.time()\n",
    "        for batch_i, batch_data in enumerate(training_generator):\n",
    "            batch_start_time = time.time()\n",
    "            \n",
    "            start_timer()\n",
    "            batch_max_memory_alloc.append(get_max_memory_alloc()['cuda:0'])\n",
    "            history['timing']['get_memory'] += end_timer()\n",
    "\n",
    "            start_timer()\n",
    "            batch_X = batch_data['X'].cuda(gpu, non_blocking=True) # single\n",
    "            batch_y = batch_data['y'].cuda(gpu, non_blocking=True) # long\n",
    "            history['timing']['data'] += end_timer()\n",
    "            \n",
    "            start_timer()\n",
    "            logits, activations = model(batch_X) # single\n",
    "            history['timing']['forward'] += end_timer()\n",
    "\n",
    "            start_timer()\n",
    "            loss = loss_criterion(logits, batch_y)  # single\n",
    "            history['timing']['loss'] += end_timer()\n",
    "            \n",
    "            start_timer()\n",
    "            opt.zero_grad()\n",
    "            history['timing']['zero_grad'] += end_timer()\n",
    "            \n",
    "            start_timer()\n",
    "            loss.backward()  # single\n",
    "            history['timing']['backward'] += end_timer()\n",
    "            \n",
    "            start_timer()\n",
    "            opt.step()\n",
    "            history['timing']['opt_step'] += end_timer()\n",
    "            \n",
    "            start_timer()\n",
    "            sum_batch_losses += loss\n",
    "            all_batch_losses.append(loss)\n",
    "            history['timing']['append_losses'] += end_timer()\n",
    "            \n",
    "            history['timing']['batch_time'] += time.time() - batch_start_time\n",
    "\n",
    "        start_timer()\n",
    "        num_batches = batch_i + 1.\n",
    "        history['epoch_train_losses'].append(sum_batch_losses/num_batches)\n",
    "        history['step_train_losses'] += all_batch_losses\n",
    "        history['max_memory_allocation'] += batch_max_memory_alloc\n",
    "        history['timing']['append'] += end_timer()\n",
    "        \n",
    "        torch.cuda.synchronize()\n",
    "        history['timing']['epoch_end_time'] += time.time() - epoch_start_time\n",
    "        \n",
    "    torch.cuda.synchronize()\n",
    "    history['timing']['loop_end_time'] += time.time() - loop_start_time\n",
    "    \n",
    "    start_timer()\n",
    "    itemize = lambda x: [tensor_val.item() for tensor_val in x]\n",
    "    history['epoch_train_losses'] = itemize(history['epoch_train_losses'])   \n",
    "    history['step_train_losses'] = itemize(history['step_train_losses'])   \n",
    "    history['timing']['itemize_losses'] += end_timer()\n",
    "\n",
    "    return history, model"
   ]
  },
  {
   "cell_type": "markdown",
   "metadata": {},
   "source": [
    "# Train"
   ]
  },
  {
   "cell_type": "code",
   "execution_count": 12,
   "metadata": {
    "scrolled": true
   },
   "outputs": [
    {
     "name": "stdout",
     "output_type": "stream",
     "text": [
      "Wed Nov 25 14:28:41 2020       \r\n",
      "+-----------------------------------------------------------------------------+\r\n",
      "| NVIDIA-SMI 455.32.00    Driver Version: 455.32.00    CUDA Version: 11.1     |\r\n",
      "|-------------------------------+----------------------+----------------------+\r\n",
      "| GPU  Name        Persistence-M| Bus-Id        Disp.A | Volatile Uncorr. ECC |\r\n",
      "| Fan  Temp  Perf  Pwr:Usage/Cap|         Memory-Usage | GPU-Util  Compute M. |\r\n",
      "|                               |                      |               MIG M. |\r\n",
      "|===============================+======================+======================|\r\n",
      "|   0  Tesla V100-PCIE...  On   | 00004026:00:00.0 Off |                  Off |\r\n",
      "| N/A   29C    P0    23W / 250W |      0MiB / 16160MiB |      0%      Default |\r\n",
      "|                               |                      |                  N/A |\r\n",
      "+-------------------------------+----------------------+----------------------+\r\n",
      "                                                                               \r\n",
      "+-----------------------------------------------------------------------------+\r\n",
      "| Processes:                                                                  |\r\n",
      "|  GPU   GI   CI        PID   Type   Process name                  GPU Memory |\r\n",
      "|        ID   ID                                                   Usage      |\r\n",
      "|=============================================================================|\r\n",
      "|  No running processes found                                                 |\r\n",
      "+-----------------------------------------------------------------------------+\r\n"
     ]
    }
   ],
   "source": [
    "!nvidia-smi"
   ]
  },
  {
   "cell_type": "code",
   "execution_count": 13,
   "metadata": {
    "scrolled": true
   },
   "outputs": [
    {
     "name": "stderr",
     "output_type": "stream",
     "text": [
      "\r",
      "N/A% (0 of 5000) |                       | Elapsed Time: 0:00:00 ETA:  --:--:--"
     ]
    },
    {
     "name": "stdout",
     "output_type": "stream",
     "text": [
      "\n",
      "model weights at init\n",
      "layer 0, weight dtype torch.float32\n",
      "layer 0, bias dtype torch.float32\n",
      "layer 1, weight dtype torch.float32\n",
      "layer 1, bias dtype torch.float32\n",
      "layer 2, weight dtype torch.float32\n",
      "layer 2, bias dtype torch.float32\n",
      "layer 3, weight dtype torch.float32\n",
      "layer 3, bias dtype torch.float32\n",
      "layer 4, weight dtype torch.float32\n",
      "layer 4, bias dtype torch.float32\n",
      "layer 5, weight dtype torch.float32\n",
      "layer 5, bias dtype torch.float32\n",
      "layer 6, weight dtype torch.float32\n",
      "layer 6, bias dtype torch.float32\n",
      "scorer weight dtype torch.float32\n",
      "scorer bias dtype torch.float32\n"
     ]
    },
    {
     "name": "stderr",
     "output_type": "stream",
     "text": [
      "/anaconda/envs/py37_pytorch/lib/python3.7/site-packages/torch/cuda/memory.py:234: FutureWarning: torch.cuda.reset_max_memory_allocated now calls torch.cuda.reset_peak_memory_stats, which resets /all/ peak memory stats.\n",
      "  FutureWarning)\n",
      "100% (5000 of 5000) |####################| Elapsed Time: 1:14:37 Time:  1:14:37\n"
     ]
    },
    {
     "name": "stdout",
     "output_type": "stream",
     "text": [
      "4481.872178316116\n"
     ]
    }
   ],
   "source": [
    "all_start_time = time.time()\n",
    "history, model = main_train(args, debug=True)\n",
    "torch.cuda.synchronize()\n",
    "print(time.time() - all_start_time)"
   ]
  },
  {
   "cell_type": "code",
   "execution_count": 15,
   "metadata": {},
   "outputs": [
    {
     "data": {
      "text/plain": [
       "150110005"
      ]
     },
     "execution_count": 15,
     "metadata": {},
     "output_type": "execute_result"
    }
   ],
   "source": [
    "pytorch_total_params = sum(p.numel() for p in model.parameters())\n",
    "pytorch_total_params"
   ]
  },
  {
   "cell_type": "code",
   "execution_count": 23,
   "metadata": {},
   "outputs": [
    {
     "name": "stdout",
     "output_type": "stream",
     "text": [
      "\n",
      "model weights at init\n",
      "layer 0, weight dtype torch.float32\n",
      "layer 0, bias dtype torch.float32\n",
      "layer 1, weight dtype torch.float32\n",
      "layer 1, bias dtype torch.float32\n",
      "layer 2, weight dtype torch.float32\n",
      "layer 2, bias dtype torch.float32\n",
      "layer 3, weight dtype torch.float32\n",
      "layer 3, bias dtype torch.float32\n",
      "scorer weight dtype torch.float32\n",
      "scorer bias dtype torch.float32\n"
     ]
    },
    {
     "name": "stderr",
     "output_type": "stream",
     "text": [
      "/anaconda/envs/py37_pytorch/lib/python3.7/site-packages/torch/cuda/memory.py:234: FutureWarning: torch.cuda.reset_max_memory_allocated now calls torch.cuda.reset_peak_memory_stats, which resets /all/ peak memory stats.\n",
      "  FutureWarning)\n"
     ]
    }
   ],
   "source": [
    "with profiler.profile(profile_memory=True, record_shapes=True, use_cuda=False, with_stack=True) as prof:\n",
    "    with profiler.record_function(\"forward\"):\n",
    "        history, model = main_train(args, debug=True)"
   ]
  },
  {
   "cell_type": "markdown",
   "metadata": {},
   "source": [
    "# Running Time"
   ]
  },
  {
   "cell_type": "code",
   "execution_count": 15,
   "metadata": {},
   "outputs": [
    {
     "data": {
      "text/plain": [
       "defaultdict(int,\n",
       "            {'setup': 0.033419132232666016,\n",
       "             'epoch_setup': 0.05381584167480469,\n",
       "             'get_memory': 2.5898804664611816,\n",
       "             'data': 0.3465733528137207,\n",
       "             'forward': 3.9523918628692627,\n",
       "             'loss': 0.5222015380859375,\n",
       "             'zero_grad': 1.9296772480010986,\n",
       "             'backward': 4.9550769329071045,\n",
       "             'opt_step': 1.6817753314971924,\n",
       "             'append_losses': 0.136216402053833,\n",
       "             'batch_time': 16.47422170639038,\n",
       "             'append': 0.05046844482421875,\n",
       "             'epoch_end_time': 112.07442474365234,\n",
       "             'loop_end_time': 112.1322078704834,\n",
       "             'itemize_losses': 0.11670160293579102})"
      ]
     },
     "execution_count": 15,
     "metadata": {},
     "output_type": "execute_result"
    }
   ],
   "source": [
    "# args.hidden_layer_dims = [10, 10, 10, 10, 10, 10, 10]\n",
    "# 500 epochs\"\n",
    "history['timing']"
   ]
  },
  {
   "cell_type": "code",
   "execution_count": 16,
   "metadata": {},
   "outputs": [
    {
     "data": {
      "text/plain": [
       "defaultdict(int,\n",
       "            {'setup': 0.16573810577392578,\n",
       "             'epoch_setup': 0.50887131690979,\n",
       "             'get_memory': 34.587188959121704,\n",
       "             'data': 3.297776460647583,\n",
       "             'forward': 37.27410888671875,\n",
       "             'loss': 4.1481773853302,\n",
       "             'zero_grad': 17.538325786590576,\n",
       "             'backward': 48.85865783691406,\n",
       "             'opt_step': 15.545686483383179,\n",
       "             'append_losses': 1.2967801094055176,\n",
       "             'batch_time': 165.99205136299133,\n",
       "             'append': 0.34089112281799316,\n",
       "             'epoch_end_time': 1058.002289056778,\n",
       "             'loop_end_time': 1058.5499851703644,\n",
       "             'itemize_losses': 1.4198520183563232})"
      ]
     },
     "execution_count": 16,
     "metadata": {},
     "output_type": "execute_result"
    }
   ],
   "source": [
    "# args.hidden_layer_dims = [50, 50, 50, 50, 50, 50, 50]\n",
    "# 5000 epochs\"\n",
    "history['timing']"
   ]
  },
  {
   "cell_type": "code",
   "execution_count": 14,
   "metadata": {},
   "outputs": [
    {
     "data": {
      "text/plain": [
       "defaultdict(int,\n",
       "            {'setup': 1.120006799697876,\n",
       "             'epoch_setup': 1.4029920101165771,\n",
       "             'get_memory': 26.92748999595642,\n",
       "             'data': 3.4697084426879883,\n",
       "             'forward': 1098.5500860214233,\n",
       "             'loss': 5.607784986495972,\n",
       "             'zero_grad': 48.409998416900635,\n",
       "             'backward': 2267.143490791321,\n",
       "             'opt_step': 101.99486517906189,\n",
       "             'append_losses': 1.648108720779419,\n",
       "             'batch_time': 3558.54425907135,\n",
       "             'append': 0.38669252395629883,\n",
       "             'epoch_end_time': 4471.42458486557,\n",
       "             'loop_end_time': 4477.22597193718,\n",
       "             'itemize_losses': 1.2950727939605713})"
      ]
     },
     "execution_count": 14,
     "metadata": {},
     "output_type": "execute_result"
    }
   ],
   "source": [
    "# args.hidden_layer_dims = [5000, 5000, 5000, 5000, 5000, 5000, 5000]\n",
    "# 5000 epochs\"\n",
    "history['timing']"
   ]
  },
  {
   "cell_type": "markdown",
   "metadata": {},
   "source": [
    "# Profiler Results"
   ]
  },
  {
   "cell_type": "code",
   "execution_count": 24,
   "metadata": {},
   "outputs": [
    {
     "name": "stdout",
     "output_type": "stream",
     "text": [
      "Ranked by cuda_memory_usage\n",
      "\n",
      "109.92 Mb\n",
      "##############################################\n",
      "model, aten::empty, forward, (26) last_X = torch.relu(last_X)\n",
      "13.89 Mb\n",
      "##############################################\n",
      "model, aten::addmm, forward, (24) last_X = linear_layer(last_X)\n",
      "6.94 Mb\n",
      "##############################################\n",
      "model.scorer, aten::addmm, forward, (93) return F.linear(input, self.weight, self.bias)\n",
      "model, aten::addmm, forward, (24) last_X = linear_layer(last_X)\n",
      "6.94 Mb\n",
      "##############################################\n",
      "model, aten::resize_, forward, (24) last_X = linear_layer(last_X)\n",
      "6.94 Mb\n",
      "##############################################\n",
      "model.scorer, aten::resize_, forward, (93) return F.linear(input, self.weight, self.bias)\n",
      "model, aten::resize_, forward, (24) last_X = linear_layer(last_X)\n",
      "6.94 Mb\n",
      "##############################################\n",
      "model, aten::relu, forward, (26) last_X = torch.relu(last_X)\n",
      "6.94 Mb\n",
      "##############################################\n",
      "model, aten::threshold, forward, (26) last_X = torch.relu(last_X)\n",
      "6.94 Mb\n",
      "##############################################\n",
      "model, ReluBackward0, forward, (26) last_X = torch.relu(last_X)\n",
      "6.94 Mb\n",
      "##############################################\n",
      "model, aten::threshold_backward, forward, (26) last_X = torch.relu(last_X)\n",
      "6.94 Mb\n",
      "##############################################\n",
      "model, aten::empty, forward, (24) last_X = linear_layer(last_X)\n",
      "5.30 Mb\n",
      "##############################################\n",
      "model.scorer, aten::empty, forward, (93) return F.linear(input, self.weight, self.bias)\n",
      "model, aten::empty, forward, (24) last_X = linear_layer(last_X)\n",
      "5.30 Mb\n",
      "##############################################\n",
      "model, AddmmBackward, forward, (24) last_X = linear_layer(last_X)\n",
      "5.30 Mb\n",
      "##############################################\n",
      "model.scorer, AddmmBackward, forward, (93) return F.linear(input, self.weight, self.bias)\n",
      "model, AddmmBackward, forward, (24) last_X = linear_layer(last_X)\n",
      "5.30 Mb\n",
      "##############################################\n",
      "model, aten::mm, forward, (24) last_X = linear_layer(last_X)\n",
      "5.30 Mb\n",
      "##############################################\n",
      "model.scorer, aten::mm, forward, (93) return F.linear(input, self.weight, self.bias)\n",
      "model, aten::mm, forward, (24) last_X = linear_layer(last_X)\n",
      "5.30 Mb\n",
      "##############################################\n",
      "model, aten::empty, forward, (28) z = self.scorer(last_X)\n",
      "1.76 Mb\n",
      "##############################################\n",
      "model.scorer, aten::empty, forward, (93) return F.linear(input, self.weight, self.bias)\n",
      "model, aten::empty, forward, (28) z = self.scorer(last_X)\n",
      "1.76 Mb\n",
      "##############################################\n",
      "model, AddmmBackward, forward, (28) z = self.scorer(last_X)\n",
      "1.76 Mb\n",
      "##############################################\n",
      "model.scorer, AddmmBackward, forward, (93) return F.linear(input, self.weight, self.bias)\n",
      "model, AddmmBackward, forward, (28) z = self.scorer(last_X)\n",
      "1.76 Mb\n",
      "##############################################\n",
      "model, aten::mm, forward, (28) z = self.scorer(last_X)\n",
      "1.76 Mb\n",
      "##############################################\n",
      "model.scorer, aten::mm, forward, (93) return F.linear(input, self.weight, self.bias)\n",
      "model, aten::mm, forward, (28) z = self.scorer(last_X)\n",
      "1.76 Mb\n",
      "##############################################\n",
      "model, aten::addmm, forward, (28) z = self.scorer(last_X)\n",
      "900.00 Kb\n",
      "##############################################\n",
      "model.scorer, aten::addmm, forward, (93) return F.linear(input, self.weight, self.bias)\n",
      "model, aten::addmm, forward, (28) z = self.scorer(last_X)\n",
      "900.00 Kb\n",
      "##############################################\n",
      "model, aten::resize_, forward, (28) z = self.scorer(last_X)\n",
      "900.00 Kb\n",
      "##############################################\n",
      "model.scorer, aten::resize_, forward, (93) return F.linear(input, self.weight, self.bias)\n",
      "model, aten::resize_, forward, (28) z = self.scorer(last_X)\n",
      "900.00 Kb\n",
      "##############################################\n",
      "model, aten::softmax, forward, (30) a = torch.softmax(z, dim=1)\n",
      "900.00 Kb\n",
      "##############################################\n",
      "model, aten::_softmax, forward, (30) a = torch.softmax(z, dim=1)\n",
      "900.00 Kb\n",
      "##############################################\n",
      "model, aten::empty_like, forward, (30) a = torch.softmax(z, dim=1)\n",
      "900.00 Kb\n",
      "##############################################\n",
      "model, aten::empty, forward, (30) a = torch.softmax(z, dim=1)\n",
      "900.00 Kb\n",
      "##############################################\n",
      "model, aten::t, forward, (24) last_X = linear_layer(last_X)\n",
      "0.0 b\n",
      "##############################################\n",
      "model.scorer, aten::t, forward, (93) return F.linear(input, self.weight, self.bias)\n",
      "model, aten::t, forward, (24) last_X = linear_layer(last_X)\n",
      "0.0 b\n",
      "##############################################\n",
      "model, aten::transpose, forward, (24) last_X = linear_layer(last_X)\n",
      "0.0 b\n",
      "##############################################\n",
      "model.scorer, aten::transpose, forward, (93) return F.linear(input, self.weight, self.bias)\n",
      "model, aten::transpose, forward, (24) last_X = linear_layer(last_X)\n",
      "0.0 b\n",
      "##############################################\n",
      "model, aten::as_strided, forward, (24) last_X = linear_layer(last_X)\n",
      "0.0 b\n",
      "##############################################\n",
      "model.scorer, aten::as_strided, forward, (93) return F.linear(input, self.weight, self.bias)\n",
      "model, aten::as_strided, forward, (24) last_X = linear_layer(last_X)\n",
      "0.0 b\n",
      "##############################################\n",
      "model, aten::expand, forward, (24) last_X = linear_layer(last_X)\n",
      "0.0 b\n",
      "##############################################\n",
      "model.scorer, aten::expand, forward, (93) return F.linear(input, self.weight, self.bias)\n",
      "model, aten::expand, forward, (24) last_X = linear_layer(last_X)\n",
      "0.0 b\n",
      "##############################################\n",
      "model, aten::stride, forward, (24) last_X = linear_layer(last_X)\n",
      "0.0 b\n",
      "##############################################\n",
      "model.scorer, aten::stride, forward, (93) return F.linear(input, self.weight, self.bias)\n",
      "model, aten::stride, forward, (24) last_X = linear_layer(last_X)\n",
      "0.0 b\n",
      "##############################################\n",
      "model, aten::t, forward, (28) z = self.scorer(last_X)\n",
      "0.0 b\n",
      "##############################################\n",
      "model.scorer, aten::t, forward, (93) return F.linear(input, self.weight, self.bias)\n",
      "model, aten::t, forward, (28) z = self.scorer(last_X)\n",
      "0.0 b\n",
      "##############################################\n",
      "model, aten::transpose, forward, (28) z = self.scorer(last_X)\n",
      "0.0 b\n",
      "##############################################\n",
      "model.scorer, aten::transpose, forward, (93) return F.linear(input, self.weight, self.bias)\n",
      "model, aten::transpose, forward, (28) z = self.scorer(last_X)\n",
      "0.0 b\n",
      "##############################################\n",
      "model, aten::as_strided, forward, (28) z = self.scorer(last_X)\n",
      "0.0 b\n",
      "##############################################\n",
      "model.scorer, aten::as_strided, forward, (93) return F.linear(input, self.weight, self.bias)\n",
      "model, aten::as_strided, forward, (28) z = self.scorer(last_X)\n",
      "0.0 b\n",
      "##############################################\n",
      "model, aten::expand, forward, (28) z = self.scorer(last_X)\n",
      "0.0 b\n",
      "##############################################\n",
      "model.scorer, aten::expand, forward, (93) return F.linear(input, self.weight, self.bias)\n",
      "model, aten::expand, forward, (28) z = self.scorer(last_X)\n",
      "0.0 b\n",
      "##############################################\n",
      "model, aten::stride, forward, (28) z = self.scorer(last_X)\n",
      "0.0 b\n",
      "##############################################\n",
      "model.scorer, aten::stride, forward, (93) return F.linear(input, self.weight, self.bias)\n",
      "model, aten::stride, forward, (28) z = self.scorer(last_X)\n",
      "0.0 b\n",
      "##############################################\n",
      "model, aten::contiguous, forward, (30) a = torch.softmax(z, dim=1)\n",
      "0.0 b\n",
      "##############################################\n",
      "model, TBackward, forward, (28) z = self.scorer(last_X)\n",
      "0.0 b\n",
      "##############################################\n",
      "model.scorer, TBackward, forward, (93) return F.linear(input, self.weight, self.bias)\n",
      "model, TBackward, forward, (28) z = self.scorer(last_X)\n",
      "0.0 b\n",
      "##############################################\n",
      "model, TBackward, forward, (24) last_X = linear_layer(last_X)\n",
      "0.0 b\n",
      "##############################################\n",
      "model.scorer, TBackward, forward, (93) return F.linear(input, self.weight, self.bias)\n",
      "model, TBackward, forward, (24) last_X = linear_layer(last_X)\n",
      "0.0 b\n",
      "##############################################\n"
     ]
    }
   ],
   "source": [
    "# ran for 5 epochs\n",
    "rankByCriteria(prof, model, criteria='cuda_memory_usage', per_thread=False, per_inp_shapes=False, include_external=False)"
   ]
  },
  {
   "cell_type": "code",
   "execution_count": 29,
   "metadata": {},
   "outputs": [
    {
     "name": "stdout",
     "output_type": "stream",
     "text": [
      "-------------------------------------------  ------------  ------------  ------------  ------------  ------------  ------------  ------------  ------------  ------------  ------------  \n",
      "                                       Name    Self CPU %      Self CPU   CPU total %     CPU total  CPU time avg       CPU Mem  Self CPU Mem      CUDA Mem  Self CUDA Mem    # of Calls  \n",
      "-------------------------------------------  ------------  ------------  ------------  ------------  ------------  ------------  ------------  ------------  ------------  ------------  \n",
      "                                aten::zeros         0.00%     364.803us         0.00%     699.006us     699.006us           4 b           0 b           0 b           0 b             1  \n",
      "                                aten::empty        12.21%        5.508s        12.21%        5.508s      60.304us     705.43 Kb     705.43 Kb      23.58 Mb      23.58 Mb         91342  \n",
      "                                aten::zero_         0.12%      54.524ms         0.18%      80.016ms     181.443us           0 b           0 b           0 b           0 b           441  \n",
      "                                aten::fill_         0.06%      28.510ms         0.06%      28.510ms      58.662us           0 b           0 b           0 b           0 b           486  \n",
      "                                    forward         5.42%        2.444s        99.89%       45.063s       45.063s          -4 b      -4.46 Mb      14.79 Mb      -3.89 Mb             1  \n",
      "                               aten::detach         0.00%     613.004us         0.00%       1.157ms     115.671us           0 b           0 b           0 b           0 b            10  \n",
      "                                     detach         0.00%     543.707us         0.00%     543.707us      54.371us           0 b           0 b           0 b           0 b            10  \n",
      "                             aten::uniform_         0.00%       1.370ms         0.00%       1.370ms     136.981us           0 b           0 b           0 b           0 b            10  \n",
      "                    aten::is_floating_point         0.01%       3.752ms         0.01%       3.752ms      53.596us           0 b           0 b           0 b           0 b            70  \n",
      "                                   aten::to        11.57%        5.217s        37.49%       16.911s     187.679us       1.72 Mb           0 b       2.09 Mb           0 b         90105  \n",
      "-------------------------------------------  ------------  ------------  ------------  ------------  ------------  ------------  ------------  ------------  ------------  ------------  \n",
      "Self CPU time total: 45.112s\n",
      "\n"
     ]
    }
   ],
   "source": [
    "# ran for 5 epochs\n",
    "print(prof.key_averages().table(sort_by=\"cuda_time_total\", row_limit=10))"
   ]
  },
  {
   "cell_type": "code",
   "execution_count": 25,
   "metadata": {},
   "outputs": [
    {
     "name": "stdout",
     "output_type": "stream",
     "text": [
      "-------------------------------------------  ------------  ------------  ------------  ------------  ------------  ------------  ------------  ------------  ------------  ------------  \n",
      "                                       Name    Self CPU %      Self CPU   CPU total %     CPU total  CPU time avg       CPU Mem  Self CPU Mem      CUDA Mem  Self CUDA Mem    # of Calls  \n",
      "-------------------------------------------  ------------  ------------  ------------  ------------  ------------  ------------  ------------  ------------  ------------  ------------  \n",
      "                                    forward         5.42%        2.444s        99.89%       45.063s       45.063s          -4 b      -4.46 Mb      14.79 Mb      -3.89 Mb             1  \n",
      "                                   aten::to        11.57%        5.217s        37.49%       16.911s     187.679us       1.72 Mb           0 b       2.09 Mb           0 b         90105  \n",
      "                                aten::stack         0.36%     163.401ms        27.42%       12.371s     137.454ms       2.06 Mb           0 b           0 b           0 b            90  \n",
      "                            aten::unsqueeze        10.79%        4.868s        21.29%        9.605s     106.720us           0 b           0 b           0 b           0 b         90000  \n",
      "                        aten::empty_strided        14.33%        6.464s        14.33%        6.464s     143.135us       1.72 Mb       1.72 Mb       2.12 Mb       2.12 Mb         45160  \n",
      "                                aten::empty        12.21%        5.508s        12.21%        5.508s      60.304us     705.43 Kb     705.43 Kb      23.58 Mb      23.58 Mb         91342  \n",
      "                                aten::copy_        11.62%        5.242s        11.63%        5.245s     116.024us           0 b           0 b           0 b           0 b         45205  \n",
      "                              aten::detach_         5.27%        2.378s        10.58%        4.772s     106.022us           0 b           0 b           0 b           0 b         45005  \n",
      "                           aten::as_strided        10.56%        4.764s        10.56%        4.764s      52.154us           0 b           0 b           0 b           0 b         91350  \n",
      "                                  aten::cat         0.03%      14.670ms         5.77%        2.603s      28.918ms       2.06 Mb           0 b           0 b           0 b            90  \n",
      "-------------------------------------------  ------------  ------------  ------------  ------------  ------------  ------------  ------------  ------------  ------------  ------------  \n",
      "Self CPU time total: 45.112s\n",
      "\n"
     ]
    }
   ],
   "source": [
    "# ran for 5 epochs\n",
    "print(prof.key_averages().table(sort_by=\"cpu_time_total\", row_limit=10))"
   ]
  },
  {
   "cell_type": "code",
   "execution_count": 26,
   "metadata": {
    "scrolled": true
   },
   "outputs": [
    {
     "name": "stdout",
     "output_type": "stream",
     "text": [
      "Ranked by cpu_time\n",
      "\n",
      "124.172s\n",
      "##############################################\n",
      "model, aten::addmm, forward, (24) last_X = linear_layer(last_X)\n",
      "226.190ms\n",
      "##############################################\n",
      "model.scorer, aten::addmm, forward, (93) return F.linear(input, self.weight, self.bias)\n",
      "model, aten::addmm, forward, (24) last_X = linear_layer(last_X)\n",
      "226.190ms\n",
      "##############################################\n",
      "model, aten::t, forward, (24) last_X = linear_layer(last_X)\n",
      "48.934ms\n",
      "##############################################\n",
      "model.scorer, aten::t, forward, (93) return F.linear(input, self.weight, self.bias)\n",
      "model, aten::t, forward, (24) last_X = linear_layer(last_X)\n",
      "48.934ms\n",
      "##############################################\n",
      "model, aten::relu, forward, (26) last_X = torch.relu(last_X)\n",
      "41.883ms\n",
      "##############################################\n",
      "model, aten::stride, forward, (24) last_X = linear_layer(last_X)\n",
      "29.480ms\n",
      "##############################################\n",
      "model.scorer, aten::stride, forward, (93) return F.linear(input, self.weight, self.bias)\n",
      "model, aten::stride, forward, (24) last_X = linear_layer(last_X)\n",
      "29.480ms\n",
      "##############################################\n",
      "model, aten::addmm, forward, (28) z = self.scorer(last_X)\n",
      "24.443ms\n",
      "##############################################\n",
      "model.scorer, aten::addmm, forward, (93) return F.linear(input, self.weight, self.bias)\n",
      "model, aten::addmm, forward, (28) z = self.scorer(last_X)\n",
      "24.443ms\n",
      "##############################################\n",
      "model, aten::transpose, forward, (24) last_X = linear_layer(last_X)\n",
      "22.149ms\n",
      "##############################################\n",
      "model.scorer, aten::transpose, forward, (93) return F.linear(input, self.weight, self.bias)\n",
      "model, aten::transpose, forward, (24) last_X = linear_layer(last_X)\n",
      "22.149ms\n",
      "##############################################\n",
      "model, aten::threshold, forward, (26) last_X = torch.relu(last_X)\n",
      "21.766ms\n",
      "##############################################\n",
      "model, aten::as_strided, forward, (24) last_X = linear_layer(last_X)\n",
      "19.693ms\n",
      "##############################################\n",
      "model.scorer, aten::as_strided, forward, (93) return F.linear(input, self.weight, self.bias)\n",
      "model, aten::as_strided, forward, (24) last_X = linear_layer(last_X)\n",
      "19.693ms\n",
      "##############################################\n",
      "model, aten::expand, forward, (24) last_X = linear_layer(last_X)\n",
      "18.735ms\n",
      "##############################################\n",
      "model.scorer, aten::expand, forward, (93) return F.linear(input, self.weight, self.bias)\n",
      "model, aten::expand, forward, (24) last_X = linear_layer(last_X)\n",
      "18.735ms\n",
      "##############################################\n",
      "model, AddmmBackward, forward, (24) last_X = linear_layer(last_X)\n",
      "17.210ms\n",
      "##############################################\n",
      "model.scorer, AddmmBackward, forward, (93) return F.linear(input, self.weight, self.bias)\n",
      "model, AddmmBackward, forward, (24) last_X = linear_layer(last_X)\n",
      "17.210ms\n",
      "##############################################\n",
      "model, aten::softmax, forward, (30) a = torch.softmax(z, dim=1)\n",
      "15.777ms\n",
      "##############################################\n",
      "model, aten::t, forward, (28) z = self.scorer(last_X)\n",
      "14.134ms\n",
      "##############################################\n",
      "model.scorer, aten::t, forward, (93) return F.linear(input, self.weight, self.bias)\n",
      "model, aten::t, forward, (28) z = self.scorer(last_X)\n",
      "14.134ms\n",
      "##############################################\n",
      "model, aten::_softmax, forward, (30) a = torch.softmax(z, dim=1)\n",
      "12.986ms\n",
      "##############################################\n",
      "model, aten::empty, forward, (24) last_X = linear_layer(last_X)\n",
      "10.895ms\n",
      "##############################################\n",
      "model.scorer, aten::empty, forward, (93) return F.linear(input, self.weight, self.bias)\n",
      "model, aten::empty, forward, (24) last_X = linear_layer(last_X)\n",
      "10.895ms\n",
      "##############################################\n",
      "model, aten::resize_, forward, (24) last_X = linear_layer(last_X)\n",
      "10.241ms\n",
      "##############################################\n",
      "model.scorer, aten::resize_, forward, (93) return F.linear(input, self.weight, self.bias)\n",
      "model, aten::resize_, forward, (24) last_X = linear_layer(last_X)\n",
      "10.241ms\n",
      "##############################################\n",
      "model, aten::empty, forward, (26) last_X = torch.relu(last_X)\n",
      "10.124ms\n",
      "##############################################\n",
      "model, aten::mm, forward, (24) last_X = linear_layer(last_X)\n",
      "9.219ms\n",
      "##############################################\n",
      "model.scorer, aten::mm, forward, (93) return F.linear(input, self.weight, self.bias)\n",
      "model, aten::mm, forward, (24) last_X = linear_layer(last_X)\n",
      "9.219ms\n",
      "##############################################\n",
      "model, aten::stride, forward, (28) z = self.scorer(last_X)\n",
      "7.228ms\n",
      "##############################################\n",
      "model.scorer, aten::stride, forward, (93) return F.linear(input, self.weight, self.bias)\n",
      "model, aten::stride, forward, (28) z = self.scorer(last_X)\n",
      "7.228ms\n",
      "##############################################\n",
      "model, AddmmBackward, forward, (28) z = self.scorer(last_X)\n",
      "7.013ms\n",
      "##############################################\n",
      "model.scorer, AddmmBackward, forward, (93) return F.linear(input, self.weight, self.bias)\n",
      "model, AddmmBackward, forward, (28) z = self.scorer(last_X)\n",
      "7.013ms\n",
      "##############################################\n",
      "model, aten::transpose, forward, (28) z = self.scorer(last_X)\n",
      "5.812ms\n",
      "##############################################\n",
      "model.scorer, aten::transpose, forward, (93) return F.linear(input, self.weight, self.bias)\n",
      "model, aten::transpose, forward, (28) z = self.scorer(last_X)\n",
      "5.812ms\n",
      "##############################################\n",
      "model, ReluBackward0, forward, (26) last_X = torch.relu(last_X)\n",
      "5.349ms\n",
      "##############################################\n",
      "model, aten::as_strided, forward, (28) z = self.scorer(last_X)\n",
      "5.091ms\n",
      "##############################################\n",
      "model.scorer, aten::as_strided, forward, (93) return F.linear(input, self.weight, self.bias)\n",
      "model, aten::as_strided, forward, (28) z = self.scorer(last_X)\n",
      "5.091ms\n",
      "##############################################\n",
      "model, aten::expand, forward, (28) z = self.scorer(last_X)\n",
      "4.772ms\n",
      "##############################################\n",
      "model.scorer, aten::expand, forward, (93) return F.linear(input, self.weight, self.bias)\n",
      "model, aten::expand, forward, (28) z = self.scorer(last_X)\n",
      "4.772ms\n",
      "##############################################\n",
      "model, aten::empty_like, forward, (30) a = torch.softmax(z, dim=1)\n",
      "4.594ms\n",
      "##############################################\n",
      "model, aten::threshold_backward, forward, (26) last_X = torch.relu(last_X)\n",
      "4.440ms\n",
      "##############################################\n",
      "model, aten::mm, forward, (28) z = self.scorer(last_X)\n",
      "2.993ms\n",
      "##############################################\n",
      "model.scorer, aten::mm, forward, (93) return F.linear(input, self.weight, self.bias)\n",
      "model, aten::mm, forward, (28) z = self.scorer(last_X)\n",
      "2.993ms\n",
      "##############################################\n",
      "model, aten::empty, forward, (28) z = self.scorer(last_X)\n",
      "2.818ms\n",
      "##############################################\n",
      "model.scorer, aten::empty, forward, (93) return F.linear(input, self.weight, self.bias)\n",
      "model, aten::empty, forward, (28) z = self.scorer(last_X)\n",
      "2.818ms\n",
      "##############################################\n",
      "model, aten::resize_, forward, (28) z = self.scorer(last_X)\n",
      "2.485ms\n",
      "##############################################\n",
      "model.scorer, aten::resize_, forward, (93) return F.linear(input, self.weight, self.bias)\n",
      "model, aten::resize_, forward, (28) z = self.scorer(last_X)\n",
      "2.485ms\n",
      "##############################################\n",
      "model, aten::empty, forward, (30) a = torch.softmax(z, dim=1)\n",
      "2.277ms\n",
      "##############################################\n",
      "model, aten::contiguous, forward, (30) a = torch.softmax(z, dim=1)\n",
      "2.126ms\n",
      "##############################################\n",
      "model, TBackward, forward, (24) last_X = linear_layer(last_X)\n",
      "1.899ms\n",
      "##############################################\n",
      "model.scorer, TBackward, forward, (93) return F.linear(input, self.weight, self.bias)\n",
      "model, TBackward, forward, (24) last_X = linear_layer(last_X)\n",
      "1.899ms\n",
      "##############################################\n",
      "model, TBackward, forward, (28) z = self.scorer(last_X)\n",
      "666.604us\n",
      "##############################################\n",
      "model.scorer, TBackward, forward, (93) return F.linear(input, self.weight, self.bias)\n",
      "model, TBackward, forward, (28) z = self.scorer(last_X)\n",
      "666.604us\n",
      "##############################################\n"
     ]
    }
   ],
   "source": [
    "# ran for 5 epochs\n",
    "rankByCriteria(prof, model, criteria='cpu_time', per_thread=False, per_inp_shapes=False, include_external=False)"
   ]
  },
  {
   "cell_type": "code",
   "execution_count": 28,
   "metadata": {},
   "outputs": [
    {
     "name": "stdout",
     "output_type": "stream",
     "text": [
      "Ranked by cuda_time\n",
      "\n",
      "0.000us\n",
      "##############################################\n",
      "model, aten::t, forward, (24) last_X = linear_layer(last_X)\n",
      "0.000us\n",
      "##############################################\n",
      "model.scorer, aten::t, forward, (93) return F.linear(input, self.weight, self.bias)\n",
      "model, aten::t, forward, (24) last_X = linear_layer(last_X)\n",
      "0.000us\n",
      "##############################################\n",
      "model, aten::transpose, forward, (24) last_X = linear_layer(last_X)\n",
      "0.000us\n",
      "##############################################\n",
      "model.scorer, aten::transpose, forward, (93) return F.linear(input, self.weight, self.bias)\n",
      "model, aten::transpose, forward, (24) last_X = linear_layer(last_X)\n",
      "0.000us\n",
      "##############################################\n",
      "model, aten::as_strided, forward, (24) last_X = linear_layer(last_X)\n",
      "0.000us\n",
      "##############################################\n",
      "model.scorer, aten::as_strided, forward, (93) return F.linear(input, self.weight, self.bias)\n",
      "model, aten::as_strided, forward, (24) last_X = linear_layer(last_X)\n",
      "0.000us\n",
      "##############################################\n",
      "model, aten::addmm, forward, (24) last_X = linear_layer(last_X)\n",
      "0.000us\n",
      "##############################################\n",
      "model.scorer, aten::addmm, forward, (93) return F.linear(input, self.weight, self.bias)\n",
      "model, aten::addmm, forward, (24) last_X = linear_layer(last_X)\n",
      "0.000us\n",
      "##############################################\n",
      "model, aten::empty, forward, (24) last_X = linear_layer(last_X)\n",
      "0.000us\n",
      "##############################################\n",
      "model.scorer, aten::empty, forward, (93) return F.linear(input, self.weight, self.bias)\n",
      "model, aten::empty, forward, (24) last_X = linear_layer(last_X)\n",
      "0.000us\n",
      "##############################################\n",
      "model, aten::expand, forward, (24) last_X = linear_layer(last_X)\n",
      "0.000us\n",
      "##############################################\n",
      "model.scorer, aten::expand, forward, (93) return F.linear(input, self.weight, self.bias)\n",
      "model, aten::expand, forward, (24) last_X = linear_layer(last_X)\n",
      "0.000us\n",
      "##############################################\n",
      "model, aten::resize_, forward, (24) last_X = linear_layer(last_X)\n",
      "0.000us\n",
      "##############################################\n",
      "model.scorer, aten::resize_, forward, (93) return F.linear(input, self.weight, self.bias)\n",
      "model, aten::resize_, forward, (24) last_X = linear_layer(last_X)\n",
      "0.000us\n",
      "##############################################\n",
      "model, aten::stride, forward, (24) last_X = linear_layer(last_X)\n",
      "0.000us\n",
      "##############################################\n",
      "model.scorer, aten::stride, forward, (93) return F.linear(input, self.weight, self.bias)\n",
      "model, aten::stride, forward, (24) last_X = linear_layer(last_X)\n",
      "0.000us\n",
      "##############################################\n",
      "model, aten::relu, forward, (26) last_X = torch.relu(last_X)\n",
      "0.000us\n",
      "##############################################\n",
      "model, aten::threshold, forward, (26) last_X = torch.relu(last_X)\n",
      "0.000us\n",
      "##############################################\n",
      "model, aten::empty, forward, (26) last_X = torch.relu(last_X)\n",
      "0.000us\n",
      "##############################################\n",
      "model, aten::t, forward, (28) z = self.scorer(last_X)\n",
      "0.000us\n",
      "##############################################\n",
      "model.scorer, aten::t, forward, (93) return F.linear(input, self.weight, self.bias)\n",
      "model, aten::t, forward, (28) z = self.scorer(last_X)\n",
      "0.000us\n",
      "##############################################\n",
      "model, aten::transpose, forward, (28) z = self.scorer(last_X)\n",
      "0.000us\n",
      "##############################################\n",
      "model.scorer, aten::transpose, forward, (93) return F.linear(input, self.weight, self.bias)\n",
      "model, aten::transpose, forward, (28) z = self.scorer(last_X)\n",
      "0.000us\n",
      "##############################################\n",
      "model, aten::as_strided, forward, (28) z = self.scorer(last_X)\n",
      "0.000us\n",
      "##############################################\n",
      "model.scorer, aten::as_strided, forward, (93) return F.linear(input, self.weight, self.bias)\n",
      "model, aten::as_strided, forward, (28) z = self.scorer(last_X)\n",
      "0.000us\n",
      "##############################################\n",
      "model, aten::addmm, forward, (28) z = self.scorer(last_X)\n",
      "0.000us\n",
      "##############################################\n",
      "model.scorer, aten::addmm, forward, (93) return F.linear(input, self.weight, self.bias)\n",
      "model, aten::addmm, forward, (28) z = self.scorer(last_X)\n",
      "0.000us\n",
      "##############################################\n",
      "model, aten::empty, forward, (28) z = self.scorer(last_X)\n",
      "0.000us\n",
      "##############################################\n",
      "model.scorer, aten::empty, forward, (93) return F.linear(input, self.weight, self.bias)\n",
      "model, aten::empty, forward, (28) z = self.scorer(last_X)\n",
      "0.000us\n",
      "##############################################\n",
      "model, aten::expand, forward, (28) z = self.scorer(last_X)\n",
      "0.000us\n",
      "##############################################\n",
      "model.scorer, aten::expand, forward, (93) return F.linear(input, self.weight, self.bias)\n",
      "model, aten::expand, forward, (28) z = self.scorer(last_X)\n",
      "0.000us\n",
      "##############################################\n",
      "model, aten::resize_, forward, (28) z = self.scorer(last_X)\n",
      "0.000us\n",
      "##############################################\n",
      "model.scorer, aten::resize_, forward, (93) return F.linear(input, self.weight, self.bias)\n",
      "model, aten::resize_, forward, (28) z = self.scorer(last_X)\n",
      "0.000us\n",
      "##############################################\n",
      "model, aten::stride, forward, (28) z = self.scorer(last_X)\n",
      "0.000us\n",
      "##############################################\n",
      "model.scorer, aten::stride, forward, (93) return F.linear(input, self.weight, self.bias)\n",
      "model, aten::stride, forward, (28) z = self.scorer(last_X)\n",
      "0.000us\n",
      "##############################################\n",
      "model, aten::softmax, forward, (30) a = torch.softmax(z, dim=1)\n",
      "0.000us\n",
      "##############################################\n",
      "model, aten::_softmax, forward, (30) a = torch.softmax(z, dim=1)\n",
      "0.000us\n",
      "##############################################\n",
      "model, aten::contiguous, forward, (30) a = torch.softmax(z, dim=1)\n",
      "0.000us\n",
      "##############################################\n",
      "model, aten::empty_like, forward, (30) a = torch.softmax(z, dim=1)\n",
      "0.000us\n",
      "##############################################\n",
      "model, aten::empty, forward, (30) a = torch.softmax(z, dim=1)\n",
      "0.000us\n",
      "##############################################\n",
      "model, AddmmBackward, forward, (28) z = self.scorer(last_X)\n",
      "0.000us\n",
      "##############################################\n",
      "model.scorer, AddmmBackward, forward, (93) return F.linear(input, self.weight, self.bias)\n",
      "model, AddmmBackward, forward, (28) z = self.scorer(last_X)\n",
      "0.000us\n",
      "##############################################\n",
      "model, aten::mm, forward, (28) z = self.scorer(last_X)\n",
      "0.000us\n",
      "##############################################\n",
      "model.scorer, aten::mm, forward, (93) return F.linear(input, self.weight, self.bias)\n",
      "model, aten::mm, forward, (28) z = self.scorer(last_X)\n",
      "0.000us\n",
      "##############################################\n",
      "model, TBackward, forward, (28) z = self.scorer(last_X)\n",
      "0.000us\n",
      "##############################################\n",
      "model.scorer, TBackward, forward, (93) return F.linear(input, self.weight, self.bias)\n",
      "model, TBackward, forward, (28) z = self.scorer(last_X)\n",
      "0.000us\n",
      "##############################################\n",
      "model, ReluBackward0, forward, (26) last_X = torch.relu(last_X)\n",
      "0.000us\n",
      "##############################################\n",
      "model, aten::threshold_backward, forward, (26) last_X = torch.relu(last_X)\n",
      "0.000us\n",
      "##############################################\n",
      "model, AddmmBackward, forward, (24) last_X = linear_layer(last_X)\n",
      "0.000us\n",
      "##############################################\n",
      "model.scorer, AddmmBackward, forward, (93) return F.linear(input, self.weight, self.bias)\n",
      "model, AddmmBackward, forward, (24) last_X = linear_layer(last_X)\n",
      "0.000us\n",
      "##############################################\n",
      "model, aten::mm, forward, (24) last_X = linear_layer(last_X)\n",
      "0.000us\n",
      "##############################################\n",
      "model.scorer, aten::mm, forward, (93) return F.linear(input, self.weight, self.bias)\n",
      "model, aten::mm, forward, (24) last_X = linear_layer(last_X)\n",
      "0.000us\n",
      "##############################################\n",
      "model, TBackward, forward, (24) last_X = linear_layer(last_X)\n",
      "0.000us\n",
      "##############################################\n",
      "model.scorer, TBackward, forward, (93) return F.linear(input, self.weight, self.bias)\n",
      "model, TBackward, forward, (24) last_X = linear_layer(last_X)\n",
      "0.000us\n",
      "##############################################\n"
     ]
    }
   ],
   "source": [
    "# ran for 5 epochs\n",
    "rankByCriteria(prof, model, criteria='cuda_time', per_thread=False, per_inp_shapes=False, include_external=False)"
   ]
  },
  {
   "cell_type": "markdown",
   "metadata": {},
   "source": [
    "# Training Results"
   ]
  },
  {
   "cell_type": "code",
   "execution_count": 70,
   "metadata": {},
   "outputs": [
    {
     "data": {
      "text/plain": [
       "{'train_losses': [1.6124650239944458,\n",
       "  1.6124032735824585,\n",
       "  1.6123392581939697,\n",
       "  1.6122788190841675,\n",
       "  1.6122169494628906,\n",
       "  1.6121578216552734,\n",
       "  1.6120952367782593,\n",
       "  1.612037181854248,\n",
       "  1.6119766235351562,\n",
       "  1.6119177341461182],\n",
       " 'max_memory_allocation': [0.671744,\n",
       "  0.662016,\n",
       "  0.667136,\n",
       "  0.667648,\n",
       "  0.667648,\n",
       "  0.66816,\n",
       "  0.66816,\n",
       "  0.668672,\n",
       "  0.668672,\n",
       "  0.669184,\n",
       "  0.669184,\n",
       "  0.669696,\n",
       "  0.669696,\n",
       "  0.670208,\n",
       "  0.670208,\n",
       "  0.67072,\n",
       "  0.67072,\n",
       "  0.671232,\n",
       "  0.671232,\n",
       "  0.671744]}"
      ]
     },
     "execution_count": 70,
     "metadata": {},
     "output_type": "execute_result"
    }
   ],
   "source": [
    "history"
   ]
  },
  {
   "cell_type": "code",
   "execution_count": 13,
   "metadata": {},
   "outputs": [
    {
     "data": {
      "text/plain": [
       "Text(0.5, 1.0, '32bit')"
      ]
     },
     "execution_count": 13,
     "metadata": {},
     "output_type": "execute_result"
    },
    {
     "data": {
      "image/png": "[encoded data removed]",
      "text/plain": [
       "<Figure size 432x288 with 1 Axes>"
      ]
     },
     "metadata": {
      "needs_background": "light"
     },
     "output_type": "display_data"
    }
   ],
   "source": [
    "plt.plot(np.arange(len(history['step_train_losses'])), np.array(history['step_train_losses']))\n",
    "plt.title('32bit')"
   ]
  },
  {
   "cell_type": "code",
   "execution_count": 17,
   "metadata": {},
   "outputs": [
    {
     "data": {
      "text/plain": [
       "Text(0.5, 1.0, '32bit')"
      ]
     },
     "execution_count": 17,
     "metadata": {},
     "output_type": "execute_result"
    },
    {
     "data": {
      "image/png": "[encoded data removed]",
      "text/plain": [
       "<Figure size 432x288 with 1 Axes>"
      ]
     },
     "metadata": {
      "needs_background": "light"
     },
     "output_type": "display_data"
    }
   ],
   "source": [
    "# args.hidden_layer_dims = [5000, 5000, 5000, 5000, 5000, 5000, 5000]\n",
    "# 5000 epochs\"\n",
    "plt.plot(np.arange(len(history['step_train_losses'])), np.array(history['step_train_losses']))\n",
    "plt.title('32bit')"
   ]
  },
  {
   "cell_type": "code",
   "execution_count": 14,
   "metadata": {},
   "outputs": [
    {
     "data": {
      "text/plain": [
       "Text(0.5, 1.0, '32bit')"
      ]
     },
     "execution_count": 14,
     "metadata": {},
     "output_type": "execute_result"
    },
    {
     "data": {
      "image/png": "[encoded data removed]",
      "text/plain": [
       "<Figure size 432x288 with 1 Axes>"
      ]
     },
     "metadata": {
      "needs_background": "light"
     },
     "output_type": "display_data"
    }
   ],
   "source": [
    "plt.plot(np.arange(len(history['epoch_train_losses'])), np.array(history['epoch_train_losses']))\n",
    "plt.title('32bit')"
   ]
  },
  {
   "cell_type": "code",
   "execution_count": 18,
   "metadata": {},
   "outputs": [
    {
     "data": {
      "text/plain": [
       "Text(0.5, 1.0, '32bit')"
      ]
     },
     "execution_count": 18,
     "metadata": {},
     "output_type": "execute_result"
    },
    {
     "data": {
      "image/png": "[encoded data removed]",
      "text/plain": [
       "<Figure size 432x288 with 1 Axes>"
      ]
     },
     "metadata": {
      "needs_background": "light"
     },
     "output_type": "display_data"
    }
   ],
   "source": [
    "# args.hidden_layer_dims = [5000, 5000, 5000, 5000, 5000, 5000, 5000]\n",
    "# 5000 epochs\"\n",
    "plt.plot(np.arange(len(history['epoch_train_losses'])), np.array(history['epoch_train_losses']))\n",
    "plt.title('32bit')"
   ]
  },
  {
   "cell_type": "code",
   "execution_count": 15,
   "metadata": {},
   "outputs": [
    {
     "data": {
      "text/plain": [
       "Text(0.5, 1.0, '32bit')"
      ]
     },
     "execution_count": 15,
     "metadata": {},
     "output_type": "execute_result"
    },
    {
     "data": {
      "image/png": "[encoded data removed]",
      "text/plain": [
       "<Figure size 432x288 with 1 Axes>"
      ]
     },
     "metadata": {
      "needs_background": "light"
     },
     "output_type": "display_data"
    }
   ],
   "source": [
    "plt.plot(np.arange(len(history['max_memory_allocation'])), np.array(history['max_memory_allocation']))\n",
    "plt.title('32bit')"
   ]
  },
  {
   "cell_type": "code",
   "execution_count": 19,
   "metadata": {},
   "outputs": [
    {
     "data": {
      "text/plain": [
       "Text(0.5, 1.0, '32bit')"
      ]
     },
     "execution_count": 19,
     "metadata": {},
     "output_type": "execute_result"
    },
    {
     "data": {
      "image/png": "[encoded data removed]",
      "text/plain": [
       "<Figure size 432x288 with 1 Axes>"
      ]
     },
     "metadata": {
      "needs_background": "light"
     },
     "output_type": "display_data"
    }
   ],
   "source": [
    "# args.hidden_layer_dims = [5000, 5000, 5000, 5000, 5000, 5000, 5000]\n",
    "# 5000 epochs\"\n",
    "plt.plot(np.arange(len(history['max_memory_allocation'])), np.array(history['max_memory_allocation']))\n",
    "plt.title('32bit')"
   ]
  },
  {
   "cell_type": "markdown",
   "metadata": {},
   "source": [
    "# Nvidia Results"
   ]
  },
  {
   "cell_type": "code",
   "execution_count": 14,
   "metadata": {},
   "outputs": [
    {
     "name": "stdout",
     "output_type": "stream",
     "text": [
      "Sun Nov 22 16:31:42 2020       \r\n",
      "+-----------------------------------------------------------------------------+\r\n",
      "| NVIDIA-SMI 455.32.00    Driver Version: 455.32.00    CUDA Version: 11.1     |\r\n",
      "|-------------------------------+----------------------+----------------------+\r\n",
      "| GPU  Name        Persistence-M| Bus-Id        Disp.A | Volatile Uncorr. ECC |\r\n",
      "| Fan  Temp  Perf  Pwr:Usage/Cap|         Memory-Usage | GPU-Util  Compute M. |\r\n",
      "|                               |                      |               MIG M. |\r\n",
      "|===============================+======================+======================|\r\n",
      "|   0  Tesla K80           On   | 000047DD:00:00.0 Off |                    0 |\r\n",
      "| N/A   44C    P0    56W / 149W |    338MiB / 11441MiB |      0%      Default |\r\n",
      "|                               |                      |                  N/A |\r\n",
      "+-------------------------------+----------------------+----------------------+\r\n",
      "                                                                               \r\n",
      "+-----------------------------------------------------------------------------+\r\n",
      "| Processes:                                                                  |\r\n",
      "|  GPU   GI   CI        PID   Type   Process name                  GPU Memory |\r\n",
      "|        ID   ID                                                   Usage      |\r\n",
      "|=============================================================================|\r\n",
      "|    0   N/A  N/A     24644      C   ...s/py37_pytorch/bin/python      335MiB |\r\n",
      "+-----------------------------------------------------------------------------+\r\n"
     ]
    }
   ],
   "source": [
    "# Ran without profiler\n",
    "!nvidia-smi"
   ]
  },
  {
   "cell_type": "code",
   "execution_count": 20,
   "metadata": {},
   "outputs": [
    {
     "name": "stdout",
     "output_type": "stream",
     "text": [
      "Wed Nov 25 15:56:02 2020       \r\n",
      "+-----------------------------------------------------------------------------+\r\n",
      "| NVIDIA-SMI 455.32.00    Driver Version: 455.32.00    CUDA Version: 11.1     |\r\n",
      "|-------------------------------+----------------------+----------------------+\r\n",
      "| GPU  Name        Persistence-M| Bus-Id        Disp.A | Volatile Uncorr. ECC |\r\n",
      "| Fan  Temp  Perf  Pwr:Usage/Cap|         Memory-Usage | GPU-Util  Compute M. |\r\n",
      "|                               |                      |               MIG M. |\r\n",
      "|===============================+======================+======================|\r\n",
      "|   0  Tesla V100-PCIE...  On   | 00004026:00:00.0 Off |                  Off |\r\n",
      "| N/A   32C    P0    35W / 250W |   2693MiB / 16160MiB |      0%      Default |\r\n",
      "|                               |                      |                  N/A |\r\n",
      "+-------------------------------+----------------------+----------------------+\r\n",
      "                                                                               \r\n",
      "+-----------------------------------------------------------------------------+\r\n",
      "| Processes:                                                                  |\r\n",
      "|  GPU   GI   CI        PID   Type   Process name                  GPU Memory |\r\n",
      "|        ID   ID                                                   Usage      |\r\n",
      "|=============================================================================|\r\n",
      "|    0   N/A  N/A     11120      C   ...s/py37_pytorch/bin/python     2689MiB |\r\n",
      "+-----------------------------------------------------------------------------+\r\n"
     ]
    }
   ],
   "source": [
    "# Ran without profiler\n",
    "# args.hidden_layer_dims = [5000, 5000, 5000, 5000, 5000, 5000, 5000]\n",
    "# 5000 epochs\"\n",
    "!nvidia-smi"
   ]
  },
  {
   "cell_type": "code",
   "execution_count": 15,
   "metadata": {},
   "outputs": [
    {
     "name": "stdout",
     "output_type": "stream",
     "text": [
      "|===========================================================================|\n",
      "|                  PyTorch CUDA memory summary, device ID 0                 |\n",
      "|---------------------------------------------------------------------------|\n",
      "|            CUDA OOMs: 0            |        cudaMalloc retries: 0         |\n",
      "|===========================================================================|\n",
      "|        Metric         | Cur Usage  | Peak Usage | Tot Alloc  | Tot Freed  |\n",
      "|---------------------------------------------------------------------------|\n",
      "| Allocated memory      |       0 B  |  496640 B  |  141505 KB |  141505 KB |\n",
      "|       from large pool |       0 B  |       0 B  |       0 KB |       0 KB |\n",
      "|       from small pool |       0 B  |  496640 B  |  141505 KB |  141505 KB |\n",
      "|---------------------------------------------------------------------------|\n",
      "| Active memory         |       0 B  |  496640 B  |  141505 KB |  141505 KB |\n",
      "|       from large pool |       0 B  |       0 B  |       0 KB |       0 KB |\n",
      "|       from small pool |       0 B  |  496640 B  |  141505 KB |  141505 KB |\n",
      "|---------------------------------------------------------------------------|\n",
      "| GPU reserved memory   |    2048 KB |    2048 KB |    2048 KB |       0 B  |\n",
      "|       from large pool |       0 KB |       0 KB |       0 KB |       0 B  |\n",
      "|       from small pool |    2048 KB |    2048 KB |    2048 KB |       0 B  |\n",
      "|---------------------------------------------------------------------------|\n",
      "| Non-releasable memory |       0 B  |    2047 KB |  143552 KB |  143552 KB |\n",
      "|       from large pool |       0 B  |       0 KB |       0 KB |       0 KB |\n",
      "|       from small pool |       0 B  |    2047 KB |  143552 KB |  143552 KB |\n",
      "|---------------------------------------------------------------------------|\n",
      "| Allocations           |       0    |      58    |    6530    |    6530    |\n",
      "|       from large pool |       0    |       0    |       0    |       0    |\n",
      "|       from small pool |       0    |      58    |    6530    |    6530    |\n",
      "|---------------------------------------------------------------------------|\n",
      "| Active allocs         |       0    |      58    |    6530    |    6530    |\n",
      "|       from large pool |       0    |       0    |       0    |       0    |\n",
      "|       from small pool |       0    |      58    |    6530    |    6530    |\n",
      "|---------------------------------------------------------------------------|\n",
      "| GPU reserved segments |       1    |       1    |       1    |       0    |\n",
      "|       from large pool |       0    |       0    |       0    |       0    |\n",
      "|       from small pool |       1    |       1    |       1    |       0    |\n",
      "|---------------------------------------------------------------------------|\n",
      "| Non-releasable allocs |       0    |      12    |    2979    |    2979    |\n",
      "|       from large pool |       0    |       0    |       0    |       0    |\n",
      "|       from small pool |       0    |      12    |    2979    |    2979    |\n",
      "|===========================================================================|\n",
      "\n"
     ]
    }
   ],
   "source": [
    "# Ran without profiler\n",
    "print(torch.cuda.memory_summary(cuda0))"
   ]
  },
  {
   "cell_type": "code",
   "execution_count": 21,
   "metadata": {},
   "outputs": [
    {
     "name": "stdout",
     "output_type": "stream",
     "text": [
      "|===========================================================================|\n",
      "|                  PyTorch CUDA memory summary, device ID 0                 |\n",
      "|---------------------------------------------------------------------------|\n",
      "|            CUDA OOMs: 0            |        cudaMalloc retries: 0         |\n",
      "|===========================================================================|\n",
      "|        Metric         | Cur Usage  | Peak Usage | Tot Alloc  | Tot Freed  |\n",
      "|---------------------------------------------------------------------------|\n",
      "| Allocated memory      |    1152 MB |    1553 MB |   49947 GB |   49946 GB |\n",
      "|       from large pool |    1152 MB |    1528 MB |   49922 GB |   49921 GB |\n",
      "|       from small pool |       0 MB |      25 MB |      25 GB |      25 GB |\n",
      "|---------------------------------------------------------------------------|\n",
      "| Active memory         |    1152 MB |    1553 MB |   49947 GB |   49946 GB |\n",
      "|       from large pool |    1152 MB |    1528 MB |   49922 GB |   49921 GB |\n",
      "|       from small pool |       0 MB |      25 MB |      25 GB |      25 GB |\n",
      "|---------------------------------------------------------------------------|\n",
      "| GPU reserved memory   |    1574 MB |    1574 MB |    1574 MB |       0 B  |\n",
      "|       from large pool |    1548 MB |    1548 MB |    1548 MB |       0 B  |\n",
      "|       from small pool |      26 MB |      26 MB |      26 MB |       0 B  |\n",
      "|---------------------------------------------------------------------------|\n",
      "| Non-releasable memory |    1180 KB |    6176 KB |   39260 MB |   39259 MB |\n",
      "|       from large pool |       0 KB |       0 KB |       0 MB |       0 MB |\n",
      "|       from small pool |    1180 KB |    6176 KB |   39260 MB |   39259 MB |\n",
      "|---------------------------------------------------------------------------|\n",
      "| Allocations           |      32    |   50055    |    2440 K  |    2439 K  |\n",
      "|       from large pool |      12    |      27    |    1530 K  |    1529 K  |\n",
      "|       from small pool |      20    |   50028    |     910 K  |     909 K  |\n",
      "|---------------------------------------------------------------------------|\n",
      "| Active allocs         |      32    |   50055    |    2440 K  |    2439 K  |\n",
      "|       from large pool |      12    |      27    |    1530 K  |    1529 K  |\n",
      "|       from small pool |      20    |   50028    |     910 K  |     909 K  |\n",
      "|---------------------------------------------------------------------------|\n",
      "| GPU reserved segments |      41    |      41    |      41    |       0    |\n",
      "|       from large pool |      28    |      28    |      28    |       0    |\n",
      "|       from small pool |      13    |      13    |      13    |       0    |\n",
      "|---------------------------------------------------------------------------|\n",
      "| Non-releasable allocs |       4    |    5003    |  384366    |  384362    |\n",
      "|       from large pool |       0    |       0    |       0    |       0    |\n",
      "|       from small pool |       4    |    5003    |  384366    |  384362    |\n",
      "|===========================================================================|\n",
      "\n"
     ]
    }
   ],
   "source": [
    "# Ran without profiler\n",
    "# args.hidden_layer_dims = [5000, 5000, 5000, 5000, 5000, 5000, 5000]\n",
    "# 5000 epochs\"\n",
    "print(torch.cuda.memory_summary(cuda0))"
   ]
  },
  {
   "cell_type": "code",
   "execution_count": null,
   "metadata": {},
   "outputs": [],
   "source": []
  }
 ],
 "metadata": {
  "kernelspec": {
   "display_name": "Python 3",
   "language": "python",
   "name": "python3"
  },
  "language_info": {
   "codemirror_mode": {
    "name": "ipython",
    "version": 3
   },
   "file_extension": ".py",
   "mimetype": "text/x-python",
   "name": "python",
   "nbconvert_exporter": "python",
   "pygments_lexer": "ipython3",
   "version": "3.7.9"
  }
 },
 "nbformat": 4,
 "nbformat_minor": 4
}
