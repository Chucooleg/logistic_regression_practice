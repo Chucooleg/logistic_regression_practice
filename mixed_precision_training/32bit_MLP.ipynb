{
 "cells": [
  {
   "cell_type": "code",
   "execution_count": 1,
   "metadata": {},
   "outputs": [],
   "source": [
    "import sys\n",
    "sys.path.append(\"../\")\n",
    "\n",
    "import torch\n",
    "import torch.nn as nn\n",
    "from torch.utils.data import Dataset, DataLoader\n",
    "import torch.autograd.profiler as profiler\n",
    "\n",
    "import matplotlib.pyplot as plt\n",
    "%matplotlib inline\n",
    "\n",
    "import os\n",
    "import time, gc\n",
    "from progressbar import progressbar\n",
    "import numpy as np\n",
    "from sklearn.datasets import make_classification\n",
    "from collections import defaultdict\n",
    "from argparse import ArgumentDefaultsHelpFormatter, ArgumentParser\n",
    "\n",
    "from utils.moduleCodeProfiler import rankByCriteria"
   ]
  },
  {
   "cell_type": "code",
   "execution_count": 2,
   "metadata": {},
   "outputs": [
    {
     "name": "stdout",
     "output_type": "stream",
     "text": [
      "Wed Nov 25 23:17:33 2020       \r\n",
      "+-----------------------------------------------------------------------------+\r\n",
      "| NVIDIA-SMI 455.32.00    Driver Version: 455.32.00    CUDA Version: 11.1     |\r\n",
      "|-------------------------------+----------------------+----------------------+\r\n",
      "| GPU  Name        Persistence-M| Bus-Id        Disp.A | Volatile Uncorr. ECC |\r\n",
      "| Fan  Temp  Perf  Pwr:Usage/Cap|         Memory-Usage | GPU-Util  Compute M. |\r\n",
      "|                               |                      |               MIG M. |\r\n",
      "|===============================+======================+======================|\r\n",
      "|   0  Tesla V100-PCIE...  On   | 0000BCA9:00:00.0 Off |                  Off |\r\n",
      "| N/A   31C    P0    30W / 250W |      0MiB / 16160MiB |      0%      Default |\r\n",
      "|                               |                      |                  N/A |\r\n",
      "+-------------------------------+----------------------+----------------------+\r\n",
      "                                                                               \r\n",
      "+-----------------------------------------------------------------------------+\r\n",
      "| Processes:                                                                  |\r\n",
      "|  GPU   GI   CI        PID   Type   Process name                  GPU Memory |\r\n",
      "|        ID   ID                                                   Usage      |\r\n",
      "|=============================================================================|\r\n",
      "|  No running processes found                                                 |\r\n",
      "+-----------------------------------------------------------------------------+\r\n"
     ]
    }
   ],
   "source": [
    "!nvidia-smi"
   ]
  },
  {
   "cell_type": "code",
   "execution_count": 3,
   "metadata": {},
   "outputs": [],
   "source": [
    "cuda0 = torch.device('cuda:0') "
   ]
  },
  {
   "cell_type": "code",
   "execution_count": 4,
   "metadata": {},
   "outputs": [],
   "source": [
    "parser = ArgumentParser(formatter_class=ArgumentDefaultsHelpFormatter)\n",
    "args = parser.parse_args('')\n",
    "\n",
    "args.data_dir = '~/datadrive'\n",
    "args.dataset_dir = 'toy_mlp_1'\n",
    "args.seed = 123\n",
    "args.batch_size = 1000\n",
    "# Large\n",
    "# args.hidden_layer_dims = [5000, 5000, 5000, 5000, 5000, 5000, 5000]\n",
    "# Medium\n",
    "# args.hidden_layer_dims = [500, 500, 500, 500, 500, 500, 500]\n",
    "# Small\n",
    "args.hidden_layer_dims = [50, 50, 50, 50, 50, 50, 50]\n",
    "args.lr = 0.01\n",
    "args.epochs = 2000"
   ]
  },
  {
   "cell_type": "markdown",
   "metadata": {},
   "source": [
    "## Toy Data Generation"
   ]
  },
  {
   "cell_type": "code",
   "execution_count": 5,
   "metadata": {},
   "outputs": [
    {
     "name": "stdout",
     "output_type": "stream",
     "text": [
      "First 10 training indices [1603 8472 2213  498 1038 8399 3324 7535 1519 1959]\n",
      "X shape (9000, 1000)\n",
      "y shape (9000,)\n"
     ]
    }
   ],
   "source": [
    "# construct and save toydataset\n",
    "\n",
    "m_train = 9000\n",
    "m_total = m_train\n",
    "\n",
    "# EASY\n",
    "# X, y = make_classification(n_samples=m_total, n_features=10, n_informative=10, n_redundant=0, n_repeated=0, n_classes=5, n_clusters_per_class=2, weights=None, flip_y=0.01, class_sep=1.0, hypercube=True, shift=0.0, scale=1.0, shuffle=True, random_state=args.seed)\n",
    "# HARD\n",
    "X, y = make_classification(n_samples=m_total, n_features=1000, n_informative=500, n_redundant=0, n_repeated=0, n_classes=1000, n_clusters_per_class=2, weights=None, flip_y=0.01, class_sep=1.0, hypercube=True, shift=0.0, scale=1.0, shuffle=True, random_state=args.seed)\n",
    "\n",
    "\n",
    "np.random.seed(args.seed)\n",
    "permutation = np.random.permutation(m_total)\n",
    "print('First 10 training indices', permutation[:10])\n",
    "print('X shape', X.shape)\n",
    "print('y shape', y.shape)\n",
    "\n",
    "train_indices = permutation[0:m_train]\n",
    "\n",
    "dataset_dir = 'toy_mlp_1'\n",
    "os.makedirs(os.path.join(args.data_dir, dataset_dir, 'train'), mode = 0o777, exist_ok = True) \n",
    "\n",
    "np.save(os.path.join(args.data_dir, dataset_dir, 'train', 'features.npy'), X[train_indices])\n",
    "np.save(os.path.join(args.data_dir, dataset_dir, 'train', 'labels.npy'), y[train_indices])"
   ]
  },
  {
   "cell_type": "code",
   "execution_count": 8,
   "metadata": {},
   "outputs": [],
   "source": [
    "class ToyDataset(Dataset):\n",
    "    \"\"\"Toy dataset construction.\"\"\"\n",
    "\n",
    "    def __init__(self, data_dir):\n",
    "        \"\"\"\n",
    "        Args:\n",
    "            data_dir (string): Path to the directory with data files.\n",
    "            transform (callable, optional): Optional transform to be applied\n",
    "                on a sample.\n",
    "        \"\"\"\n",
    "        # shape (m, nx)\n",
    "        self.X = np.load(os.path.join(data_dir, 'features.npy'))\n",
    "        # shape (m, ny=1)\n",
    "        self.y = np.load(os.path.join(data_dir, 'labels.npy'))\n",
    "        \n",
    "\n",
    "    def __len__(self):\n",
    "        return self.X.shape[0]\n",
    "\n",
    "    def __getitem__(self, idx):\n",
    "        if torch.is_tensor(idx):\n",
    "            idx = idx.tolist()\n",
    "        else:\n",
    "            X = torch.from_numpy(self.X[idx, :]).type(torch.FloatTensor)\n",
    "            y = torch.tensor(self.y[idx], dtype=torch.long)\n",
    "            sample = {'X': X, 'y': y}\n",
    "\n",
    "        return sample"
   ]
  },
  {
   "cell_type": "markdown",
   "metadata": {},
   "source": [
    "## Model"
   ]
  },
  {
   "cell_type": "code",
   "execution_count": 6,
   "metadata": {},
   "outputs": [],
   "source": [
    "class MLPLazy(nn.Module):\n",
    "\n",
    "    def __init__(self, nx, hidden_layer_dims, ny):\n",
    "        super(MLPLazy, self).__init__()\n",
    "        self.hidden_layer_dims = hidden_layer_dims\n",
    "        \n",
    "        linear_layers = []\n",
    "        last_dim = nx\n",
    "        for next_dim in hidden_layer_dims:\n",
    "            linear_layer = nn.Linear(last_dim, next_dim)\n",
    "            linear_layers.append(linear_layer)\n",
    "            last_dim = next_dim\n",
    "        # should push to ModuleList so that params stay on cuda\n",
    "        self.linear_layers = nn.ModuleList(linear_layers)\n",
    "        self.scorer = nn.Linear(last_dim, ny)\n",
    "\n",
    "    def forward(self, X):\n",
    "        '''\n",
    "        X has shape (m, nx)\n",
    "        '''\n",
    "        last_X = X\n",
    "        for i, linear_layer in enumerate(self.linear_layers):\n",
    "            # shape (m, self.hidden_layer_dims[i])\n",
    "            last_X = linear_layer(last_X)\n",
    "            # shape (m, self.hidden_layer_dims[i])\n",
    "            last_X = torch.relu(last_X)\n",
    "        # shape (m, ny)\n",
    "        z = self.scorer(last_X)\n",
    "        # shape (m, ny)\n",
    "        a = torch.softmax(z, dim=1)\n",
    "        return z, a"
   ]
  },
  {
   "cell_type": "markdown",
   "metadata": {},
   "source": [
    "## Timer"
   ]
  },
  {
   "cell_type": "code",
   "execution_count": 11,
   "metadata": {},
   "outputs": [],
   "source": [
    "def start_timer():\n",
    "    global start_time\n",
    "    torch.cuda.synchronize()\n",
    "    start_time = time.time()\n",
    "\n",
    "def end_timer():\n",
    "    torch.cuda.synchronize()\n",
    "    end_time = time.time()\n",
    "    return end_time - start_time"
   ]
  },
  {
   "cell_type": "markdown",
   "metadata": {},
   "source": [
    "## Worflow"
   ]
  },
  {
   "cell_type": "code",
   "execution_count": 12,
   "metadata": {},
   "outputs": [],
   "source": [
    "def check_weights_precision(model):\n",
    "    '''specific to checking MLP'''\n",
    "    for i, layer in enumerate(model.linear_layers):\n",
    "        print(f'layer {i}, weight dtype {layer.weight.dtype}')\n",
    "        print(f'layer {i}, bias dtype {layer.bias.dtype}')\n",
    "    print(f'scorer weight dtype {model.scorer.weight.dtype}')\n",
    "    print(f'scorer bias dtype {model.scorer.bias.dtype}')"
   ]
  },
  {
   "cell_type": "code",
   "execution_count": 13,
   "metadata": {},
   "outputs": [],
   "source": [
    "def get_max_memory_alloc():\n",
    "    devices_max_memory_alloc = {}\n",
    "    for i in range(torch.cuda.device_count()):\n",
    "        device = torch.device(f'cuda:{i}')\n",
    "        devices_max_memory_alloc[f'cuda:{i}'] = torch.cuda.max_memory_allocated(device) / 1e6\n",
    "        torch.cuda.reset_max_memory_allocated(device)\n",
    "    return devices_max_memory_alloc"
   ]
  },
  {
   "cell_type": "code",
   "execution_count": 14,
   "metadata": {},
   "outputs": [],
   "source": [
    "def main_train(args, gpu=0, debug=False):\n",
    "\n",
    "    start_timer()\n",
    "    torch.manual_seed(args.seed)\n",
    "    \n",
    "    ################################################################\n",
    "    # load datasets\n",
    "    training_set = ToyDataset(data_dir=os.path.join(args.data_dir, args.dataset_dir, 'train'))\n",
    "    training_generator = torch.utils.data.DataLoader(dataset=training_set, \n",
    "                                                        batch_size=args.batch_size, \n",
    "                                                        shuffle=True, \n",
    "                                                        num_workers=0, \n",
    "                                                        pin_memory=True)\n",
    "\n",
    "    nx = training_set.X.shape[1]\n",
    "    ny = max(training_set.y) + 1\n",
    "    ################################################################\n",
    "\n",
    "    model = MLPLazy(nx, args.hidden_layer_dims, ny)  # single\n",
    "    loss_criterion = nn.CrossEntropyLoss(reduction='mean')\n",
    "    torch.cuda.set_device(gpu)\n",
    "    model.to(device=gpu)    \n",
    "\n",
    "    opt = torch.optim.SGD(model.parameters(), lr=args.lr)  # half\n",
    "    if debug:\n",
    "        print('\\nmodel weights at init')\n",
    "        check_weights_precision(model)\n",
    "\n",
    "    history = {\n",
    "        'epoch_train_losses': [], 'step_train_losses': [], 'max_memory_allocation':[], \n",
    "         'timing': defaultdict(int)\n",
    "    }\n",
    "    history['timing']['setup'] += end_timer()\n",
    "    \n",
    "    loop_start_time = time.time()\n",
    "    \n",
    "    for e in progressbar(range(args.epochs)):\n",
    "        start_timer()\n",
    "        model.train()\n",
    "        sum_batch_losses = torch.tensor([0.], dtype=torch.float, device=gpu)\n",
    "        all_batch_losses = []\n",
    "        batch_max_memory_alloc = []\n",
    "        history['timing']['epoch_setup'] += end_timer()\n",
    "        \n",
    "        epoch_start_time = time.time()\n",
    "        for batch_i, batch_data in enumerate(training_generator):\n",
    "            batch_start_time = time.time()\n",
    "            \n",
    "            start_timer()\n",
    "            batch_max_memory_alloc.append(get_max_memory_alloc()['cuda:0'])\n",
    "            history['timing']['get_memory'] += end_timer()\n",
    "\n",
    "            start_timer()\n",
    "            batch_X = batch_data['X'].cuda(gpu, non_blocking=True) # single\n",
    "            batch_y = batch_data['y'].cuda(gpu, non_blocking=True) # long\n",
    "            history['timing']['data'] += end_timer()\n",
    "            \n",
    "            start_timer()\n",
    "            logits, activations = model(batch_X) # single\n",
    "            history['timing']['forward'] += end_timer()\n",
    "\n",
    "            start_timer()\n",
    "            loss = loss_criterion(logits, batch_y)  # single\n",
    "            history['timing']['loss'] += end_timer()\n",
    "            \n",
    "            start_timer()\n",
    "            opt.zero_grad()\n",
    "            history['timing']['zero_grad'] += end_timer()\n",
    "            \n",
    "            start_timer()\n",
    "            loss.backward()  # single\n",
    "            history['timing']['backward'] += end_timer()\n",
    "            \n",
    "            start_timer()\n",
    "            opt.step()\n",
    "            history['timing']['opt_step'] += end_timer()\n",
    "            \n",
    "            start_timer()\n",
    "            sum_batch_losses += loss\n",
    "            all_batch_losses.append(loss)\n",
    "            history['timing']['append_losses'] += end_timer()\n",
    "            \n",
    "            history['timing']['batch_time'] += time.time() - batch_start_time\n",
    "\n",
    "        start_timer()\n",
    "        num_batches = batch_i + 1.\n",
    "        history['epoch_train_losses'].append(sum_batch_losses/num_batches)\n",
    "        history['step_train_losses'] += all_batch_losses\n",
    "        history['max_memory_allocation'] += batch_max_memory_alloc\n",
    "        history['timing']['append'] += end_timer()\n",
    "        \n",
    "        torch.cuda.synchronize()\n",
    "        history['timing']['epoch_end_time'] += time.time() - epoch_start_time\n",
    "        \n",
    "    torch.cuda.synchronize()\n",
    "    history['timing']['loop_end_time'] += time.time() - loop_start_time\n",
    "    \n",
    "    start_timer()\n",
    "    itemize = lambda x: [tensor_val.item() for tensor_val in x]\n",
    "    history['epoch_train_losses'] = itemize(history['epoch_train_losses'])   \n",
    "    history['step_train_losses'] = itemize(history['step_train_losses'])   \n",
    "    history['timing']['itemize_losses'] += end_timer()\n",
    "\n",
    "    return history, model"
   ]
  },
  {
   "cell_type": "markdown",
   "metadata": {},
   "source": [
    "# Train"
   ]
  },
  {
   "cell_type": "code",
   "execution_count": 15,
   "metadata": {
    "scrolled": true
   },
   "outputs": [
    {
     "name": "stdout",
     "output_type": "stream",
     "text": [
      "Wed Nov 25 22:37:27 2020       \r\n",
      "+-----------------------------------------------------------------------------+\r\n",
      "| NVIDIA-SMI 455.32.00    Driver Version: 455.32.00    CUDA Version: 11.1     |\r\n",
      "|-------------------------------+----------------------+----------------------+\r\n",
      "| GPU  Name        Persistence-M| Bus-Id        Disp.A | Volatile Uncorr. ECC |\r\n",
      "| Fan  Temp  Perf  Pwr:Usage/Cap|         Memory-Usage | GPU-Util  Compute M. |\r\n",
      "|                               |                      |               MIG M. |\r\n",
      "|===============================+======================+======================|\r\n",
      "|   0  Tesla V100-PCIE...  On   | 0000BCA9:00:00.0 Off |                  Off |\r\n",
      "| N/A   30C    P0    26W / 250W |      0MiB / 16160MiB |      0%      Default |\r\n",
      "|                               |                      |                  N/A |\r\n",
      "+-------------------------------+----------------------+----------------------+\r\n",
      "                                                                               \r\n",
      "+-----------------------------------------------------------------------------+\r\n",
      "| Processes:                                                                  |\r\n",
      "|  GPU   GI   CI        PID   Type   Process name                  GPU Memory |\r\n",
      "|        ID   ID                                                   Usage      |\r\n",
      "|=============================================================================|\r\n",
      "|  No running processes found                                                 |\r\n",
      "+-----------------------------------------------------------------------------+\r\n"
     ]
    }
   ],
   "source": [
    "!nvidia-smi"
   ]
  },
  {
   "cell_type": "markdown",
   "metadata": {},
   "source": [
    "## Large"
   ]
  },
  {
   "cell_type": "code",
   "execution_count": 17,
   "metadata": {
    "scrolled": false
   },
   "outputs": [
    {
     "name": "stderr",
     "output_type": "stream",
     "text": [
      "\r",
      "N/A% (0 of 2000) |                       | Elapsed Time: 0:00:00 ETA:  --:--:--"
     ]
    },
    {
     "name": "stdout",
     "output_type": "stream",
     "text": [
      "\n",
      "model weights at init\n",
      "layer 0, weight dtype torch.float32\n",
      "layer 0, bias dtype torch.float32\n",
      "layer 1, weight dtype torch.float32\n",
      "layer 1, bias dtype torch.float32\n",
      "layer 2, weight dtype torch.float32\n",
      "layer 2, bias dtype torch.float32\n",
      "layer 3, weight dtype torch.float32\n",
      "layer 3, bias dtype torch.float32\n",
      "layer 4, weight dtype torch.float32\n",
      "layer 4, bias dtype torch.float32\n",
      "layer 5, weight dtype torch.float32\n",
      "layer 5, bias dtype torch.float32\n",
      "layer 6, weight dtype torch.float32\n",
      "layer 6, bias dtype torch.float32\n",
      "scorer weight dtype torch.float32\n",
      "scorer bias dtype torch.float32\n"
     ]
    },
    {
     "name": "stderr",
     "output_type": "stream",
     "text": [
      "/anaconda/envs/py37_pytorch/lib/python3.7/site-packages/torch/cuda/memory.py:234: FutureWarning: torch.cuda.reset_max_memory_allocated now calls torch.cuda.reset_peak_memory_stats, which resets /all/ peak memory stats.\n",
      "  FutureWarning)\n",
      "100% (2000 of 2000) |####################| Elapsed Time: 0:33:31 Time:  0:33:31\n"
     ]
    },
    {
     "name": "stdout",
     "output_type": "stream",
     "text": [
      "2016.3684332370758\n"
     ]
    }
   ],
   "source": [
    "# hidden_layer_dims = [5000, 5000, 5000, 5000, 5000, 5000, 5000]\n",
    "# nx = 1000, n = 1000\n",
    "# epochs = 2000\n",
    "\n",
    "all_start_time = time.time()\n",
    "history, model = main_train(args, debug=True)\n",
    "torch.cuda.synchronize()\n",
    "print(time.time() - all_start_time)"
   ]
  },
  {
   "cell_type": "code",
   "execution_count": 18,
   "metadata": {},
   "outputs": [
    {
     "data": {
      "text/plain": [
       "160036000"
      ]
     },
     "execution_count": 18,
     "metadata": {},
     "output_type": "execute_result"
    }
   ],
   "source": [
    "pytorch_total_params = sum(p.numel() for p in model.parameters())\n",
    "pytorch_total_params"
   ]
  },
  {
   "cell_type": "markdown",
   "metadata": {},
   "source": [
    "## Medium"
   ]
  },
  {
   "cell_type": "code",
   "execution_count": 13,
   "metadata": {},
   "outputs": [
    {
     "name": "stderr",
     "output_type": "stream",
     "text": [
      "\r",
      "N/A% (0 of 2000) |                       | Elapsed Time: 0:00:00 ETA:  --:--:--"
     ]
    },
    {
     "name": "stdout",
     "output_type": "stream",
     "text": [
      "\n",
      "model weights at init\n",
      "layer 0, weight dtype torch.float32\n",
      "layer 0, bias dtype torch.float32\n",
      "layer 1, weight dtype torch.float32\n",
      "layer 1, bias dtype torch.float32\n",
      "layer 2, weight dtype torch.float32\n",
      "layer 2, bias dtype torch.float32\n",
      "layer 3, weight dtype torch.float32\n",
      "layer 3, bias dtype torch.float32\n",
      "layer 4, weight dtype torch.float32\n",
      "layer 4, bias dtype torch.float32\n",
      "layer 5, weight dtype torch.float32\n",
      "layer 5, bias dtype torch.float32\n",
      "layer 6, weight dtype torch.float32\n",
      "layer 6, bias dtype torch.float32\n",
      "scorer weight dtype torch.float32\n",
      "scorer bias dtype torch.float32\n"
     ]
    },
    {
     "name": "stderr",
     "output_type": "stream",
     "text": [
      "/anaconda/envs/py37_pytorch/lib/python3.7/site-packages/torch/cuda/memory.py:234: FutureWarning: torch.cuda.reset_max_memory_allocated now calls torch.cuda.reset_peak_memory_stats, which resets /all/ peak memory stats.\n",
      "  FutureWarning)\n",
      "100% (2000 of 2000) |####################| Elapsed Time: 0:09:27 Time:  0:09:27\n"
     ]
    },
    {
     "name": "stdout",
     "output_type": "stream",
     "text": [
      "570.5475082397461\n"
     ]
    }
   ],
   "source": [
    "# hidden_layer_dims = [500, 500, 500, 500, 500, 500, 500]\n",
    "# nx = 1000, n = 1000\n",
    "# epochs = 2000\n",
    "\n",
    "all_start_time = time.time()\n",
    "history, model = main_train(args, debug=True)\n",
    "torch.cuda.synchronize()\n",
    "print(time.time() - all_start_time)"
   ]
  },
  {
   "cell_type": "code",
   "execution_count": 14,
   "metadata": {},
   "outputs": [
    {
     "data": {
      "text/plain": [
       "2504500"
      ]
     },
     "execution_count": 14,
     "metadata": {},
     "output_type": "execute_result"
    }
   ],
   "source": [
    "pytorch_total_params = sum(p.numel() for p in model.parameters())\n",
    "pytorch_total_params"
   ]
  },
  {
   "cell_type": "markdown",
   "metadata": {},
   "source": [
    "## Small"
   ]
  },
  {
   "cell_type": "code",
   "execution_count": 16,
   "metadata": {},
   "outputs": [
    {
     "name": "stderr",
     "output_type": "stream",
     "text": [
      "\r",
      "N/A% (0 of 2000) |                       | Elapsed Time: 0:00:00 ETA:  --:--:--"
     ]
    },
    {
     "name": "stdout",
     "output_type": "stream",
     "text": [
      "\n",
      "model weights at init\n",
      "layer 0, weight dtype torch.float32\n",
      "layer 0, bias dtype torch.float32\n",
      "layer 1, weight dtype torch.float32\n",
      "layer 1, bias dtype torch.float32\n",
      "layer 2, weight dtype torch.float32\n",
      "layer 2, bias dtype torch.float32\n",
      "layer 3, weight dtype torch.float32\n",
      "layer 3, bias dtype torch.float32\n",
      "layer 4, weight dtype torch.float32\n",
      "layer 4, bias dtype torch.float32\n",
      "layer 5, weight dtype torch.float32\n",
      "layer 5, bias dtype torch.float32\n",
      "layer 6, weight dtype torch.float32\n",
      "layer 6, bias dtype torch.float32\n",
      "scorer weight dtype torch.float32\n",
      "scorer bias dtype torch.float32\n"
     ]
    },
    {
     "name": "stderr",
     "output_type": "stream",
     "text": [
      "/anaconda/envs/py37_pytorch/lib/python3.7/site-packages/torch/cuda/memory.py:234: FutureWarning: torch.cuda.reset_max_memory_allocated now calls torch.cuda.reset_peak_memory_stats, which resets /all/ peak memory stats.\n",
      "  FutureWarning)\n",
      "100% (2000 of 2000) |####################| Elapsed Time: 0:09:16 Time:  0:09:16\n"
     ]
    },
    {
     "name": "stdout",
     "output_type": "stream",
     "text": [
      "559.5235495567322\n"
     ]
    }
   ],
   "source": [
    "# hidden_layer_dims = [50, 50, 50, 50, 50, 50, 50]\n",
    "# nx = 1000, n = 1000\n",
    "# epochs = 2000\n",
    "\n",
    "all_start_time = time.time()\n",
    "history, model = main_train(args, debug=True)\n",
    "torch.cuda.synchronize()\n",
    "print(time.time() - all_start_time)"
   ]
  },
  {
   "cell_type": "code",
   "execution_count": 17,
   "metadata": {},
   "outputs": [
    {
     "data": {
      "text/plain": [
       "116350"
      ]
     },
     "execution_count": 17,
     "metadata": {},
     "output_type": "execute_result"
    }
   ],
   "source": [
    "pytorch_total_params = sum(p.numel() for p in model.parameters())\n",
    "pytorch_total_params"
   ]
  },
  {
   "cell_type": "markdown",
   "metadata": {},
   "source": [
    "## Use Profiler (Very slow)"
   ]
  },
  {
   "cell_type": "code",
   "execution_count": 23,
   "metadata": {},
   "outputs": [
    {
     "name": "stdout",
     "output_type": "stream",
     "text": [
      "\n",
      "model weights at init\n",
      "layer 0, weight dtype torch.float32\n",
      "layer 0, bias dtype torch.float32\n",
      "layer 1, weight dtype torch.float32\n",
      "layer 1, bias dtype torch.float32\n",
      "layer 2, weight dtype torch.float32\n",
      "layer 2, bias dtype torch.float32\n",
      "layer 3, weight dtype torch.float32\n",
      "layer 3, bias dtype torch.float32\n",
      "scorer weight dtype torch.float32\n",
      "scorer bias dtype torch.float32\n"
     ]
    },
    {
     "name": "stderr",
     "output_type": "stream",
     "text": [
      "/anaconda/envs/py37_pytorch/lib/python3.7/site-packages/torch/cuda/memory.py:234: FutureWarning: torch.cuda.reset_max_memory_allocated now calls torch.cuda.reset_peak_memory_stats, which resets /all/ peak memory stats.\n",
      "  FutureWarning)\n"
     ]
    }
   ],
   "source": [
    "with profiler.profile(profile_memory=True, record_shapes=True, use_cuda=False, with_stack=True) as prof:\n",
    "    with profiler.record_function(\"forward\"):\n",
    "        history, model = main_train(args, debug=True)"
   ]
  },
  {
   "cell_type": "markdown",
   "metadata": {},
   "source": [
    "## Time data loading only"
   ]
  },
  {
   "cell_type": "code",
   "execution_count": null,
   "metadata": {},
   "outputs": [],
   "source": [
    "training_set = ToyDataset(data_dir=os.path.join(args.data_dir, args.dataset_dir, 'train'))\n",
    "training_generator = torch.utils.data.DataLoader(dataset=training_set, \n",
    "                                                    batch_size=args.batch_size, \n",
    "                                                    shuffle=True, \n",
    "                                                    num_workers=0, \n",
    "                                                    pin_memory=True)\n",
    "\n",
    "\n",
    "start_time = time.time()\n",
    "\n",
    "for _ in range(2000):\n",
    "    for batch_i, batch_data in enumerate(training_generator):\n",
    "        pass\n",
    "    \n",
    "torch.cuda.synchronize()  \n",
    "end_time = time.time() - start_time"
   ]
  },
  {
   "cell_type": "code",
   "execution_count": 16,
   "metadata": {},
   "outputs": [
    {
     "data": {
      "text/plain": [
       "466.3741707801819"
      ]
     },
     "execution_count": 16,
     "metadata": {},
     "output_type": "execute_result"
    }
   ],
   "source": [
    "end_time"
   ]
  },
  {
   "cell_type": "markdown",
   "metadata": {},
   "source": [
    "# Running Time"
   ]
  },
  {
   "cell_type": "markdown",
   "metadata": {},
   "source": [
    "## Large"
   ]
  },
  {
   "cell_type": "code",
   "execution_count": 19,
   "metadata": {},
   "outputs": [
    {
     "data": {
      "text/plain": [
       "defaultdict(int,\n",
       "            {'setup': 1.2063908576965332,\n",
       "             'epoch_setup': 0.5852973461151123,\n",
       "             'get_memory': 8.080153942108154,\n",
       "             'data': 7.159660577774048,\n",
       "             'forward': 463.7844760417938,\n",
       "             'loss': 3.890444278717041,\n",
       "             'zero_grad': 20.42591381072998,\n",
       "             'backward': 950.2828075885773,\n",
       "             'opt_step': 44.11492729187012,\n",
       "             'append_losses': 0.9116945266723633,\n",
       "             'batch_time': 1501.9459059238434,\n",
       "             'append': 0.20411300659179688,\n",
       "             'epoch_end_time': 2009.0518703460693,\n",
       "             'loop_end_time': 2011.5838084220886,\n",
       "             'itemize_losses': 0.5389406681060791})"
      ]
     },
     "execution_count": 19,
     "metadata": {},
     "output_type": "execute_result"
    }
   ],
   "source": [
    "# hidden_layer_dims = [5000, 5000, 5000, 5000, 5000, 5000, 5000]\n",
    "# nx = 1000, n = 1000\n",
    "# epochs = 2000\n",
    "\n",
    "history['timing']"
   ]
  },
  {
   "cell_type": "markdown",
   "metadata": {},
   "source": [
    "## Medium"
   ]
  },
  {
   "cell_type": "code",
   "execution_count": 15,
   "metadata": {},
   "outputs": [
    {
     "data": {
      "text/plain": [
       "defaultdict(int,\n",
       "            {'setup': 0.05584263801574707,\n",
       "             'epoch_setup': 0.5202579498291016,\n",
       "             'get_memory': 8.041525840759277,\n",
       "             'data': 7.016580581665039,\n",
       "             'forward': 18.62943196296692,\n",
       "             'loss': 2.2718722820281982,\n",
       "             'zero_grad': 7.677548408508301,\n",
       "             'backward': 30.34934973716736,\n",
       "             'opt_step': 6.616225004196167,\n",
       "             'append_losses': 0.5665023326873779,\n",
       "             'batch_time': 83.01606035232544,\n",
       "             'append': 0.14968180656433105,\n",
       "             'epoch_end_time': 565.2476806640625,\n",
       "             'loop_end_time': 567.6406726837158,\n",
       "             'itemize_losses': 0.5392510890960693})"
      ]
     },
     "execution_count": 15,
     "metadata": {},
     "output_type": "execute_result"
    }
   ],
   "source": [
    "# hidden_layer_dims = [500, 500, 500, 500, 500, 500, 500]\n",
    "# nx = 1000, n = 1000\n",
    "# epochs = 2000\n",
    "\n",
    "history['timing']"
   ]
  },
  {
   "cell_type": "markdown",
   "metadata": {},
   "source": [
    "## Small"
   ]
  },
  {
   "cell_type": "code",
   "execution_count": 18,
   "metadata": {},
   "outputs": [
    {
     "data": {
      "text/plain": [
       "defaultdict(int,\n",
       "            {'setup': 0.04005861282348633,\n",
       "             'epoch_setup': 0.5174105167388916,\n",
       "             'get_memory': 8.043792724609375,\n",
       "             'data': 7.057714223861694,\n",
       "             'forward': 17.52662181854248,\n",
       "             'loss': 2.277392864227295,\n",
       "             'zero_grad': 7.885619878768921,\n",
       "             'backward': 21.72707986831665,\n",
       "             'opt_step': 6.641302824020386,\n",
       "             'append_losses': 0.5806820392608643,\n",
       "             'batch_time': 73.58200693130493,\n",
       "             'append': 0.14058995246887207,\n",
       "             'epoch_end_time': 554.1439983844757,\n",
       "             'loop_end_time': 556.5187363624573,\n",
       "             'itemize_losses': 0.6178240776062012})"
      ]
     },
     "execution_count": 18,
     "metadata": {},
     "output_type": "execute_result"
    }
   ],
   "source": [
    "# hidden_layer_dims = [50, 50, 50, 50, 50, 50, 50]\n",
    "# nx = 1000, n = 1000\n",
    "# epochs = 2000\n",
    "\n",
    "history['timing']"
   ]
  },
  {
   "cell_type": "markdown",
   "metadata": {},
   "source": [
    "# Profiler Results (takes some time)"
   ]
  },
  {
   "cell_type": "code",
   "execution_count": null,
   "metadata": {},
   "outputs": [],
   "source": [
    "# ran for 5 epochs\n",
    "rankByCriteria(prof, model, criteria='cuda_memory_usage', per_thread=False, per_inp_shapes=False, include_external=False)"
   ]
  },
  {
   "cell_type": "code",
   "execution_count": null,
   "metadata": {},
   "outputs": [],
   "source": [
    "# ran for 5 epochs\n",
    "print(prof.key_averages().table(sort_by=\"cuda_time_total\", row_limit=10))"
   ]
  },
  {
   "cell_type": "code",
   "execution_count": null,
   "metadata": {},
   "outputs": [],
   "source": [
    "# ran for 5 epochs\n",
    "print(prof.key_averages().table(sort_by=\"cpu_time_total\", row_limit=10))"
   ]
  },
  {
   "cell_type": "code",
   "execution_count": null,
   "metadata": {},
   "outputs": [],
   "source": [
    "# ran for 5 epochs\n",
    "rankByCriteria(prof, model, criteria='cpu_time', per_thread=False, per_inp_shapes=False, include_external=False)"
   ]
  },
  {
   "cell_type": "code",
   "execution_count": null,
   "metadata": {},
   "outputs": [],
   "source": [
    "# ran for 5 epochs\n",
    "rankByCriteria(prof, model, criteria='cuda_time', per_thread=False, per_inp_shapes=False, include_external=False)"
   ]
  },
  {
   "cell_type": "markdown",
   "metadata": {},
   "source": [
    "# Training Results"
   ]
  },
  {
   "cell_type": "markdown",
   "metadata": {},
   "source": [
    "## Large"
   ]
  },
  {
   "cell_type": "code",
   "execution_count": 24,
   "metadata": {},
   "outputs": [
    {
     "data": {
      "text/plain": [
       "Text(0.5, 1.0, '32bit')"
      ]
     },
     "execution_count": 24,
     "metadata": {},
     "output_type": "execute_result"
    },
    {
     "data": {
      "image/png": "[encoded data removed]",
      "text/plain": [
       "<Figure size 432x288 with 1 Axes>"
      ]
     },
     "metadata": {
      "needs_background": "light"
     },
     "output_type": "display_data"
    }
   ],
   "source": [
    "# hidden_layer_dims = [5000, 5000, 5000, 5000, 5000, 5000, 5000]\n",
    "# nx = 1000, n = 1000\n",
    "# epochs = 2000\n",
    "\n",
    "plt.plot(np.arange(len(history['step_train_losses'])), np.array(history['step_train_losses']))\n",
    "plt.title('32bit')"
   ]
  },
  {
   "cell_type": "code",
   "execution_count": 23,
   "metadata": {},
   "outputs": [
    {
     "data": {
      "text/plain": [
       "Text(0.5, 1.0, '32bit')"
      ]
     },
     "execution_count": 23,
     "metadata": {},
     "output_type": "execute_result"
    },
    {
     "data": {
      "image/png": "[encoded data removed]",
      "text/plain": [
       "<Figure size 432x288 with 1 Axes>"
      ]
     },
     "metadata": {
      "needs_background": "light"
     },
     "output_type": "display_data"
    }
   ],
   "source": [
    "# hidden_layer_dims = [5000, 5000, 5000, 5000, 5000, 5000, 5000]\n",
    "# nx = 1000, n = 1000\n",
    "# epochs = 2000\n",
    "\n",
    "plt.plot(np.arange(len(history['epoch_train_losses'])), np.array(history['epoch_train_losses']))\n",
    "plt.title('32bit')"
   ]
  },
  {
   "cell_type": "code",
   "execution_count": 25,
   "metadata": {},
   "outputs": [
    {
     "data": {
      "text/plain": [
       "Text(0.5, 1.0, '32bit')"
      ]
     },
     "execution_count": 25,
     "metadata": {},
     "output_type": "execute_result"
    },
    {
     "data": {
      "image/png": "[encoded data removed]",
      "text/plain": [
       "<Figure size 432x288 with 1 Axes>"
      ]
     },
     "metadata": {
      "needs_background": "light"
     },
     "output_type": "display_data"
    }
   ],
   "source": [
    "# hidden_layer_dims = [5000, 5000, 5000, 5000, 5000, 5000, 5000]\n",
    "# nx = 1000, n = 1000\n",
    "# epochs = 2000\n",
    "\n",
    "plt.plot(np.arange(len(history['max_memory_allocation'])), np.array(history['max_memory_allocation']))\n",
    "plt.title('32bit')"
   ]
  },
  {
   "cell_type": "markdown",
   "metadata": {},
   "source": [
    "## Medium"
   ]
  },
  {
   "cell_type": "code",
   "execution_count": 16,
   "metadata": {},
   "outputs": [
    {
     "data": {
      "text/plain": [
       "Text(0.5, 1.0, '32bit')"
      ]
     },
     "execution_count": 16,
     "metadata": {},
     "output_type": "execute_result"
    },
    {
     "data": {
      "image/png": "[encoded data removed]",
      "text/plain": [
       "<Figure size 432x288 with 1 Axes>"
      ]
     },
     "metadata": {
      "needs_background": "light"
     },
     "output_type": "display_data"
    }
   ],
   "source": [
    "# hidden_layer_dims = [500, 500, 500, 500, 500, 500, 500]\n",
    "# nx = 1000, n = 1000\n",
    "# epochs = 2000\n",
    "\n",
    "plt.plot(np.arange(len(history['step_train_losses'])), np.array(history['step_train_losses']))\n",
    "plt.title('32bit')"
   ]
  },
  {
   "cell_type": "code",
   "execution_count": 17,
   "metadata": {},
   "outputs": [
    {
     "data": {
      "text/plain": [
       "Text(0.5, 1.0, '32bit')"
      ]
     },
     "execution_count": 17,
     "metadata": {},
     "output_type": "execute_result"
    },
    {
     "data": {
      "image/png": "[encoded data removed]",
      "text/plain": [
       "<Figure size 432x288 with 1 Axes>"
      ]
     },
     "metadata": {
      "needs_background": "light"
     },
     "output_type": "display_data"
    }
   ],
   "source": [
    "# hidden_layer_dims = [500, 500, 500, 500, 500, 500, 500]\n",
    "# nx = 1000, n = 1000\n",
    "# epochs = 2000\n",
    "\n",
    "plt.plot(np.arange(len(history['epoch_train_losses'])), np.array(history['epoch_train_losses']))\n",
    "plt.title('32bit')"
   ]
  },
  {
   "cell_type": "code",
   "execution_count": 18,
   "metadata": {},
   "outputs": [
    {
     "data": {
      "text/plain": [
       "Text(0.5, 1.0, '32bit')"
      ]
     },
     "execution_count": 18,
     "metadata": {},
     "output_type": "execute_result"
    },
    {
     "data": {
      "image/png": "[encoded data removed]",
      "text/plain": [
       "<Figure size 432x288 with 1 Axes>"
      ]
     },
     "metadata": {
      "needs_background": "light"
     },
     "output_type": "display_data"
    }
   ],
   "source": [
    "# hidden_layer_dims = [500, 500, 500, 500, 500, 500, 500]\n",
    "# nx = 1000, n = 1000\n",
    "# epochs = 2000\n",
    "\n",
    "plt.plot(np.arange(len(history['max_memory_allocation'])), np.array(history['max_memory_allocation']))\n",
    "plt.title('32bit')"
   ]
  },
  {
   "cell_type": "markdown",
   "metadata": {},
   "source": [
    "## Small"
   ]
  },
  {
   "cell_type": "code",
   "execution_count": 19,
   "metadata": {},
   "outputs": [
    {
     "data": {
      "text/plain": [
       "Text(0.5, 1.0, '32bit')"
      ]
     },
     "execution_count": 19,
     "metadata": {},
     "output_type": "execute_result"
    },
    {
     "data": {
      "image/png": "[encoded data removed]",
      "text/plain": [
       "<Figure size 432x288 with 1 Axes>"
      ]
     },
     "metadata": {
      "needs_background": "light"
     },
     "output_type": "display_data"
    }
   ],
   "source": [
    "# hidden_layer_dims = [50, 50, 50, 50, 50, 50, 50]\n",
    "# nx = 1000, n = 1000\n",
    "# epochs = 2000\n",
    "\n",
    "plt.plot(np.arange(len(history['step_train_losses'])), np.array(history['step_train_losses']))\n",
    "plt.title('32bit')"
   ]
  },
  {
   "cell_type": "code",
   "execution_count": 20,
   "metadata": {},
   "outputs": [
    {
     "data": {
      "text/plain": [
       "Text(0.5, 1.0, '32bit')"
      ]
     },
     "execution_count": 20,
     "metadata": {},
     "output_type": "execute_result"
    },
    {
     "data": {
      "image/png": "[encoded data removed]",
      "text/plain": [
       "<Figure size 432x288 with 1 Axes>"
      ]
     },
     "metadata": {
      "needs_background": "light"
     },
     "output_type": "display_data"
    }
   ],
   "source": [
    "# hidden_layer_dims = [50, 50, 50, 50, 50, 50, 50]\n",
    "# nx = 1000, n = 1000\n",
    "# epochs = 2000\n",
    "\n",
    "plt.plot(np.arange(len(history['epoch_train_losses'])), np.array(history['epoch_train_losses']))\n",
    "plt.title('32bit')"
   ]
  },
  {
   "cell_type": "code",
   "execution_count": 21,
   "metadata": {},
   "outputs": [
    {
     "data": {
      "text/plain": [
       "Text(0.5, 1.0, '32bit')"
      ]
     },
     "execution_count": 21,
     "metadata": {},
     "output_type": "execute_result"
    },
    {
     "data": {
      "image/png": "[encoded data removed]",
      "text/plain": [
       "<Figure size 432x288 with 1 Axes>"
      ]
     },
     "metadata": {
      "needs_background": "light"
     },
     "output_type": "display_data"
    }
   ],
   "source": [
    "# hidden_layer_dims = [50, 50, 50, 50, 50, 50, 50]\n",
    "# nx = 1000, n = 1000\n",
    "# epochs = 2000\n",
    "\n",
    "plt.plot(np.arange(len(history['max_memory_allocation'])), np.array(history['max_memory_allocation']))\n",
    "plt.title('32bit')"
   ]
  },
  {
   "cell_type": "markdown",
   "metadata": {},
   "source": [
    "# Nvidia Results"
   ]
  },
  {
   "cell_type": "markdown",
   "metadata": {},
   "source": [
    "## Large"
   ]
  },
  {
   "cell_type": "code",
   "execution_count": 26,
   "metadata": {},
   "outputs": [
    {
     "name": "stdout",
     "output_type": "stream",
     "text": [
      "Wed Nov 25 22:20:00 2020       \r\n",
      "+-----------------------------------------------------------------------------+\r\n",
      "| NVIDIA-SMI 455.32.00    Driver Version: 455.32.00    CUDA Version: 11.1     |\r\n",
      "|-------------------------------+----------------------+----------------------+\r\n",
      "| GPU  Name        Persistence-M| Bus-Id        Disp.A | Volatile Uncorr. ECC |\r\n",
      "| Fan  Temp  Perf  Pwr:Usage/Cap|         Memory-Usage | GPU-Util  Compute M. |\r\n",
      "|                               |                      |               MIG M. |\r\n",
      "|===============================+======================+======================|\r\n",
      "|   0  Tesla V100-PCIE...  On   | 0000BCA9:00:00.0 Off |                  Off |\r\n",
      "| N/A   33C    P0    37W / 250W |   2819MiB / 16160MiB |      0%      Default |\r\n",
      "|                               |                      |                  N/A |\r\n",
      "+-------------------------------+----------------------+----------------------+\r\n",
      "                                                                               \r\n",
      "+-----------------------------------------------------------------------------+\r\n",
      "| Processes:                                                                  |\r\n",
      "|  GPU   GI   CI        PID   Type   Process name                  GPU Memory |\r\n",
      "|        ID   ID                                                   Usage      |\r\n",
      "|=============================================================================|\r\n",
      "|    0   N/A  N/A     15296      C   ...s/py37_pytorch/bin/python     2815MiB |\r\n",
      "+-----------------------------------------------------------------------------+\r\n"
     ]
    }
   ],
   "source": [
    "# hidden_layer_dims = [5000, 5000, 5000, 5000, 5000, 5000, 5000]\n",
    "# nx = 1000, n = 1000\n",
    "# epochs = 2000\n",
    "!nvidia-smi"
   ]
  },
  {
   "cell_type": "code",
   "execution_count": 27,
   "metadata": {},
   "outputs": [
    {
     "name": "stdout",
     "output_type": "stream",
     "text": [
      "|===========================================================================|\n",
      "|                  PyTorch CUDA memory summary, device ID 0                 |\n",
      "|---------------------------------------------------------------------------|\n",
      "|            CUDA OOMs: 0            |        cudaMalloc retries: 0         |\n",
      "|===========================================================================|\n",
      "|        Metric         | Cur Usage  | Peak Usage | Tot Alloc  | Tot Freed  |\n",
      "|---------------------------------------------------------------------------|\n",
      "| Allocated memory      |    1232 MB |    1630 MB |   21093 GB |   21092 GB |\n",
      "|       from large pool |    1232 MB |    1620 MB |   21091 GB |   21089 GB |\n",
      "|       from small pool |       0 MB |      10 MB |       2 GB |       2 GB |\n",
      "|---------------------------------------------------------------------------|\n",
      "| Active memory         |    1232 MB |    1630 MB |   21093 GB |   21092 GB |\n",
      "|       from large pool |    1232 MB |    1620 MB |   21091 GB |   21089 GB |\n",
      "|       from small pool |       0 MB |      10 MB |       2 GB |       2 GB |\n",
      "|---------------------------------------------------------------------------|\n",
      "| GPU reserved memory   |    1700 MB |    1700 MB |    1700 MB |       0 B  |\n",
      "|       from large pool |    1688 MB |    1688 MB |    1688 MB |       0 B  |\n",
      "|       from small pool |      12 MB |      12 MB |      12 MB |       0 B  |\n",
      "|---------------------------------------------------------------------------|\n",
      "| Non-releasable memory |    1760 KB |   26378 KB |  656791 MB |  656789 MB |\n",
      "|       from large pool |       0 KB |   24386 KB |  651342 MB |  651342 MB |\n",
      "|       from small pool |    1760 KB |    4880 KB |    5449 MB |    5447 MB |\n",
      "|---------------------------------------------------------------------------|\n",
      "| Allocations           |      32    |   20055    |     976 K  |     975 K  |\n",
      "|       from large pool |      16    |      36    |     756 K  |     755 K  |\n",
      "|       from small pool |      16    |   20019    |     220 K  |     219 K  |\n",
      "|---------------------------------------------------------------------------|\n",
      "| Active allocs         |      32    |   20055    |     976 K  |     975 K  |\n",
      "|       from large pool |      16    |      36    |     756 K  |     755 K  |\n",
      "|       from small pool |      16    |   20019    |     220 K  |     219 K  |\n",
      "|---------------------------------------------------------------------------|\n",
      "| GPU reserved segments |      41    |      41    |      41    |       0    |\n",
      "|       from large pool |      35    |      35    |      35    |       0    |\n",
      "|       from small pool |       6    |       6    |       6    |       0    |\n",
      "|---------------------------------------------------------------------------|\n",
      "| Non-releasable allocs |       2    |    2005    |  133446    |  133444    |\n",
      "|       from large pool |       0    |       3    |   98995    |   98995    |\n",
      "|       from small pool |       2    |    2003    |   34451    |   34449    |\n",
      "|===========================================================================|\n",
      "\n"
     ]
    }
   ],
   "source": [
    "# hidden_layer_dims = [5000, 5000, 5000, 5000, 5000, 5000, 5000]\n",
    "# nx = 1000, n = 1000\n",
    "# epochs = 2000\n",
    "print(torch.cuda.memory_summary(cuda0))"
   ]
  },
  {
   "cell_type": "markdown",
   "metadata": {},
   "source": [
    "## Medium"
   ]
  },
  {
   "cell_type": "code",
   "execution_count": 19,
   "metadata": {},
   "outputs": [
    {
     "name": "stdout",
     "output_type": "stream",
     "text": [
      "Wed Nov 25 22:33:44 2020       \r\n",
      "+-----------------------------------------------------------------------------+\r\n",
      "| NVIDIA-SMI 455.32.00    Driver Version: 455.32.00    CUDA Version: 11.1     |\r\n",
      "|-------------------------------+----------------------+----------------------+\r\n",
      "| GPU  Name        Persistence-M| Bus-Id        Disp.A | Volatile Uncorr. ECC |\r\n",
      "| Fan  Temp  Perf  Pwr:Usage/Cap|         Memory-Usage | GPU-Util  Compute M. |\r\n",
      "|                               |                      |               MIG M. |\r\n",
      "|===============================+======================+======================|\r\n",
      "|   0  Tesla V100-PCIE...  On   | 0000BCA9:00:00.0 Off |                  Off |\r\n",
      "| N/A   32C    P0    38W / 250W |   1223MiB / 16160MiB |      0%      Default |\r\n",
      "|                               |                      |                  N/A |\r\n",
      "+-------------------------------+----------------------+----------------------+\r\n",
      "                                                                               \r\n",
      "+-----------------------------------------------------------------------------+\r\n",
      "| Processes:                                                                  |\r\n",
      "|  GPU   GI   CI        PID   Type   Process name                  GPU Memory |\r\n",
      "|        ID   ID                                                   Usage      |\r\n",
      "|=============================================================================|\r\n",
      "|    0   N/A  N/A     26670      C   ...s/py37_pytorch/bin/python     1219MiB |\r\n",
      "+-----------------------------------------------------------------------------+\r\n"
     ]
    }
   ],
   "source": [
    "# hidden_layer_dims = [500, 500, 500, 500, 500, 500, 500]\n",
    "# nx = 1000, n = 1000\n",
    "# epochs = 2000\n",
    "!nvidia-smi"
   ]
  },
  {
   "cell_type": "code",
   "execution_count": 20,
   "metadata": {},
   "outputs": [
    {
     "name": "stdout",
     "output_type": "stream",
     "text": [
      "|===========================================================================|\n",
      "|                  PyTorch CUDA memory summary, device ID 0                 |\n",
      "|---------------------------------------------------------------------------|\n",
      "|            CUDA OOMs: 0            |        cudaMalloc retries: 0         |\n",
      "|===========================================================================|\n",
      "|        Metric         | Cur Usage  | Peak Usage | Tot Alloc  | Tot Freed  |\n",
      "|---------------------------------------------------------------------------|\n",
      "| Allocated memory      |   20521 KB |   83209 KB |    1558 GB |    1558 GB |\n",
      "|       from large pool |    8761 KB |   61441 KB |    1457 GB |    1457 GB |\n",
      "|       from small pool |   11760 KB |   22747 KB |     101 GB |     101 GB |\n",
      "|---------------------------------------------------------------------------|\n",
      "| Active memory         |   20521 KB |   83209 KB |    1558 GB |    1558 GB |\n",
      "|       from large pool |    8761 KB |   61441 KB |    1457 GB |    1457 GB |\n",
      "|       from small pool |   11760 KB |   22747 KB |     101 GB |     101 GB |\n",
      "|---------------------------------------------------------------------------|\n",
      "| GPU reserved memory   |  106496 KB |  106496 KB |  106496 KB |       0 B  |\n",
      "|       from large pool |   81920 KB |   81920 KB |   81920 KB |       0 B  |\n",
      "|       from small pool |   24576 KB |   24576 KB |   24576 KB |       0 B  |\n",
      "|---------------------------------------------------------------------------|\n",
      "| Non-releasable memory |   32727 KB |   50402 KB |    1922 GB |    1922 GB |\n",
      "|       from large pool |   32199 KB |   47826 KB |    1816 GB |    1816 GB |\n",
      "|       from small pool |     528 KB |    4750 KB |     105 GB |     105 GB |\n",
      "|---------------------------------------------------------------------------|\n",
      "| Allocations           |      32    |   20055    |     976 K  |     975 K  |\n",
      "|       from large pool |       4    |      24    |     648 K  |     647 K  |\n",
      "|       from small pool |      28    |   20032    |     328 K  |     327 K  |\n",
      "|---------------------------------------------------------------------------|\n",
      "| Active allocs         |      32    |   20055    |     976 K  |     975 K  |\n",
      "|       from large pool |       4    |      24    |     648 K  |     647 K  |\n",
      "|       from small pool |      28    |   20032    |     328 K  |     327 K  |\n",
      "|---------------------------------------------------------------------------|\n",
      "| GPU reserved segments |      16    |      16    |      16    |       0    |\n",
      "|       from large pool |       4    |       4    |       4    |       0    |\n",
      "|       from small pool |      12    |      12    |      12    |       0    |\n",
      "|---------------------------------------------------------------------------|\n",
      "| Non-releasable allocs |      10    |    2007    |  369611    |  369601    |\n",
      "|       from large pool |       3    |       6    |  279010    |  279007    |\n",
      "|       from small pool |       7    |    2003    |   90601    |   90594    |\n",
      "|===========================================================================|\n",
      "\n"
     ]
    }
   ],
   "source": [
    "# hidden_layer_dims = [500, 500, 500, 500, 500, 500, 500]\n",
    "# nx = 1000, n = 1000\n",
    "# epochs = 2000\n",
    "print(torch.cuda.memory_summary(cuda0))"
   ]
  },
  {
   "cell_type": "markdown",
   "metadata": {},
   "source": [
    "## Small"
   ]
  },
  {
   "cell_type": "code",
   "execution_count": 22,
   "metadata": {},
   "outputs": [
    {
     "name": "stdout",
     "output_type": "stream",
     "text": [
      "Wed Nov 25 22:48:02 2020       \r\n",
      "+-----------------------------------------------------------------------------+\r\n",
      "| NVIDIA-SMI 455.32.00    Driver Version: 455.32.00    CUDA Version: 11.1     |\r\n",
      "|-------------------------------+----------------------+----------------------+\r\n",
      "| GPU  Name        Persistence-M| Bus-Id        Disp.A | Volatile Uncorr. ECC |\r\n",
      "| Fan  Temp  Perf  Pwr:Usage/Cap|         Memory-Usage | GPU-Util  Compute M. |\r\n",
      "|                               |                      |               MIG M. |\r\n",
      "|===============================+======================+======================|\r\n",
      "|   0  Tesla V100-PCIE...  On   | 0000BCA9:00:00.0 Off |                  Off |\r\n",
      "| N/A   32C    P0    37W / 250W |   1173MiB / 16160MiB |      0%      Default |\r\n",
      "|                               |                      |                  N/A |\r\n",
      "+-------------------------------+----------------------+----------------------+\r\n",
      "                                                                               \r\n",
      "+-----------------------------------------------------------------------------+\r\n",
      "| Processes:                                                                  |\r\n",
      "|  GPU   GI   CI        PID   Type   Process name                  GPU Memory |\r\n",
      "|        ID   ID                                                   Usage      |\r\n",
      "|=============================================================================|\r\n",
      "|    0   N/A  N/A     27231      C   ...s/py37_pytorch/bin/python     1169MiB |\r\n",
      "+-----------------------------------------------------------------------------+\r\n"
     ]
    }
   ],
   "source": [
    "# hidden_layer_dims = [50, 50, 50, 50, 50, 50, 50]\n",
    "# nx = 1000, n = 1000\n",
    "# epochs = 2000\n",
    "!nvidia-smi"
   ]
  },
  {
   "cell_type": "code",
   "execution_count": 23,
   "metadata": {},
   "outputs": [
    {
     "name": "stdout",
     "output_type": "stream",
     "text": [
      "|===========================================================================|\n",
      "|                  PyTorch CUDA memory summary, device ID 0                 |\n",
      "|---------------------------------------------------------------------------|\n",
      "|            CUDA OOMs: 0            |        cudaMalloc retries: 0         |\n",
      "|===========================================================================|\n",
      "|        Metric         | Cur Usage  | Peak Usage | Tot Alloc  | Tot Freed  |\n",
      "|---------------------------------------------------------------------------|\n",
      "| Allocated memory      |     917 KB |   38049 KB |  533120 MB |  533119 MB |\n",
      "|       from large pool |       0 KB |   24386 KB |  428668 MB |  428668 MB |\n",
      "|       from small pool |     917 KB |   14057 KB |  104451 MB |  104450 MB |\n",
      "|---------------------------------------------------------------------------|\n",
      "| Active memory         |     917 KB |   38049 KB |  533120 MB |  533119 MB |\n",
      "|       from large pool |       0 KB |   24386 KB |  428668 MB |  428668 MB |\n",
      "|       from small pool |     917 KB |   14057 KB |  104451 MB |  104450 MB |\n",
      "|---------------------------------------------------------------------------|\n",
      "| GPU reserved memory   |   55296 KB |   55296 KB |   55296 KB |       0 B  |\n",
      "|       from large pool |   40960 KB |   40960 KB |   40960 KB |       0 B  |\n",
      "|       from small pool |   14336 KB |   14336 KB |   14336 KB |       0 B  |\n",
      "|---------------------------------------------------------------------------|\n",
      "| Non-releasable memory |    3179 KB |   25060 KB |  766997 MB |  766994 MB |\n",
      "|       from large pool |       0 KB |   24386 KB |  651342 MB |  651342 MB |\n",
      "|       from small pool |    3179 KB |    9124 KB |  115655 MB |  115651 MB |\n",
      "|---------------------------------------------------------------------------|\n",
      "| Allocations           |      32    |   20055    |     976 K  |     975 K  |\n",
      "|       from large pool |       0    |       6    |     108 K  |     108 K  |\n",
      "|       from small pool |      32    |   20051    |     868 K  |     867 K  |\n",
      "|---------------------------------------------------------------------------|\n",
      "| Active allocs         |      32    |   20055    |     976 K  |     975 K  |\n",
      "|       from large pool |       0    |       6    |     108 K  |     108 K  |\n",
      "|       from small pool |      32    |   20051    |     868 K  |     867 K  |\n",
      "|---------------------------------------------------------------------------|\n",
      "| GPU reserved segments |       9    |       9    |       9    |       0    |\n",
      "|       from large pool |       2    |       2    |       2    |       0    |\n",
      "|       from small pool |       7    |       7    |       7    |       0    |\n",
      "|---------------------------------------------------------------------------|\n",
      "| Non-releasable allocs |       6    |    2005    |  583956    |  583950    |\n",
      "|       from large pool |       0    |       3    |   98995    |   98995    |\n",
      "|       from small pool |       6    |    2003    |  484961    |  484955    |\n",
      "|===========================================================================|\n",
      "\n"
     ]
    }
   ],
   "source": [
    "# hidden_layer_dims = [50, 50, 50, 50, 50, 50, 50]\n",
    "# nx = 1000, n = 1000\n",
    "# epochs = 2000\n",
    "print(torch.cuda.memory_summary(cuda0))"
   ]
  }
 ],
 "metadata": {
  "kernelspec": {
   "display_name": "Python 3",
   "language": "python",
   "name": "python3"
  },
  "language_info": {
   "codemirror_mode": {
    "name": "ipython",
    "version": 3
   },
   "file_extension": ".py",
   "mimetype": "text/x-python",
   "name": "python",
   "nbconvert_exporter": "python",
   "pygments_lexer": "ipython3",
   "version": "3.8.5"
  }
 },
 "nbformat": 4,
 "nbformat_minor": 4
}
