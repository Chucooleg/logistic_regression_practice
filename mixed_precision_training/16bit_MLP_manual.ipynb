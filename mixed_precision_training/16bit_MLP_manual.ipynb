{
 "cells": [
  {
   "cell_type": "code",
   "execution_count": 2,
   "metadata": {},
   "outputs": [],
   "source": [
    "import sys\n",
    "sys.path.append(\"../\")\n",
    "\n",
    "import torch\n",
    "import torch.nn as nn\n",
    "from torch.utils.data import Dataset, DataLoader\n",
    "import torch.autograd.profiler as profiler\n",
    "\n",
    "import apex.fp16_utils as fp16\n",
    "\n",
    "import os\n",
    "import time, gc\n",
    "from progressbar import progressbar\n",
    "import numpy as np\n",
    "from sklearn.datasets import make_classification\n",
    "from collections import defaultdict\n",
    "from argparse import ArgumentDefaultsHelpFormatter, ArgumentParser\n",
    "import matplotlib.pyplot as plt\n",
    "%matplotlib inline\n",
    "\n",
    "from utils.moduleCodeProfiler import rankByCriteria"
   ]
  },
  {
   "cell_type": "code",
   "execution_count": 3,
   "metadata": {
    "scrolled": false
   },
   "outputs": [
    {
     "name": "stdout",
     "output_type": "stream",
     "text": [
      "Wed Nov 25 22:48:38 2020       \r\n",
      "+-----------------------------------------------------------------------------+\r\n",
      "| NVIDIA-SMI 455.32.00    Driver Version: 455.32.00    CUDA Version: 11.1     |\r\n",
      "|-------------------------------+----------------------+----------------------+\r\n",
      "| GPU  Name        Persistence-M| Bus-Id        Disp.A | Volatile Uncorr. ECC |\r\n",
      "| Fan  Temp  Perf  Pwr:Usage/Cap|         Memory-Usage | GPU-Util  Compute M. |\r\n",
      "|                               |                      |               MIG M. |\r\n",
      "|===============================+======================+======================|\r\n",
      "|   0  Tesla V100-PCIE...  On   | 0000BCA9:00:00.0 Off |                  Off |\r\n",
      "| N/A   30C    P0    26W / 250W |      0MiB / 16160MiB |      0%      Default |\r\n",
      "|                               |                      |                  N/A |\r\n",
      "+-------------------------------+----------------------+----------------------+\r\n",
      "                                                                               \r\n",
      "+-----------------------------------------------------------------------------+\r\n",
      "| Processes:                                                                  |\r\n",
      "|  GPU   GI   CI        PID   Type   Process name                  GPU Memory |\r\n",
      "|        ID   ID                                                   Usage      |\r\n",
      "|=============================================================================|\r\n",
      "|  No running processes found                                                 |\r\n",
      "+-----------------------------------------------------------------------------+\r\n"
     ]
    }
   ],
   "source": [
    "!nvidia-smi"
   ]
  },
  {
   "cell_type": "code",
   "execution_count": 4,
   "metadata": {},
   "outputs": [],
   "source": [
    "cuda0 = torch.device('cuda:0') "
   ]
  },
  {
   "cell_type": "code",
   "execution_count": 5,
   "metadata": {},
   "outputs": [],
   "source": [
    "parser = ArgumentParser(formatter_class=ArgumentDefaultsHelpFormatter)\n",
    "args = parser.parse_args('')\n",
    "\n",
    "args.data_dir = '~/datadrive'\n",
    "args.dataset_dir = 'toy_mlp_1'\n",
    "args.seed = 123\n",
    "args.batch_size = 1000\n",
    "# args.hidden_layer_dims = [5000, 5000, 5000, 5000, 5000, 5000, 5000]\n",
    "# args.hidden_layer_dims = [500, 500, 500, 500, 500, 500, 500]\n",
    "args.hidden_layer_dims = [50, 50, 50, 50, 50, 50, 50]\n",
    "args.lr = 0.01\n",
    "args.epochs = 2000"
   ]
  },
  {
   "cell_type": "markdown",
   "metadata": {},
   "source": [
    "# Toy Data Generation"
   ]
  },
  {
   "cell_type": "code",
   "execution_count": 6,
   "metadata": {},
   "outputs": [
    {
     "name": "stdout",
     "output_type": "stream",
     "text": [
      "First 10 training indices [1603 8472 2213  498 1038 8399 3324 7535 1519 1959]\n",
      "X shape (9000, 1000)\n",
      "y shape (9000,)\n"
     ]
    }
   ],
   "source": [
    "# construct and save toydataset\n",
    "\n",
    "m_train = 9000\n",
    "m_total = m_train\n",
    "\n",
    "# EASY\n",
    "# X, y = make_classification(n_samples=m_total, n_features=10, n_informative=10, n_redundant=0, n_repeated=0, n_classes=5, n_clusters_per_class=2, weights=None, flip_y=0.01, class_sep=1.0, hypercube=True, shift=0.0, scale=1.0, shuffle=True, random_state=args.seed)\n",
    "# HARD\n",
    "X, y = make_classification(n_samples=m_total, n_features=1000, n_informative=500, n_redundant=0, n_repeated=0, n_classes=1000, n_clusters_per_class=2, weights=None, flip_y=0.01, class_sep=1.0, hypercube=True, shift=0.0, scale=1.0, shuffle=True, random_state=args.seed)\n",
    "\n",
    "\n",
    "np.random.seed(args.seed)\n",
    "permutation = np.random.permutation(m_total)\n",
    "print('First 10 training indices', permutation[:10])\n",
    "print('X shape', X.shape)\n",
    "print('y shape', y.shape)\n",
    "\n",
    "train_indices = permutation[0:m_train]\n",
    "\n",
    "dataset_dir = 'toy_mlp_1'\n",
    "os.makedirs(os.path.join(args.data_dir, dataset_dir, 'train'), mode = 0o777, exist_ok = True) \n",
    "\n",
    "np.save(os.path.join(args.data_dir, dataset_dir, 'train', 'features.npy'), X[train_indices])\n",
    "np.save(os.path.join(args.data_dir, dataset_dir, 'train', 'labels.npy'), y[train_indices])"
   ]
  },
  {
   "cell_type": "code",
   "execution_count": 7,
   "metadata": {},
   "outputs": [],
   "source": [
    "class ToyDataset(Dataset):\n",
    "    \"\"\"Toy dataset construction.\"\"\"\n",
    "\n",
    "    def __init__(self, data_dir):\n",
    "        \"\"\"\n",
    "        Args:\n",
    "            data_dir (string): Path to the directory with data files.\n",
    "            transform (callable, optional): Optional transform to be applied\n",
    "                on a sample.\n",
    "        \"\"\"\n",
    "        # shape (m, nx)\n",
    "        self.X = np.load(os.path.join(data_dir, 'features.npy'))\n",
    "        # shape (m, ny=1)\n",
    "        self.y = np.load(os.path.join(data_dir, 'labels.npy'))\n",
    "        \n",
    "\n",
    "    def __len__(self):\n",
    "        return self.X.shape[0]\n",
    "\n",
    "    def __getitem__(self, idx):\n",
    "        if torch.is_tensor(idx):\n",
    "            idx = idx.tolist()\n",
    "        else:\n",
    "            X = torch.from_numpy(self.X[idx, :]).type(torch.HalfTensor)\n",
    "            y = torch.tensor(self.y[idx], dtype=torch.long)\n",
    "#             y = torch.from_numpy(self.y[idx, :]).type(torch.FloatTensor)\n",
    "            sample = {'X': X, 'y': y}\n",
    "\n",
    "        return sample"
   ]
  },
  {
   "cell_type": "markdown",
   "metadata": {},
   "source": [
    "# Model"
   ]
  },
  {
   "cell_type": "code",
   "execution_count": 8,
   "metadata": {},
   "outputs": [],
   "source": [
    "class MLPLazy(nn.Module):\n",
    "\n",
    "    def __init__(self, nx, hidden_layer_dims, ny):\n",
    "        super(MLPLazy, self).__init__()\n",
    "        self.hidden_layer_dims = hidden_layer_dims\n",
    "        \n",
    "        linear_layers = []\n",
    "        last_dim = nx\n",
    "        for next_dim in hidden_layer_dims:\n",
    "            linear_layer = nn.Linear(last_dim, next_dim)\n",
    "            linear_layers.append(linear_layer)\n",
    "            last_dim = next_dim\n",
    "        # should push to ModuleList so that params stay on cuda\n",
    "        self.linear_layers = nn.ModuleList(linear_layers)\n",
    "        self.scorer = nn.Linear(last_dim, ny)\n",
    "\n",
    "    def forward(self, X):\n",
    "        '''\n",
    "        X has shape (m, nx)\n",
    "        '''\n",
    "        last_X = X\n",
    "        for i, linear_layer in enumerate(self.linear_layers):\n",
    "            # shape (m, self.hidden_layer_dims[i])\n",
    "            last_X = linear_layer(last_X)\n",
    "            # shape (m, self.hidden_layer_dims[i])\n",
    "            last_X = torch.relu(last_X)\n",
    "        # shape (m, ny)\n",
    "        z = self.scorer(last_X)\n",
    "        # shape (m, ny)\n",
    "        a = torch.softmax(z, dim=1)\n",
    "        return z, a"
   ]
  },
  {
   "cell_type": "markdown",
   "metadata": {},
   "source": [
    "# Timer"
   ]
  },
  {
   "cell_type": "code",
   "execution_count": 9,
   "metadata": {},
   "outputs": [],
   "source": [
    "def start_timer():\n",
    "    global start_time\n",
    "    torch.cuda.synchronize()\n",
    "    start_time = time.time()\n",
    "\n",
    "def end_timer():\n",
    "    torch.cuda.synchronize()\n",
    "    end_time = time.time()\n",
    "    return end_time - start_time"
   ]
  },
  {
   "cell_type": "markdown",
   "metadata": {},
   "source": [
    "# Workflow"
   ]
  },
  {
   "cell_type": "code",
   "execution_count": 10,
   "metadata": {},
   "outputs": [],
   "source": [
    "def check_weights_precision(model):\n",
    "    '''check weight precisions for each layer of MLP'''\n",
    "    for i, layer in enumerate(model.linear_layers):\n",
    "        print(f'layer {i}, weight dtype {layer.weight.dtype}')\n",
    "        print(f'layer {i}, bias dtype {layer.bias.dtype}')\n",
    "    print(f'scorer weight dtype {model.scorer.weight.dtype}')\n",
    "    print(f'scorer bias dtype {model.scorer.bias.dtype}')"
   ]
  },
  {
   "cell_type": "code",
   "execution_count": 11,
   "metadata": {},
   "outputs": [],
   "source": [
    "def get_master(opt):\n",
    "    '''create a float32 master copy of float16 model weights in optimizer'''\n",
    "    model_pgs = [[param for param in pg['params'] if param.requires_grad] for pg in opt.param_groups]\n",
    "    master_pgs = [[param.clone().float().detach() for param in pg] for pg in model_pgs]\n",
    "    for pg in master_pgs:\n",
    "        for param in pg: param.requires_grad_(True)\n",
    "    return model_pgs, master_pgs"
   ]
  },
  {
   "cell_type": "code",
   "execution_count": 12,
   "metadata": {},
   "outputs": [],
   "source": [
    "def push_master_to_optimizer(opt, master_pgs):\n",
    "    '''\n",
    "        link master copy pgs to optimizer, \n",
    "        keeping other hparams such as lr, momentum dampening, weight_decay...'''\n",
    "    for opt_pg, master_pg in zip(opt.param_groups, master_pgs):\n",
    "        opt_pg['params'] = master_pg"
   ]
  },
  {
   "cell_type": "code",
   "execution_count": 13,
   "metadata": {},
   "outputs": [],
   "source": [
    "def to_master_grads(model_pgs, master_pgs, flat_master:bool=False):\n",
    "    '''copy float16 gradients from model to float32 gradients in master copy of weights'''\n",
    "    for (model_params,master_params) in zip(model_pgs,master_pgs):\n",
    "        fp16.model_grads_to_master_grads(model_params, master_params, flat_master=flat_master)"
   ]
  },
  {
   "cell_type": "code",
   "execution_count": 14,
   "metadata": {},
   "outputs": [],
   "source": [
    "def to_model_params(model_pgs, master_pgs, flat_master:bool=False)->None:\n",
    "    '''copy master copy of updated weights in float32 to model weights in float 16'''\n",
    "    for (model_params,master_params) in zip(model_pgs,master_pgs):\n",
    "        fp16.master_params_to_model_params(model_params, master_params, flat_master=flat_master)"
   ]
  },
  {
   "cell_type": "code",
   "execution_count": 15,
   "metadata": {},
   "outputs": [],
   "source": [
    "def scale_down_master_grad(master_pgs, loss_scale):\n",
    "    '''\n",
    "    scale down all gradients for all master param groups\n",
    "    '''\n",
    "    for master_params in master_pgs:\n",
    "        for param in master_params:\n",
    "            if param.grad is not None:\n",
    "                param.grad.div_(loss_scale)"
   ]
  },
  {
   "cell_type": "code",
   "execution_count": 16,
   "metadata": {},
   "outputs": [],
   "source": [
    "def get_max_memory_alloc():\n",
    "    devices_max_memory_alloc = {}\n",
    "    for i in range(torch.cuda.device_count()):\n",
    "        device = torch.device(f'cuda:{i}')\n",
    "        devices_max_memory_alloc[f'cuda:{i}'] = torch.cuda.max_memory_allocated(device) / 1e6\n",
    "        torch.cuda.reset_max_memory_allocated(device)\n",
    "    return devices_max_memory_alloc"
   ]
  },
  {
   "cell_type": "code",
   "execution_count": 17,
   "metadata": {},
   "outputs": [],
   "source": [
    "def check_overflow(loss, param_groups):\n",
    "    '''check if any loss or gradients in parameter groups overflow'''\n",
    "    loss_overflow = torch.isinf(loss)\n",
    "    if loss_overflow: return True\n",
    "    grad_overflow = torch.any(torch.stack([torch.any(torch.isinf(p.grad)) for pg in param_groups for p in pg]))\n",
    "    return grad_overflow"
   ]
  },
  {
   "cell_type": "code",
   "execution_count": 20,
   "metadata": {},
   "outputs": [],
   "source": [
    "def main_train(args, gpu=0, debug=False):\n",
    "\n",
    "    torch.manual_seed(args.seed)\n",
    "    \n",
    "    ################################################################\n",
    "    # load datasets\n",
    "    training_set = ToyDataset(data_dir=os.path.join(args.data_dir, args.dataset_dir, 'train'))\n",
    "    training_generator = torch.utils.data.DataLoader(dataset=training_set, \n",
    "                                                        batch_size=args.batch_size, \n",
    "                                                        shuffle=True, \n",
    "                                                        num_workers=0, \n",
    "                                                        pin_memory=True)\n",
    "\n",
    "    nx = training_set.X.shape[1]\n",
    "    ny = max(training_set.y) + 1\n",
    "    ################################################################\n",
    "\n",
    "    # 1. Create model\n",
    "    model = MLPLazy(nx, args.hidden_layer_dims, ny)  # single\n",
    "    loss_criterion = nn.CrossEntropyLoss(reduction='mean')\n",
    "    torch.cuda.set_device(gpu)\n",
    "    model.to(device=gpu)    \n",
    "\n",
    "    # 2. initialize optimizer\n",
    "    opt = torch.optim.SGD(model.parameters(), lr=args.lr)  # half\n",
    "    if debug:\n",
    "        print('\\nmodel weights at init')\n",
    "        check_weights_precision(model)\n",
    "\n",
    "    # 3. Cast model to float16\n",
    "    fp16.convert_network(model, torch.float16)\n",
    "#     model.half()\n",
    "    if debug:\n",
    "        print('\\nmodel weights after casting')\n",
    "        check_weights_precision(model)\n",
    "\n",
    "    # 4. Create a copy of this float16 model's weight in float32 as the master copy\n",
    "    model_pgs, master_pgs = get_master(opt)  # half, single\n",
    "\n",
    "    # 5. replace optimizer float16 weights with float32 master copy\n",
    "    push_master_to_optimizer(opt, master_pgs)  # opt single\n",
    "\n",
    "    def check_grad():\n",
    "        print('optimizer grad:\\n', opt.param_groups[0]['params'][0].grad)\n",
    "        print('master pg grad:\\n', master_pgs[0][0].grad)\n",
    "        print('model pg grad:\\n', model_pgs[0][0].grad)\n",
    "\n",
    "    def check_weights():\n",
    "        print('optimizer weights:\\n', opt.param_groups[0]['params'][0])\n",
    "        print('master pg weights:\\n', master_pgs[0][0])\n",
    "        print('model pg weights:\\n', model_pgs[0][0])\n",
    "\n",
    "    history = {\n",
    "        'epoch_train_losses': [], 'step_train_losses': [], 'max_memory_allocation':[], \n",
    "        'loss_scales':[], 'timing': defaultdict(int)\n",
    "    }\n",
    "    loss_scale = 50000\n",
    "    \n",
    "    loop_start_time = time.time()\n",
    "    \n",
    "    for e in progressbar(range(args.epochs)):\n",
    "        start_timer()\n",
    "        model.train()\n",
    "        sum_batch_losses = torch.tensor([0.], dtype=torch.float, device=gpu)\n",
    "        all_batch_losses = []\n",
    "        batch_max_memory_alloc = []\n",
    "        loss_scales = []\n",
    "        history['timing']['epoch_setup'] += end_timer()\n",
    "        \n",
    "        epoch_start_time = time.time()\n",
    "        for batch_i, batch_data in enumerate(training_generator):\n",
    "            batch_start_time = time.time()\n",
    "            \n",
    "            if debug: \n",
    "                print(f'\\nRunning batch_{batch_i}-----------------------------------------')\n",
    "\n",
    "            loss_scales.append(loss_scale)\n",
    "            \n",
    "            start_timer()\n",
    "            batch_max_memory_alloc.append(get_max_memory_alloc()['cuda:0'])\n",
    "            history['timing']['get_memory'] += end_timer()\n",
    "\n",
    "            # 6. model forward with float16 data\n",
    "            # NOTE: model zero grad, master last grad\n",
    "            start_timer()\n",
    "            batch_X = batch_data['X'].cuda(gpu, non_blocking=True) # half\n",
    "            batch_y = batch_data['y'].cuda(gpu, non_blocking=True) # long\n",
    "            history['timing']['data'] += end_timer()\n",
    "            \n",
    "            start_timer()\n",
    "            logits, activations = model(batch_X) # Half\n",
    "            history['timing']['forward'] += end_timer()\n",
    "            \n",
    "            # 7. compute loss in float16\n",
    "            # NOTE: model zero grad, master last grad\n",
    "            start_timer()\n",
    "            loss = loss_criterion(logits, batch_y)  # half\n",
    "            history['timing']['loss'] += end_timer()\n",
    "            if debug:\n",
    "                print('\\nComputed loss')\n",
    "                check_grad()\n",
    "                check_weights()\n",
    "                \n",
    "            # log the loss metric\n",
    "            torch.cuda.synchronize()\n",
    "\n",
    "            start_timer()\n",
    "            sum_batch_losses += loss\n",
    "            all_batch_losses.append(loss)\n",
    "            history['timing']['append_losses'] += end_timer()\n",
    "            if debug:\n",
    "                print('all_batch_losses:', all_batch_losses)\n",
    "\n",
    "            # 8. scale up loss here\n",
    "            if debug:            \n",
    "                print('\\nloss scale in scale up:', loss_scale)\n",
    "                print('loss before scaling:', loss.item(), loss.dtype)\n",
    "            start_timer()\n",
    "            if torch.isnan(loss):\n",
    "                print(f'e{e} b{batch_i} loss is nan before scaling')\n",
    "            if torch.isinf(loss):\n",
    "                print(f'e{e} b{batch_i} loss is inf before scaling')                \n",
    "            loss *= loss_scale\n",
    "            if torch.isnan(loss):\n",
    "                print(f'e{e} b{batch_i} loss is nan after scaling')\n",
    "            if torch.isinf(loss):\n",
    "                print(f'e{e} b{batch_i} loss is inf after scaling')     \n",
    "            history['timing']['scale_up_loss'] += end_timer()\n",
    "            if debug:     \n",
    "                print('loss after scaling:', loss.item(), loss.dtype)\n",
    "\n",
    "            # 9. backprop to compute gradients\n",
    "            # NOTE: model new grad, master last grad\n",
    "            # NOTE: when we call backward, gradient accumulate on model gradient, not master gradient\n",
    "            start_timer()\n",
    "            loss.backward()  # half\n",
    "            history['timing']['backward'] += end_timer()\n",
    "            if debug:\n",
    "                print('\\nCalled backward to compute gradients')\n",
    "                check_grad()\n",
    "                check_weights()\n",
    "\n",
    "            # 10. check if gradient or loss overflow\n",
    "            start_timer()\n",
    "            if check_overflow(loss, model_pgs):\n",
    "                print('Overflow!')\n",
    "                # half the loss scale\n",
    "                loss_scale /= 2.\n",
    "                model.zero_grad()\n",
    "                continue\n",
    "            history['timing']['check_overflow'] += end_timer()\n",
    "                \n",
    "            # 11. copy float16 gradients from model to float32 gradients in master copy of weights\n",
    "            # NOTE: model new grad, master new grad\n",
    "            start_timer()\n",
    "            to_master_grads(model_pgs, master_pgs)\n",
    "            history['timing']['to_master_grads'] += end_timer()\n",
    "            if debug:\n",
    "                print('\\nCopied model grad to master grad')\n",
    "                check_grad()\n",
    "                check_weights()\n",
    "\n",
    "            # 12. scale down master copy gradients\n",
    "            if debug:    \n",
    "                print('loss scale in scale down:', loss_scale)\n",
    "            start_timer()\n",
    "            scale_down_master_grad(master_pgs, loss_scale)\n",
    "            history['timing']['scale_down_master'] += end_timer()\n",
    "            if debug:\n",
    "                print('\\nScaled down gradients in master copy')\n",
    "                check_grad()\n",
    "                check_weights()\n",
    "\n",
    "            # 13.optimizer step on master weights\n",
    "            start_timer()\n",
    "            opt.step()\n",
    "            history['timing']['opt_step'] += end_timer()\n",
    "            if debug:\n",
    "                print('\\nOptimizer stepped')\n",
    "                check_grad()\n",
    "                check_weights()\n",
    "\n",
    "            # 14.zero out gradients in model\n",
    "            start_timer()\n",
    "            model.zero_grad()\n",
    "            history['timing']['zero_grad'] += end_timer()\n",
    "            if debug:\n",
    "                print('\\nModel gradients zeroed out')\n",
    "                check_grad()\n",
    "                check_weights()\n",
    "\n",
    "            # 15.copy float32 master weights to float16 model weights\n",
    "            # NOTE: model zero grad, master new grad\n",
    "            start_timer()\n",
    "            to_model_params(model_pgs, master_pgs)\n",
    "            history['timing']['to_model_params'] += end_timer()\n",
    "            if debug:\n",
    "                print('\\nCopy master weights to model weight')\n",
    "                check_grad()\n",
    "                check_weights()\n",
    "\n",
    "            # 16.\n",
    "            # up the loss scale\n",
    "            loss_scale *= 1.0003466337\n",
    "\n",
    "            history['timing']['batch_time'] += time.time() - batch_start_time\n",
    "            \n",
    "        start_timer()\n",
    "        num_batches = batch_i + 1.\n",
    "        history['epoch_train_losses'].append(sum_batch_losses/num_batches)\n",
    "        history['step_train_losses'] += all_batch_losses\n",
    "        history['max_memory_allocation'] += batch_max_memory_alloc\n",
    "        history['loss_scales'] += loss_scales\n",
    "        history['timing']['append'] += end_timer()\n",
    "\n",
    "        torch.cuda.synchronize()\n",
    "        history['timing']['epoch_end_time'] += time.time() - epoch_start_time\n",
    "        \n",
    "    torch.cuda.synchronize()\n",
    "    history['timing']['loop_end_time'] += time.time() - loop_start_time\n",
    "        \n",
    "    start_timer()\n",
    "    itemize = lambda x: [tensor_val.item() for tensor_val in x]\n",
    "    history['epoch_train_losses'] = itemize(history['epoch_train_losses'])   \n",
    "    history['step_train_losses'] = itemize(history['step_train_losses'])   \n",
    "    history['timing']['itemize_losses'] += end_timer()\n",
    "\n",
    "    return history, model"
   ]
  },
  {
   "cell_type": "code",
   "execution_count": 24,
   "metadata": {},
   "outputs": [
    {
     "name": "stdout",
     "output_type": "stream",
     "text": [
      "12.939019203186035\n"
     ]
    }
   ],
   "source": [
    "mlp = MLPLazy(100, [5000, 5000, 5000, 5000, 5000, 5000, 5000], 1)\n",
    "torch.cuda.set_device('cuda:0')\n",
    "mlp.to(device='cuda:0') \n",
    "mlp.half()\n",
    "\n",
    "torch.manual_seed(42)\n",
    "X = torch.randn((500, 100), dtype=torch.float16, device='cuda:0')\n",
    "start_time = time.time()\n",
    "for i in range(5000):\n",
    "    y_hat, _ = mlp(X)\n",
    "    loss = torch.sum(10 - y_hat)\n",
    "\n",
    "torch.cuda.synchronize()\n",
    "print(time.time() - start_time)"
   ]
  },
  {
   "cell_type": "code",
   "execution_count": 23,
   "metadata": {},
   "outputs": [
    {
     "name": "stdout",
     "output_type": "stream",
     "text": [
      "62.056530475616455\n"
     ]
    }
   ],
   "source": [
    "mlp32 = MLPLazy(100, [5000, 5000, 5000, 5000, 5000, 5000, 5000], 1)\n",
    "torch.cuda.set_device('cuda:0')\n",
    "mlp32.to(device='cuda:0')\n",
    "\n",
    "torch.manual_seed(42)\n",
    "X = torch.randn((500, 100), device='cuda:0')\n",
    "start_time = time.time()\n",
    "for i in range(5000):\n",
    "    y_hat, _ = mlp32(X)\n",
    "    loss = torch.sum(10 - y_hat)\n",
    "torch.cuda.synchronize()\n",
    "print(time.time() - start_time)"
   ]
  },
  {
   "cell_type": "code",
   "execution_count": 1,
   "metadata": {
    "scrolled": true
   },
   "outputs": [
    {
     "name": "stdout",
     "output_type": "stream",
     "text": [
      "31.640761137008667\n",
      "52.30562925338745\n"
     ]
    }
   ],
   "source": [
    "# with sad k80 16-bit emulation rather than native 16bit!\n",
    "import torch\n",
    "import time\n",
    "X = torch.randn((2000,2000)).cuda()\n",
    "Y = torch.randn((2000,2000)).cuda()\n",
    "t0 = time.time()\n",
    "for i in range(5000):\n",
    "\tX@Y\n",
    "t1 = time.time()\n",
    "torch.cuda.synchronize()\n",
    "print(t1 - t0)\n",
    "X = torch.randn((2000,2000)).cuda().half()\n",
    "Y = torch.randn((2000,2000)).cuda().half()\n",
    "t0 = time.time()\n",
    "for i in range(5000):\n",
    "\tX@Y\n",
    "t1 = time.time()\n",
    "torch.cuda.synchronize()\n",
    "print(t1 - t0)"
   ]
  },
  {
   "cell_type": "code",
   "execution_count": 16,
   "metadata": {
    "scrolled": true
   },
   "outputs": [
    {
     "name": "stdout",
     "output_type": "stream",
     "text": [
      "5.22260594367981\n",
      "0.993229866027832\n"
     ]
    }
   ],
   "source": [
    "# with V100!\n",
    "import torch\n",
    "import time\n",
    "X = torch.randn((2000,2000)).cuda()\n",
    "Y = torch.randn((2000,2000)).cuda()\n",
    "t0 = time.time()\n",
    "for i in range(5000):\n",
    "\tX@Y\n",
    "t1 = time.time()\n",
    "torch.cuda.synchronize()\n",
    "print(t1 - t0)\n",
    "X = torch.randn((2000,2000)).cuda().half()\n",
    "Y = torch.randn((2000,2000)).cuda().half()\n",
    "t0 = time.time()\n",
    "for i in range(5000):\n",
    "\tX@Y\n",
    "t1 = time.time()\n",
    "torch.cuda.synchronize()\n",
    "print(t1 - t0)"
   ]
  },
  {
   "cell_type": "markdown",
   "metadata": {},
   "source": [
    "# Train"
   ]
  },
  {
   "cell_type": "code",
   "execution_count": 19,
   "metadata": {
    "scrolled": true
   },
   "outputs": [
    {
     "name": "stdout",
     "output_type": "stream",
     "text": [
      "Wed Nov 25 22:49:12 2020       \r\n",
      "+-----------------------------------------------------------------------------+\r\n",
      "| NVIDIA-SMI 455.32.00    Driver Version: 455.32.00    CUDA Version: 11.1     |\r\n",
      "|-------------------------------+----------------------+----------------------+\r\n",
      "| GPU  Name        Persistence-M| Bus-Id        Disp.A | Volatile Uncorr. ECC |\r\n",
      "| Fan  Temp  Perf  Pwr:Usage/Cap|         Memory-Usage | GPU-Util  Compute M. |\r\n",
      "|                               |                      |               MIG M. |\r\n",
      "|===============================+======================+======================|\r\n",
      "|   0  Tesla V100-PCIE...  On   | 0000BCA9:00:00.0 Off |                  Off |\r\n",
      "| N/A   30C    P0    26W / 250W |      0MiB / 16160MiB |      0%      Default |\r\n",
      "|                               |                      |                  N/A |\r\n",
      "+-------------------------------+----------------------+----------------------+\r\n",
      "                                                                               \r\n",
      "+-----------------------------------------------------------------------------+\r\n",
      "| Processes:                                                                  |\r\n",
      "|  GPU   GI   CI        PID   Type   Process name                  GPU Memory |\r\n",
      "|        ID   ID                                                   Usage      |\r\n",
      "|=============================================================================|\r\n",
      "|  No running processes found                                                 |\r\n",
      "+-----------------------------------------------------------------------------+\r\n"
     ]
    }
   ],
   "source": [
    "!nvidia-smi"
   ]
  },
  {
   "cell_type": "markdown",
   "metadata": {},
   "source": [
    "## Large"
   ]
  },
  {
   "cell_type": "code",
   "execution_count": 19,
   "metadata": {
    "scrolled": false
   },
   "outputs": [
    {
     "name": "stderr",
     "output_type": "stream",
     "text": [
      "N/A% (0 of 2000) |                       | Elapsed Time: 0:00:00 ETA:  --:--:--/anaconda/envs/py37_pytorch/lib/python3.7/site-packages/torch/cuda/memory.py:234: FutureWarning: torch.cuda.reset_max_memory_allocated now calls torch.cuda.reset_peak_memory_stats, which resets /all/ peak memory stats.\n",
      "  FutureWarning)\n"
     ]
    },
    {
     "name": "stdout",
     "output_type": "stream",
     "text": [
      "e0 b0 loss is inf after scaling\n",
      "Overflow!\n",
      "e0 b1 loss is inf after scaling\n",
      "Overflow!\n",
      "e0 b2 loss is inf after scaling\n",
      "Overflow!\n"
     ]
    },
    {
     "name": "stderr",
     "output_type": "stream",
     "text": [
      "100% (2000 of 2000) |####################| Elapsed Time: 0:16:46 Time:  0:16:46\n"
     ]
    },
    {
     "name": "stdout",
     "output_type": "stream",
     "text": [
      "1010.6511726379395\n"
     ]
    }
   ],
   "source": [
    "# hidden_layer_dims = [5000, 5000, 5000, 5000, 5000, 5000, 5000]\n",
    "# nx = 1000, n = 1000\n",
    "# loss_scale = 1.00003466337\n",
    "# epochs = 2000\n",
    "\n",
    "all_start_time = time.time()\n",
    "history, model = main_train(args, debug=False)\n",
    "torch.cuda.synchronize()\n",
    "print(time.time() - all_start_time)"
   ]
  },
  {
   "cell_type": "markdown",
   "metadata": {},
   "source": [
    "## Medium"
   ]
  },
  {
   "cell_type": "code",
   "execution_count": 19,
   "metadata": {},
   "outputs": [
    {
     "name": "stderr",
     "output_type": "stream",
     "text": [
      "N/A% (0 of 2000) |                       | Elapsed Time: 0:00:00 ETA:  --:--:--/anaconda/envs/py37_pytorch/lib/python3.7/site-packages/torch/cuda/memory.py:234: FutureWarning: torch.cuda.reset_max_memory_allocated now calls torch.cuda.reset_peak_memory_stats, which resets /all/ peak memory stats.\n",
      "  FutureWarning)\n"
     ]
    },
    {
     "name": "stdout",
     "output_type": "stream",
     "text": [
      "e0 b0 loss is inf after scaling\n",
      "Overflow!\n",
      "e0 b1 loss is inf after scaling\n",
      "Overflow!\n",
      "e0 b2 loss is inf after scaling\n",
      "Overflow!\n"
     ]
    },
    {
     "name": "stderr",
     "output_type": "stream",
     "text": [
      "  6% (134 of 2000) |#                    | Elapsed Time: 0:00:41 ETA:   0:09:47"
     ]
    },
    {
     "name": "stdout",
     "output_type": "stream",
     "text": [
      "e134 b2 loss is inf after scaling\n",
      "Overflow!\n"
     ]
    },
    {
     "name": "stderr",
     "output_type": "stream",
     "text": [
      " 17% (357 of 2000) |###                  | Elapsed Time: 0:01:52 ETA:   0:08:23"
     ]
    },
    {
     "name": "stdout",
     "output_type": "stream",
     "text": [
      "e356 b5 loss is inf after scaling\n",
      "Overflow!\n"
     ]
    },
    {
     "name": "stderr",
     "output_type": "stream",
     "text": [
      " 28% (579 of 2000) |######               | Elapsed Time: 0:03:05 ETA:   0:07:54"
     ]
    },
    {
     "name": "stdout",
     "output_type": "stream",
     "text": [
      "e579 b0 loss is inf after scaling\n",
      "Overflow!\n"
     ]
    },
    {
     "name": "stderr",
     "output_type": "stream",
     "text": [
      " 40% (802 of 2000) |########             | Elapsed Time: 0:04:17 ETA:   0:06:16"
     ]
    },
    {
     "name": "stdout",
     "output_type": "stream",
     "text": [
      "e801 b5 loss is inf after scaling\n",
      "Overflow!\n"
     ]
    },
    {
     "name": "stderr",
     "output_type": "stream",
     "text": [
      " 51% (1024 of 2000) |##########          | Elapsed Time: 0:05:33 ETA:   0:06:26"
     ]
    },
    {
     "name": "stdout",
     "output_type": "stream",
     "text": [
      "e1024 b1 loss is inf after scaling\n",
      "Overflow!\n"
     ]
    },
    {
     "name": "stderr",
     "output_type": "stream",
     "text": [
      " 62% (1247 of 2000) |############        | Elapsed Time: 0:06:46 ETA:   0:04:04"
     ]
    },
    {
     "name": "stdout",
     "output_type": "stream",
     "text": [
      "e1247 b1 loss is inf after scaling\n",
      "Overflow!\n"
     ]
    },
    {
     "name": "stderr",
     "output_type": "stream",
     "text": [
      " 73% (1471 of 2000) |##############      | Elapsed Time: 0:07:59 ETA:   0:02:49"
     ]
    },
    {
     "name": "stdout",
     "output_type": "stream",
     "text": [
      "e1471 b0 loss is inf after scaling\n",
      "Overflow!\n"
     ]
    },
    {
     "name": "stderr",
     "output_type": "stream",
     "text": [
      " 90% (1817 of 2000) |##################  | Elapsed Time: 0:09:53 ETA:   0:00:58"
     ]
    },
    {
     "name": "stdout",
     "output_type": "stream",
     "text": [
      "e1816 b7 loss is inf after scaling\n",
      "Overflow!\n"
     ]
    },
    {
     "name": "stderr",
     "output_type": "stream",
     "text": [
      "100% (2000 of 2000) |####################| Elapsed Time: 0:10:53 Time:  0:10:53\n"
     ]
    },
    {
     "name": "stdout",
     "output_type": "stream",
     "text": [
      "656.6085946559906\n"
     ]
    }
   ],
   "source": [
    "# hidden_layer_dims = [500, 500, 500, 500, 500, 500, 500]\n",
    "# nx = 1000, n = 1000\n",
    "# loss_scale = 1.0003466337\n",
    "# epochs = 2000\n",
    "\n",
    "all_start_time = time.time()\n",
    "history, model = main_train(args, debug=False)\n",
    "torch.cuda.synchronize()\n",
    "print(time.time() - all_start_time)"
   ]
  },
  {
   "cell_type": "markdown",
   "metadata": {},
   "source": [
    "## Medium"
   ]
  },
  {
   "cell_type": "code",
   "execution_count": 21,
   "metadata": {},
   "outputs": [
    {
     "name": "stderr",
     "output_type": "stream",
     "text": [
      "N/A% (0 of 2000) |                       | Elapsed Time: 0:00:00 ETA:  --:--:--/anaconda/envs/py37_pytorch/lib/python3.7/site-packages/torch/cuda/memory.py:234: FutureWarning: torch.cuda.reset_max_memory_allocated now calls torch.cuda.reset_peak_memory_stats, which resets /all/ peak memory stats.\n",
      "  FutureWarning)\n"
     ]
    },
    {
     "name": "stdout",
     "output_type": "stream",
     "text": [
      "e0 b0 loss is inf after scaling\n",
      "Overflow!\n",
      "e0 b1 loss is inf after scaling\n",
      "Overflow!\n",
      "e0 b2 loss is inf after scaling\n",
      "Overflow!\n"
     ]
    },
    {
     "name": "stderr",
     "output_type": "stream",
     "text": [
      "  6% (134 of 2000) |#                    | Elapsed Time: 0:00:41 ETA:   0:09:35"
     ]
    },
    {
     "name": "stdout",
     "output_type": "stream",
     "text": [
      "e133 b7 loss is inf after scaling\n",
      "Overflow!\n"
     ]
    },
    {
     "name": "stderr",
     "output_type": "stream",
     "text": [
      " 17% (357 of 2000) |###                  | Elapsed Time: 0:01:51 ETA:   0:08:18"
     ]
    },
    {
     "name": "stdout",
     "output_type": "stream",
     "text": [
      "e356 b4 loss is inf after scaling\n",
      "Overflow!\n"
     ]
    },
    {
     "name": "stderr",
     "output_type": "stream",
     "text": [
      " 28% (579 of 2000) |######               | Elapsed Time: 0:03:05 ETA:   0:07:48"
     ]
    },
    {
     "name": "stdout",
     "output_type": "stream",
     "text": [
      "e578 b6 loss is inf after scaling\n",
      "Overflow!\n"
     ]
    },
    {
     "name": "stderr",
     "output_type": "stream",
     "text": [
      " 40% (801 of 2000) |########             | Elapsed Time: 0:04:20 ETA:   0:06:27"
     ]
    },
    {
     "name": "stdout",
     "output_type": "stream",
     "text": [
      "e801 b1 loss is inf after scaling\n",
      "Overflow!\n"
     ]
    },
    {
     "name": "stderr",
     "output_type": "stream",
     "text": [
      " 51% (1024 of 2000) |##########          | Elapsed Time: 0:05:37 ETA:   0:05:11"
     ]
    },
    {
     "name": "stdout",
     "output_type": "stream",
     "text": [
      "e1023 b5 loss is inf after scaling\n",
      "Overflow!\n"
     ]
    },
    {
     "name": "stderr",
     "output_type": "stream",
     "text": [
      " 62% (1247 of 2000) |############        | Elapsed Time: 0:06:49 ETA:   0:04:04"
     ]
    },
    {
     "name": "stdout",
     "output_type": "stream",
     "text": [
      "e1246 b6 loss is inf after scaling\n",
      "Overflow!\n"
     ]
    },
    {
     "name": "stderr",
     "output_type": "stream",
     "text": [
      " 73% (1478 of 2000) |##############      | Elapsed Time: 0:08:07 ETA:   0:02:46"
     ]
    },
    {
     "name": "stdout",
     "output_type": "stream",
     "text": [
      "e1477 b4 loss is inf after scaling\n",
      "Overflow!\n"
     ]
    },
    {
     "name": "stderr",
     "output_type": "stream",
     "text": [
      " 88% (1767 of 2000) |#################   | Elapsed Time: 0:09:45 ETA:   0:01:40"
     ]
    },
    {
     "name": "stdout",
     "output_type": "stream",
     "text": [
      "e1766 b5 loss is inf after scaling\n",
      "Overflow!\n"
     ]
    },
    {
     "name": "stderr",
     "output_type": "stream",
     "text": [
      "100% (2000 of 2000) |####################| Elapsed Time: 0:11:08 Time:  0:11:08\n"
     ]
    },
    {
     "name": "stdout",
     "output_type": "stream",
     "text": [
      "672.1906378269196\n"
     ]
    }
   ],
   "source": [
    "# hidden_layer_dims = [50, 50, 50, 50, 50, 50, 50]\n",
    "# nx = 1000, n = 1000\n",
    "# loss_scale = 1.0003466337\n",
    "# epochs = 2000\n",
    "\n",
    "all_start_time = time.time()\n",
    "history, model = main_train(args, debug=False)\n",
    "torch.cuda.synchronize()\n",
    "print(time.time() - all_start_time)"
   ]
  },
  {
   "cell_type": "code",
   "execution_count": null,
   "metadata": {},
   "outputs": [],
   "source": []
  },
  {
   "cell_type": "markdown",
   "metadata": {},
   "source": [
    "## Small"
   ]
  },
  {
   "cell_type": "code",
   "execution_count": 20,
   "metadata": {},
   "outputs": [
    {
     "data": {
      "text/plain": [
       "160036000"
      ]
     },
     "execution_count": 20,
     "metadata": {},
     "output_type": "execute_result"
    }
   ],
   "source": [
    "# number of parameters LARGE\n",
    "pytorch_total_params = sum(p.numel() for p in model.parameters())\n",
    "pytorch_total_params"
   ]
  },
  {
   "cell_type": "code",
   "execution_count": 20,
   "metadata": {},
   "outputs": [
    {
     "data": {
      "text/plain": [
       "2504500"
      ]
     },
     "execution_count": 20,
     "metadata": {},
     "output_type": "execute_result"
    }
   ],
   "source": [
    "# number of parameters MEDIUM\n",
    "pytorch_total_params = sum(p.numel() for p in model.parameters())\n",
    "pytorch_total_params"
   ]
  },
  {
   "cell_type": "code",
   "execution_count": 22,
   "metadata": {},
   "outputs": [
    {
     "data": {
      "text/plain": [
       "116350"
      ]
     },
     "execution_count": 22,
     "metadata": {},
     "output_type": "execute_result"
    }
   ],
   "source": [
    "# number of parameters SMALL\n",
    "pytorch_total_params = sum(p.numel() for p in model.parameters())\n",
    "pytorch_total_params"
   ]
  },
  {
   "cell_type": "markdown",
   "metadata": {},
   "source": [
    "## Use Profiler (Very slow)"
   ]
  },
  {
   "cell_type": "code",
   "execution_count": 18,
   "metadata": {
    "scrolled": true
   },
   "outputs": [
    {
     "name": "stderr",
     "output_type": "stream",
     "text": [
      "/anaconda/envs/py37_pytorch/lib/python3.7/site-packages/torch/cuda/memory.py:234: FutureWarning: torch.cuda.reset_max_memory_allocated now calls torch.cuda.reset_peak_memory_stats, which resets /all/ peak memory stats.\n",
      "  FutureWarning)\n"
     ]
    },
    {
     "name": "stdout",
     "output_type": "stream",
     "text": [
      "Overflow!\n"
     ]
    }
   ],
   "source": [
    "with profiler.profile(profile_memory=True, record_shapes=True, use_cuda=False, with_stack=True) as prof:\n",
    "    with profiler.record_function(\"forward\"):\n",
    "        history, model = main_train(args, debug=False)"
   ]
  },
  {
   "cell_type": "markdown",
   "metadata": {},
   "source": [
    "# Training Results"
   ]
  },
  {
   "cell_type": "markdown",
   "metadata": {},
   "source": [
    "## Large"
   ]
  },
  {
   "cell_type": "code",
   "execution_count": 21,
   "metadata": {},
   "outputs": [
    {
     "data": {
      "text/plain": [
       "Text(0.5, 1.0, '16bit - Manual')"
      ]
     },
     "execution_count": 21,
     "metadata": {},
     "output_type": "execute_result"
    },
    {
     "data": {
      "image/png": "[encoded data removed]",
      "text/plain": [
       "<Figure size 432x288 with 1 Axes>"
      ]
     },
     "metadata": {
      "needs_background": "light"
     },
     "output_type": "display_data"
    }
   ],
   "source": [
    "# hidden_layer_dims = [5000, 5000, 5000, 5000, 5000, 5000, 5000]\n",
    "# nx = 1000, n = 1000\n",
    "# loss_scale = 1.00003466337\n",
    "# epochs = 5000\n",
    "\n",
    "plt.plot(np.arange(len(history['step_train_losses'])), np.array(history['step_train_losses']))\n",
    "plt.title('16bit - Manual')"
   ]
  },
  {
   "cell_type": "code",
   "execution_count": 22,
   "metadata": {},
   "outputs": [
    {
     "data": {
      "text/plain": [
       "Text(0.5, 1.0, '16bit - Manual')"
      ]
     },
     "execution_count": 22,
     "metadata": {},
     "output_type": "execute_result"
    },
    {
     "data": {
      "image/png": "[encoded data removed]",
      "text/plain": [
       "<Figure size 432x288 with 1 Axes>"
      ]
     },
     "metadata": {
      "needs_background": "light"
     },
     "output_type": "display_data"
    }
   ],
   "source": [
    "# hidden_layer_dims = [5000, 5000, 5000, 5000, 5000, 5000, 5000]\n",
    "# nx = 1000, n = 1000\n",
    "# loss_scale = 1.00003466337\n",
    "# epochs = 5000\n",
    "\n",
    "plt.plot(np.arange(len(history['epoch_train_losses'])), np.array(history['epoch_train_losses']))\n",
    "plt.title('16bit - Manual')"
   ]
  },
  {
   "cell_type": "code",
   "execution_count": 23,
   "metadata": {},
   "outputs": [
    {
     "data": {
      "text/plain": [
       "Text(0.5, 1.0, '16bit - Manual')"
      ]
     },
     "execution_count": 23,
     "metadata": {},
     "output_type": "execute_result"
    },
    {
     "data": {
      "image/png": "[encoded data removed]",
      "text/plain": [
       "<Figure size 432x288 with 1 Axes>"
      ]
     },
     "metadata": {
      "needs_background": "light"
     },
     "output_type": "display_data"
    }
   ],
   "source": [
    "# hidden_layer_dims = [5000, 5000, 5000, 5000, 5000, 5000, 5000]\n",
    "# nx = 1000, n = 1000\n",
    "# loss_scale = 1.00003466337\n",
    "# epochs = 5000\n",
    "\n",
    "plt.plot(np.arange(len(history['max_memory_allocation'])), np.array(history['max_memory_allocation']))\n",
    "plt.title('16bit - Manual')"
   ]
  },
  {
   "cell_type": "markdown",
   "metadata": {},
   "source": [
    "## Medium"
   ]
  },
  {
   "cell_type": "code",
   "execution_count": 21,
   "metadata": {},
   "outputs": [
    {
     "data": {
      "text/plain": [
       "Text(0.5, 1.0, '16bit - Manual')"
      ]
     },
     "execution_count": 21,
     "metadata": {},
     "output_type": "execute_result"
    },
    {
     "data": {
      "image/png": "[encoded data removed]",
      "text/plain": [
       "<Figure size 432x288 with 1 Axes>"
      ]
     },
     "metadata": {
      "needs_background": "light"
     },
     "output_type": "display_data"
    }
   ],
   "source": [
    "# hidden_layer_dims = [500, 500, 500, 500, 500, 500, 500]\n",
    "# nx = 1000, n = 1000\n",
    "# loss_scale = 1.0003466337\n",
    "# epochs = 5000\n",
    "\n",
    "plt.plot(np.arange(len(history['step_train_losses'])), np.array(history['step_train_losses']))\n",
    "plt.title('16bit - Manual')"
   ]
  },
  {
   "cell_type": "code",
   "execution_count": 22,
   "metadata": {},
   "outputs": [
    {
     "data": {
      "text/plain": [
       "Text(0.5, 1.0, '16bit - Manual')"
      ]
     },
     "execution_count": 22,
     "metadata": {},
     "output_type": "execute_result"
    },
    {
     "data": {
      "image/png": "[encoded data removed]",
      "text/plain": [
       "<Figure size 432x288 with 1 Axes>"
      ]
     },
     "metadata": {
      "needs_background": "light"
     },
     "output_type": "display_data"
    }
   ],
   "source": [
    "# hidden_layer_dims = [500, 500, 500, 500, 500, 500, 500]\n",
    "# nx = 1000, n = 1000\n",
    "# loss_scale = 1.0003466337\n",
    "# epochs = 5000\n",
    "\n",
    "plt.plot(np.arange(len(history['epoch_train_losses'])), np.array(history['epoch_train_losses']))\n",
    "plt.title('16bit - Manual')"
   ]
  },
  {
   "cell_type": "code",
   "execution_count": 23,
   "metadata": {},
   "outputs": [
    {
     "data": {
      "text/plain": [
       "Text(0.5, 1.0, '16bit - Manual')"
      ]
     },
     "execution_count": 23,
     "metadata": {},
     "output_type": "execute_result"
    },
    {
     "data": {
      "image/png": "[encoded data removed]",
      "text/plain": [
       "<Figure size 432x288 with 1 Axes>"
      ]
     },
     "metadata": {
      "needs_background": "light"
     },
     "output_type": "display_data"
    }
   ],
   "source": [
    "# hidden_layer_dims = [500, 500, 500, 500, 500, 500, 500]\n",
    "# nx = 1000, n = 1000\n",
    "# loss_scale = 1.0003466337\n",
    "# epochs = 5000\n",
    "\n",
    "plt.plot(np.arange(len(history['max_memory_allocation'])), np.array(history['max_memory_allocation']))\n",
    "plt.title('16bit - Manual')"
   ]
  },
  {
   "cell_type": "markdown",
   "metadata": {},
   "source": [
    "## Small"
   ]
  },
  {
   "cell_type": "code",
   "execution_count": 23,
   "metadata": {},
   "outputs": [
    {
     "data": {
      "text/plain": [
       "Text(0.5, 1.0, '16bit - Manual')"
      ]
     },
     "execution_count": 23,
     "metadata": {},
     "output_type": "execute_result"
    },
    {
     "data": {
      "image/png": "[encoded data removed]",
      "text/plain": [
       "<Figure size 432x288 with 1 Axes>"
      ]
     },
     "metadata": {
      "needs_background": "light"
     },
     "output_type": "display_data"
    }
   ],
   "source": [
    "# hidden_layer_dims = [50, 50, 50, 50, 50, 50, 50]\n",
    "# nx = 1000, n = 1000\n",
    "# loss_scale = 1.0003466337\n",
    "# epochs = 5000\n",
    "\n",
    "plt.plot(np.arange(len(history['step_train_losses'])), np.array(history['step_train_losses']))\n",
    "plt.title('16bit - Manual')"
   ]
  },
  {
   "cell_type": "code",
   "execution_count": 24,
   "metadata": {},
   "outputs": [
    {
     "data": {
      "text/plain": [
       "Text(0.5, 1.0, '16bit - Manual')"
      ]
     },
     "execution_count": 24,
     "metadata": {},
     "output_type": "execute_result"
    },
    {
     "data": {
      "image/png": "[encoded data removed]",
      "text/plain": [
       "<Figure size 432x288 with 1 Axes>"
      ]
     },
     "metadata": {
      "needs_background": "light"
     },
     "output_type": "display_data"
    }
   ],
   "source": [
    "# hidden_layer_dims = [50, 50, 50, 50, 50, 50, 50]\n",
    "# nx = 1000, n = 1000\n",
    "# loss_scale = 1.0003466337\n",
    "# epochs = 5000\n",
    "\n",
    "plt.plot(np.arange(len(history['epoch_train_losses'])), np.array(history['epoch_train_losses']))\n",
    "plt.title('16bit - Manual')"
   ]
  },
  {
   "cell_type": "code",
   "execution_count": 25,
   "metadata": {},
   "outputs": [
    {
     "data": {
      "text/plain": [
       "Text(0.5, 1.0, '16bit - Manual')"
      ]
     },
     "execution_count": 25,
     "metadata": {},
     "output_type": "execute_result"
    },
    {
     "data": {
      "image/png": "[encoded data removed]",
      "text/plain": [
       "<Figure size 432x288 with 1 Axes>"
      ]
     },
     "metadata": {
      "needs_background": "light"
     },
     "output_type": "display_data"
    }
   ],
   "source": [
    "# hidden_layer_dims = [50, 50, 50, 50, 50, 50, 50]\n",
    "# nx = 1000, n = 1000\n",
    "# loss_scale = 1.0003466337\n",
    "# epochs = 5000\n",
    "\n",
    "plt.plot(np.arange(len(history['max_memory_allocation'])), np.array(history['max_memory_allocation']))\n",
    "plt.title('16bit - Manual')"
   ]
  },
  {
   "cell_type": "code",
   "execution_count": null,
   "metadata": {},
   "outputs": [],
   "source": []
  },
  {
   "cell_type": "code",
   "execution_count": null,
   "metadata": {},
   "outputs": [],
   "source": []
  },
  {
   "cell_type": "code",
   "execution_count": null,
   "metadata": {},
   "outputs": [],
   "source": []
  },
  {
   "cell_type": "code",
   "execution_count": null,
   "metadata": {},
   "outputs": [],
   "source": []
  },
  {
   "cell_type": "code",
   "execution_count": 20,
   "metadata": {},
   "outputs": [
    {
     "data": {
      "text/plain": [
       "Text(0.5, 1.0, '16bit - Manual')"
      ]
     },
     "execution_count": 20,
     "metadata": {},
     "output_type": "execute_result"
    },
    {
     "data": {
      "image/png": "[encoded data removed]",
      "text/plain": [
       "<Figure size 432x288 with 1 Axes>"
      ]
     },
     "metadata": {
      "needs_background": "light"
     },
     "output_type": "display_data"
    }
   ],
   "source": [
    "# start at 50000\n",
    "plt.plot(np.arange(len(history['step_train_losses'])), np.array(history['step_train_losses']))\n",
    "plt.title('16bit - Manual')"
   ]
  },
  {
   "cell_type": "code",
   "execution_count": 24,
   "metadata": {},
   "outputs": [
    {
     "data": {
      "text/plain": [
       "Text(0.5, 1.0, '16bit - Manual')"
      ]
     },
     "execution_count": 24,
     "metadata": {},
     "output_type": "execute_result"
    },
    {
     "data": {
      "image/png": "[encoded data removed]",
      "text/plain": [
       "<Figure size 432x288 with 1 Axes>"
      ]
     },
     "metadata": {
      "needs_background": "light"
     },
     "output_type": "display_data"
    }
   ],
   "source": [
    "# args.hidden_layer_dims = [5000, 5000, 5000, 5000, 5000, 5000, 5000]\n",
    "# 5000 epochs\n",
    "# 1.0003466337\n",
    "plt.plot(np.arange(len(history['step_train_losses'])), np.array(history['step_train_losses']))\n",
    "plt.title('16bit - Manual')"
   ]
  },
  {
   "cell_type": "code",
   "execution_count": 23,
   "metadata": {},
   "outputs": [
    {
     "data": {
      "text/plain": [
       "Text(0.5, 1.0, '16bit - Manual')"
      ]
     },
     "execution_count": 23,
     "metadata": {},
     "output_type": "execute_result"
    },
    {
     "data": {
      "image/png": "[encoded data removed]",
      "text/plain": [
       "<Figure size 432x288 with 1 Axes>"
      ]
     },
     "metadata": {
      "needs_background": "light"
     },
     "output_type": "display_data"
    }
   ],
   "source": [
    "# args.hidden_layer_dims = [5000, 5000, 5000, 5000, 5000, 5000, 5000]\n",
    "# 5000 epochs\n",
    "# 1.00003466337\n",
    "plt.plot(np.arange(len(history['step_train_losses'])), np.array(history['step_train_losses']))\n",
    "plt.title('16bit - Manual')"
   ]
  },
  {
   "cell_type": "code",
   "execution_count": 21,
   "metadata": {},
   "outputs": [
    {
     "data": {
      "text/plain": [
       "Text(0.5, 1.0, '16bit - Manual')"
      ]
     },
     "execution_count": 21,
     "metadata": {},
     "output_type": "execute_result"
    },
    {
     "data": {
      "image/png": "[encoded data removed]",
      "text/plain": [
       "<Figure size 432x288 with 1 Axes>"
      ]
     },
     "metadata": {
      "needs_background": "light"
     },
     "output_type": "display_data"
    }
   ],
   "source": [
    "# start at 50000\n",
    "plt.plot(np.arange(len(history['epoch_train_losses'])), np.array(history['epoch_train_losses']))\n",
    "plt.title('16bit - Manual')"
   ]
  },
  {
   "cell_type": "code",
   "execution_count": 33,
   "metadata": {},
   "outputs": [
    {
     "data": {
      "text/plain": [
       "Text(0.5, 1.0, '16bit - Manual')"
      ]
     },
     "execution_count": 33,
     "metadata": {},
     "output_type": "execute_result"
    },
    {
     "data": {
      "image/png": "[encoded data removed]",
      "text/plain": [
       "<Figure size 432x288 with 1 Axes>"
      ]
     },
     "metadata": {
      "needs_background": "light"
     },
     "output_type": "display_data"
    }
   ],
   "source": [
    "# args.hidden_layer_dims = [5000, 5000, 5000, 5000, 5000, 5000, 5000]\n",
    "# 5000 epochs\n",
    "# 1.0003466337\n",
    "plt.plot(np.arange(len(history['epoch_train_losses'])), np.array(history['epoch_train_losses']))\n",
    "plt.title('16bit - Manual')"
   ]
  },
  {
   "cell_type": "code",
   "execution_count": 23,
   "metadata": {},
   "outputs": [
    {
     "data": {
      "text/plain": [
       "Text(0.5, 1.0, '16bit - Manual')"
      ]
     },
     "execution_count": 23,
     "metadata": {},
     "output_type": "execute_result"
    },
    {
     "data": {
      "image/png": "[encoded data removed]",
      "text/plain": [
       "<Figure size 432x288 with 1 Axes>"
      ]
     },
     "metadata": {
      "needs_background": "light"
     },
     "output_type": "display_data"
    }
   ],
   "source": [
    "# args.hidden_layer_dims = [5000, 5000, 5000, 5000, 5000, 5000, 5000]\n",
    "# 5000 epochs\n",
    "# 1.00003466337\n",
    "plt.plot(np.arange(len(history['epoch_train_losses'])), np.array(history['epoch_train_losses']))\n",
    "plt.title('16bit - Manual')"
   ]
  },
  {
   "cell_type": "code",
   "execution_count": 22,
   "metadata": {},
   "outputs": [
    {
     "data": {
      "text/plain": [
       "Text(0.5, 1.0, '16bit - Manual')"
      ]
     },
     "execution_count": 22,
     "metadata": {},
     "output_type": "execute_result"
    },
    {
     "data": {
      "image/png": "[encoded data removed]",
      "text/plain": [
       "<Figure size 432x288 with 1 Axes>"
      ]
     },
     "metadata": {
      "needs_background": "light"
     },
     "output_type": "display_data"
    }
   ],
   "source": [
    "plt.plot(np.arange(len(history['max_memory_allocation'])), np.array(history['max_memory_allocation']))\n",
    "plt.title('16bit - Manual')"
   ]
  },
  {
   "cell_type": "code",
   "execution_count": 25,
   "metadata": {},
   "outputs": [
    {
     "data": {
      "text/plain": [
       "Text(0.5, 1.0, '16bit - Manual')"
      ]
     },
     "execution_count": 25,
     "metadata": {},
     "output_type": "execute_result"
    },
    {
     "data": {
      "image/png": "[encoded data removed]",
      "text/plain": [
       "<Figure size 432x288 with 1 Axes>"
      ]
     },
     "metadata": {
      "needs_background": "light"
     },
     "output_type": "display_data"
    }
   ],
   "source": [
    "# args.hidden_layer_dims = [5000, 5000, 5000, 5000, 5000, 5000, 5000]\n",
    "# 5000 epochs\n",
    "# 1.0003466337\n",
    "plt.plot(np.arange(len(history['max_memory_allocation'])), np.array(history['max_memory_allocation']))\n",
    "plt.title('16bit - Manual')"
   ]
  },
  {
   "cell_type": "code",
   "execution_count": 24,
   "metadata": {},
   "outputs": [
    {
     "data": {
      "text/plain": [
       "Text(0.5, 1.0, '16bit - Manual')"
      ]
     },
     "execution_count": 24,
     "metadata": {},
     "output_type": "execute_result"
    },
    {
     "data": {
      "image/png": "[encoded data removed]",
      "text/plain": [
       "<Figure size 432x288 with 1 Axes>"
      ]
     },
     "metadata": {
      "needs_background": "light"
     },
     "output_type": "display_data"
    }
   ],
   "source": [
    "# args.hidden_layer_dims = [5000, 5000, 5000, 5000, 5000, 5000, 5000]\n",
    "# 5000 epochs\n",
    "# 1.00003466337\n",
    "plt.plot(np.arange(len(history['max_memory_allocation'])), np.array(history['max_memory_allocation']))\n",
    "plt.title('16bit - Manual')"
   ]
  },
  {
   "cell_type": "markdown",
   "metadata": {},
   "source": [
    "# Loss Scale"
   ]
  },
  {
   "cell_type": "markdown",
   "metadata": {},
   "source": [
    "## Large 1.00003466337"
   ]
  },
  {
   "cell_type": "code",
   "execution_count": 24,
   "metadata": {},
   "outputs": [
    {
     "data": {
      "text/plain": [
       "[<matplotlib.lines.Line2D at 0x7efb958df750>]"
      ]
     },
     "execution_count": 24,
     "metadata": {},
     "output_type": "execute_result"
    },
    {
     "data": {
      "image/png": "[encoded data removed]",
      "text/plain": [
       "<Figure size 432x288 with 1 Axes>"
      ]
     },
     "metadata": {
      "needs_background": "light"
     },
     "output_type": "display_data"
    }
   ],
   "source": [
    "# hidden_layer_dims = [5000, 5000, 5000, 5000, 5000, 5000, 5000]\n",
    "# nx = 1000, n = 1000\n",
    "# loss_scale = 1.00003466337\n",
    "# epochs = 2000\n",
    "plt.plot(np.arange(len(history['loss_scales'])), np.array(history['loss_scales']))"
   ]
  },
  {
   "cell_type": "markdown",
   "metadata": {},
   "source": [
    "## Medium 1.0003466337"
   ]
  },
  {
   "cell_type": "code",
   "execution_count": 24,
   "metadata": {},
   "outputs": [
    {
     "data": {
      "text/plain": [
       "[<matplotlib.lines.Line2D at 0x7f335d2ed950>]"
      ]
     },
     "execution_count": 24,
     "metadata": {},
     "output_type": "execute_result"
    },
    {
     "data": {
      "image/png": "[encoded data removed]",
      "text/plain": [
       "<Figure size 432x288 with 1 Axes>"
      ]
     },
     "metadata": {
      "needs_background": "light"
     },
     "output_type": "display_data"
    }
   ],
   "source": [
    "# hidden_layer_dims = [500, 500, 500, 500, 500, 500, 500]\n",
    "# nx = 1000, n = 1000\n",
    "# loss_scale = 1.0003466337\n",
    "# epochs = 2000\n",
    "plt.plot(np.arange(len(history['loss_scales'])), np.array(history['loss_scales']))"
   ]
  },
  {
   "cell_type": "markdown",
   "metadata": {},
   "source": [
    "## Small 1.0003466337"
   ]
  },
  {
   "cell_type": "code",
   "execution_count": 26,
   "metadata": {},
   "outputs": [
    {
     "data": {
      "text/plain": [
       "[<matplotlib.lines.Line2D at 0x7ff91a70cb10>]"
      ]
     },
     "execution_count": 26,
     "metadata": {},
     "output_type": "execute_result"
    },
    {
     "data": {
      "image/png": "[encoded data removed]",
      "text/plain": [
       "<Figure size 432x288 with 1 Axes>"
      ]
     },
     "metadata": {
      "needs_background": "light"
     },
     "output_type": "display_data"
    }
   ],
   "source": [
    "# hidden_layer_dims = [50, 50, 50, 50, 50, 50, 50]\n",
    "# nx = 1000, n = 1000\n",
    "# loss_scale = 1.0003466337\n",
    "# epochs = 2000\n",
    "plt.plot(np.arange(len(history['loss_scales'])), np.array(history['loss_scales']))"
   ]
  },
  {
   "cell_type": "code",
   "execution_count": null,
   "metadata": {},
   "outputs": [],
   "source": []
  },
  {
   "cell_type": "code",
   "execution_count": null,
   "metadata": {},
   "outputs": [],
   "source": []
  },
  {
   "cell_type": "code",
   "execution_count": null,
   "metadata": {},
   "outputs": [],
   "source": []
  },
  {
   "cell_type": "code",
   "execution_count": null,
   "metadata": {},
   "outputs": [],
   "source": []
  },
  {
   "cell_type": "code",
   "execution_count": null,
   "metadata": {},
   "outputs": [],
   "source": []
  },
  {
   "cell_type": "code",
   "execution_count": 28,
   "metadata": {},
   "outputs": [
    {
     "data": {
      "text/plain": [
       "[<matplotlib.lines.Line2D at 0x7f2cf3943250>]"
      ]
     },
     "execution_count": 28,
     "metadata": {},
     "output_type": "execute_result"
    },
    {
     "data": {
      "image/png": "[encoded data removed]",
      "text/plain": [
       "<Figure size 432x288 with 1 Axes>"
      ]
     },
     "metadata": {
      "needs_background": "light"
     },
     "output_type": "display_data"
    }
   ],
   "source": [
    "# start at 50000\n",
    "plt.plot(np.arange(len(history['loss_scales'])), np.array(history['loss_scales']))"
   ]
  },
  {
   "cell_type": "code",
   "execution_count": 30,
   "metadata": {},
   "outputs": [
    {
     "data": {
      "text/plain": [
       "[<matplotlib.lines.Line2D at 0x7feadf52d950>]"
      ]
     },
     "execution_count": 30,
     "metadata": {},
     "output_type": "execute_result"
    },
    {
     "data": {
      "image/png": "[encoded data removed]",
      "text/plain": [
       "<Figure size 432x288 with 1 Axes>"
      ]
     },
     "metadata": {
      "needs_background": "light"
     },
     "output_type": "display_data"
    }
   ],
   "source": [
    "# args.hidden_layer_dims = [5000, 5000, 5000, 5000, 5000, 5000, 5000]\n",
    "# 5000 epochs\n",
    "# 1.0003466337\n",
    "plt.plot(np.arange(len(history['loss_scales'])), np.array(history['loss_scales']))"
   ]
  },
  {
   "cell_type": "code",
   "execution_count": 25,
   "metadata": {},
   "outputs": [
    {
     "data": {
      "text/plain": [
       "[<matplotlib.lines.Line2D at 0x7f91a46961d0>]"
      ]
     },
     "execution_count": 25,
     "metadata": {},
     "output_type": "execute_result"
    },
    {
     "data": {
      "image/png": "[encoded data removed]",
      "text/plain": [
       "<Figure size 432x288 with 1 Axes>"
      ]
     },
     "metadata": {
      "needs_background": "light"
     },
     "output_type": "display_data"
    }
   ],
   "source": [
    "# args.hidden_layer_dims = [5000, 5000, 5000, 5000, 5000, 5000, 5000]\n",
    "# 5000 epochs\n",
    "# 1.00003466337\n",
    "plt.plot(np.arange(len(history['loss_scales'])), np.array(history['loss_scales']))"
   ]
  },
  {
   "cell_type": "markdown",
   "metadata": {},
   "source": [
    "# Running Time"
   ]
  },
  {
   "cell_type": "markdown",
   "metadata": {},
   "source": [
    "## Large"
   ]
  },
  {
   "cell_type": "code",
   "execution_count": 25,
   "metadata": {},
   "outputs": [
    {
     "data": {
      "text/plain": [
       "defaultdict(int,\n",
       "            {'epoch_setup': 0.5326659679412842,\n",
       "             'get_memory': 8.818579196929932,\n",
       "             'data': 4.121359825134277,\n",
       "             'forward': 81.72910189628601,\n",
       "             'loss': 2.451974630355835,\n",
       "             'append_losses': 0.8182792663574219,\n",
       "             'scale_up_loss': 5.267277479171753,\n",
       "             'backward': 175.84172773361206,\n",
       "             'check_overflow': 47.842374086380005,\n",
       "             'to_master_grads': 25.317411422729492,\n",
       "             'scale_down_master': 29.589402437210083,\n",
       "             'opt_step': 42.391687631607056,\n",
       "             'zero_grad': 20.535584449768066,\n",
       "             'to_model_params': 23.656227827072144,\n",
       "             'batch_time': 471.1449737548828,\n",
       "             'append': 0.14146733283996582,\n",
       "             'epoch_end_time': 1003.9408717155457,\n",
       "             'loop_end_time': 1006.330281496048,\n",
       "             'itemize_losses': 0.7787468433380127})"
      ]
     },
     "execution_count": 25,
     "metadata": {},
     "output_type": "execute_result"
    }
   ],
   "source": [
    "# hidden_layer_dims = [5000, 5000, 5000, 5000, 5000, 5000, 5000]\n",
    "# nx = 1000, n = 1000\n",
    "# loss_scale = 1.00003466337\n",
    "# epochs = 2000\n",
    "history['timing']"
   ]
  },
  {
   "cell_type": "markdown",
   "metadata": {},
   "source": [
    "## Medium"
   ]
  },
  {
   "cell_type": "code",
   "execution_count": 25,
   "metadata": {},
   "outputs": [
    {
     "data": {
      "text/plain": [
       "defaultdict(int,\n",
       "            {'epoch_setup': 0.5050573348999023,\n",
       "             'get_memory': 8.785420179367065,\n",
       "             'data': 4.068981647491455,\n",
       "             'forward': 18.392555952072144,\n",
       "             'loss': 2.200606346130371,\n",
       "             'append_losses': 0.7906265258789062,\n",
       "             'scale_up_loss': 5.2957353591918945,\n",
       "             'backward': 30.24211812019348,\n",
       "             'check_overflow': 24.051188707351685,\n",
       "             'to_master_grads': 7.910148859024048,\n",
       "             'scale_down_master': 5.73040771484375,\n",
       "             'opt_step': 4.771140813827515,\n",
       "             'zero_grad': 10.36226201057434,\n",
       "             'to_model_params': 3.3012702465057373,\n",
       "             'batch_time': 128.2725625038147,\n",
       "             'append': 0.12371087074279785,\n",
       "             'epoch_end_time': 651.0775470733643,\n",
       "             'loop_end_time': 653.4047095775604,\n",
       "             'itemize_losses': 0.7993831634521484})"
      ]
     },
     "execution_count": 25,
     "metadata": {},
     "output_type": "execute_result"
    }
   ],
   "source": [
    "# hidden_layer_dims = [500, 500, 500, 500, 500, 500, 500]\n",
    "# nx = 1000, n = 1000\n",
    "# loss_scale = 1.0003466337\n",
    "# epochs = 2000\n",
    "history['timing']"
   ]
  },
  {
   "cell_type": "markdown",
   "metadata": {},
   "source": [
    "## Small"
   ]
  },
  {
   "cell_type": "code",
   "execution_count": 27,
   "metadata": {},
   "outputs": [
    {
     "data": {
      "text/plain": [
       "defaultdict(int,\n",
       "            {'epoch_setup': 0.5089833736419678,\n",
       "             'get_memory': 10.273577690124512,\n",
       "             'data': 4.125741958618164,\n",
       "             'forward': 17.64131236076355,\n",
       "             'loss': 2.2455127239227295,\n",
       "             'append_losses': 0.7886712551116943,\n",
       "             'scale_up_loss': 5.360870361328125,\n",
       "             'backward': 22.721169471740723,\n",
       "             'check_overflow': 23.214025735855103,\n",
       "             'to_master_grads': 8.115296840667725,\n",
       "             'scale_down_master': 5.667067527770996,\n",
       "             'opt_step': 4.8413801193237305,\n",
       "             'zero_grad': 10.262449264526367,\n",
       "             'to_model_params': 3.4654061794281006,\n",
       "             'batch_time': 121.063241481781,\n",
       "             'append': 0.1263420581817627,\n",
       "             'epoch_end_time': 666.531893491745,\n",
       "             'loop_end_time': 668.9052488803864,\n",
       "             'itemize_losses': 0.6446473598480225})"
      ]
     },
     "execution_count": 27,
     "metadata": {},
     "output_type": "execute_result"
    }
   ],
   "source": [
    "# hidden_layer_dims = [50, 50, 50, 50, 50, 50, 50]\n",
    "# nx = 1000, n = 1000\n",
    "# loss_scale = 1.0003466337\n",
    "# epochs = 2000\n",
    "history['timing']"
   ]
  },
  {
   "cell_type": "code",
   "execution_count": null,
   "metadata": {},
   "outputs": [],
   "source": []
  },
  {
   "cell_type": "code",
   "execution_count": null,
   "metadata": {},
   "outputs": [],
   "source": []
  },
  {
   "cell_type": "code",
   "execution_count": null,
   "metadata": {},
   "outputs": [],
   "source": []
  },
  {
   "cell_type": "code",
   "execution_count": null,
   "metadata": {},
   "outputs": [],
   "source": []
  },
  {
   "cell_type": "code",
   "execution_count": null,
   "metadata": {},
   "outputs": [],
   "source": []
  },
  {
   "cell_type": "code",
   "execution_count": 20,
   "metadata": {},
   "outputs": [
    {
     "data": {
      "text/plain": [
       "defaultdict(int,\n",
       "            {'epoch_setup': 0.05201363563537598,\n",
       "             'get_memory': 2.7656726837158203,\n",
       "             'data': 0.33777332305908203,\n",
       "             'forward': 3.838088035583496,\n",
       "             'loss': 0.4171772003173828,\n",
       "             'append_losses': 0.16142797470092773,\n",
       "             'scale_up_loss': 0.19323301315307617,\n",
       "             'backward': 4.858585596084595,\n",
       "             'check_overflow': 6.717507600784302,\n",
       "             'to_master_grads': 1.8401403427124023,\n",
       "             'scale_down_master': 1.280548095703125,\n",
       "             'opt_step': 1.050520420074463,\n",
       "             'zero_grad': 2.3038978576660156,\n",
       "             'to_model_params': 0.7826895713806152,\n",
       "             'batch_time': 26.805591583251953,\n",
       "             'append': 0.02852034568786621,\n",
       "             'epoch_end_time': 121.62642860412598,\n",
       "             'loop_end_time': 121.68244647979736,\n",
       "             'itemize_losses': 0.13239097595214844})"
      ]
     },
     "execution_count": 20,
     "metadata": {},
     "output_type": "execute_result"
    }
   ],
   "source": [
    "# args.hidden_layer_dims = [10, 10, 10, 10, 10, 10, 10]\n",
    "# 500 epochs\"\n",
    "history['timing']"
   ]
  },
  {
   "cell_type": "code",
   "execution_count": 37,
   "metadata": {},
   "outputs": [
    {
     "data": {
      "text/plain": [
       "defaultdict(int,\n",
       "            {'epoch_setup': 0.5203053951263428,\n",
       "             'get_memory': 39.34049868583679,\n",
       "             'data': 3.368065357208252,\n",
       "             'forward': 36.701812505722046,\n",
       "             'loss': 4.3080689907073975,\n",
       "             'append_losses': 1.6422150135040283,\n",
       "             'scale_up_loss': 1.8668906688690186,\n",
       "             'backward': 49.15003752708435,\n",
       "             'check_overflow': 68.1950352191925,\n",
       "             'to_master_grads': 18.668896198272705,\n",
       "             'scale_down_master': 12.61150598526001,\n",
       "             'opt_step': 11.313706398010254,\n",
       "             'zero_grad': 24.82761001586914,\n",
       "             'to_model_params': 7.760152101516724,\n",
       "             'batch_time': 285.14426708221436,\n",
       "             'append': 0.2956278324127197,\n",
       "             'epoch_end_time': 1222.9026436805725,\n",
       "             'loop_end_time': 1223.4631593227386,\n",
       "             'itemize_losses': 1.5110013484954834})"
      ]
     },
     "execution_count": 37,
     "metadata": {},
     "output_type": "execute_result"
    }
   ],
   "source": [
    "# args.hidden_layer_dims = [50, 50, 50, 50, 50, 50, 50]\n",
    "# 5000 epochs\n",
    "# 1.0003466337\n",
    "history['timing']"
   ]
  },
  {
   "cell_type": "code",
   "execution_count": 31,
   "metadata": {},
   "outputs": [
    {
     "data": {
      "text/plain": [
       "defaultdict(int,\n",
       "            {'epoch_setup': 1.3500840663909912,\n",
       "             'get_memory': 32.13201975822449,\n",
       "             'data': 3.3577678203582764,\n",
       "             'forward': 190.64867568016052,\n",
       "             'loss': 4.961660385131836,\n",
       "             'append_losses': 1.6648674011230469,\n",
       "             'scale_up_loss': 1.8466365337371826,\n",
       "             'backward': 417.4334018230438,\n",
       "             'check_overflow': 113.81776142120361,\n",
       "             'to_master_grads': 60.88287377357483,\n",
       "             'scale_down_master': 70.49791526794434,\n",
       "             'opt_step': 99.93064045906067,\n",
       "             'zero_grad': 48.80905628204346,\n",
       "             'to_model_params': 55.6593713760376,\n",
       "             'batch_time': 1107.6246175765991,\n",
       "             'append': 0.31519317626953125,\n",
       "             'epoch_end_time': 2036.65061545372,\n",
       "             'loop_end_time': 2042.0137000083923,\n",
       "             'itemize_losses': 1.3556911945343018})"
      ]
     },
     "execution_count": 31,
     "metadata": {},
     "output_type": "execute_result"
    }
   ],
   "source": [
    "# args.hidden_layer_dims = [5000, 5000, 5000, 5000, 5000, 5000, 5000]\n",
    "# 5000 epochs\n",
    "# 1.0003466337\n",
    "history['timing']"
   ]
  },
  {
   "cell_type": "code",
   "execution_count": 26,
   "metadata": {},
   "outputs": [
    {
     "data": {
      "text/plain": [
       "defaultdict(int,\n",
       "            {'epoch_setup': 1.3442139625549316,\n",
       "             'get_memory': 35.17846059799194,\n",
       "             'data': 3.3788928985595703,\n",
       "             'forward': 190.91840147972107,\n",
       "             'loss': 4.936963081359863,\n",
       "             'append_losses': 1.669410228729248,\n",
       "             'scale_up_loss': 11.547155618667603,\n",
       "             'backward': 418.24670338630676,\n",
       "             'check_overflow': 113.8363983631134,\n",
       "             'to_master_grads': 60.90069031715393,\n",
       "             'scale_down_master': 70.82480120658875,\n",
       "             'opt_step': 100.11763310432434,\n",
       "             'zero_grad': 48.92379426956177,\n",
       "             'to_model_params': 55.77471566200256,\n",
       "             'batch_time': 1122.5092144012451,\n",
       "             'append': 0.31034278869628906,\n",
       "             'epoch_end_time': 2119.808366060257,\n",
       "             'loop_end_time': 2125.174568414688,\n",
       "             'itemize_losses': 1.437049388885498})"
      ]
     },
     "execution_count": 26,
     "metadata": {},
     "output_type": "execute_result"
    }
   ],
   "source": [
    "# args.hidden_layer_dims = [5000, 5000, 5000, 5000, 5000, 5000, 5000]\n",
    "# 5000 epochs\n",
    "# 1.00003466337\n",
    "history['timing']"
   ]
  },
  {
   "cell_type": "markdown",
   "metadata": {},
   "source": [
    "# Profiler Results"
   ]
  },
  {
   "cell_type": "code",
   "execution_count": null,
   "metadata": {},
   "outputs": [],
   "source": [
    "# ran for 5 epochs\n",
    "rankByCriteria(prof, model, criteria='cuda_memory_usage', per_thread=False, per_inp_shapes=False, include_external=False)"
   ]
  },
  {
   "cell_type": "code",
   "execution_count": null,
   "metadata": {},
   "outputs": [],
   "source": [
    "# ran for 5 epochs\n",
    "print(prof.key_averages().table(sort_by=\"cuda_time_total\", row_limit=10))"
   ]
  },
  {
   "cell_type": "code",
   "execution_count": null,
   "metadata": {},
   "outputs": [],
   "source": [
    "# ran for 5 epochs\n",
    "print(prof.key_averages().table(sort_by=\"cpu_time_total\", row_limit=10))"
   ]
  },
  {
   "cell_type": "code",
   "execution_count": null,
   "metadata": {},
   "outputs": [],
   "source": [
    "# ran for 5 epochs\n",
    "rankByCriteria(prof, model, criteria='cpu_time', per_thread=False, per_inp_shapes=False, include_external=False)"
   ]
  },
  {
   "cell_type": "markdown",
   "metadata": {},
   "source": [
    "# Nvidia Results"
   ]
  },
  {
   "cell_type": "markdown",
   "metadata": {},
   "source": [
    "## Large"
   ]
  },
  {
   "cell_type": "code",
   "execution_count": 26,
   "metadata": {
    "scrolled": true
   },
   "outputs": [
    {
     "name": "stdout",
     "output_type": "stream",
     "text": [
      "Wed Nov 25 21:24:33 2020       \r\n",
      "+-----------------------------------------------------------------------------+\r\n",
      "| NVIDIA-SMI 455.32.00    Driver Version: 455.32.00    CUDA Version: 11.1     |\r\n",
      "|-------------------------------+----------------------+----------------------+\r\n",
      "| GPU  Name        Persistence-M| Bus-Id        Disp.A | Volatile Uncorr. ECC |\r\n",
      "| Fan  Temp  Perf  Pwr:Usage/Cap|         Memory-Usage | GPU-Util  Compute M. |\r\n",
      "|                               |                      |               MIG M. |\r\n",
      "|===============================+======================+======================|\r\n",
      "|   0  Tesla V100-PCIE...  On   | 0000BCA9:00:00.0 Off |                  Off |\r\n",
      "| N/A   32C    P0    37W / 250W |   3175MiB / 16160MiB |      0%      Default |\r\n",
      "|                               |                      |                  N/A |\r\n",
      "+-------------------------------+----------------------+----------------------+\r\n",
      "                                                                               \r\n",
      "+-----------------------------------------------------------------------------+\r\n",
      "| Processes:                                                                  |\r\n",
      "|  GPU   GI   CI        PID   Type   Process name                  GPU Memory |\r\n",
      "|        ID   ID                                                   Usage      |\r\n",
      "|=============================================================================|\r\n",
      "|    0   N/A  N/A      9448      C   ...s/py37_pytorch/bin/python     3171MiB |\r\n",
      "+-----------------------------------------------------------------------------+\r\n"
     ]
    }
   ],
   "source": [
    "# hidden_layer_dims = [5000, 5000, 5000, 5000, 5000, 5000, 5000]\n",
    "# nx = 1000, n = 1000\n",
    "# loss_scale = 1.00003466337\n",
    "# epochs = 2000\n",
    "\n",
    "!nvidia-smi"
   ]
  },
  {
   "cell_type": "code",
   "execution_count": 27,
   "metadata": {},
   "outputs": [
    {
     "name": "stdout",
     "output_type": "stream",
     "text": [
      "|===========================================================================|\n",
      "|                  PyTorch CUDA memory summary, device ID 0                 |\n",
      "|---------------------------------------------------------------------------|\n",
      "|            CUDA OOMs: 0            |        cudaMalloc retries: 0         |\n",
      "|===========================================================================|\n",
      "|        Metric         | Cur Usage  | Peak Usage | Tot Alloc  | Tot Freed  |\n",
      "|---------------------------------------------------------------------------|\n",
      "| Allocated memory      |  629656 KB |    2050 MB |   18644 GB |   18643 GB |\n",
      "|       from large pool |  629512 KB |    2040 MB |   18640 GB |   18639 GB |\n",
      "|       from small pool |     144 KB |      10 MB |       3 GB |       3 GB |\n",
      "|---------------------------------------------------------------------------|\n",
      "| Active memory         |  629656 KB |    2050 MB |   18644 GB |   18643 GB |\n",
      "|       from large pool |  629512 KB |    2040 MB |   18640 GB |   18639 GB |\n",
      "|       from small pool |     144 KB |      10 MB |       3 GB |       3 GB |\n",
      "|---------------------------------------------------------------------------|\n",
      "| GPU reserved memory   |    2056 MB |    2056 MB |    2056 MB |       0 B  |\n",
      "|       from large pool |    2044 MB |    2044 MB |    2044 MB |       0 B  |\n",
      "|       from small pool |      12 MB |      12 MB |      12 MB |       0 B  |\n",
      "|---------------------------------------------------------------------------|\n",
      "| Non-releasable memory |   72807 KB |   72807 KB |    9613 GB |    9613 GB |\n",
      "|       from large pool |   70903 KB |   70903 KB |    9605 GB |    9605 GB |\n",
      "|       from small pool |    1904 KB |    4866 KB |       7 GB |       7 GB |\n",
      "|---------------------------------------------------------------------------|\n",
      "| Allocations           |      32    |   20087    |    2325 K  |    2325 K  |\n",
      "|       from large pool |      16    |      52    |    1043 K  |    1043 K  |\n",
      "|       from small pool |      16    |   20051    |    1281 K  |    1281 K  |\n",
      "|---------------------------------------------------------------------------|\n",
      "| Active allocs         |      32    |   20087    |    2325 K  |    2325 K  |\n",
      "|       from large pool |      16    |      52    |    1043 K  |    1043 K  |\n",
      "|       from small pool |      16    |   20051    |    1281 K  |    1281 K  |\n",
      "|---------------------------------------------------------------------------|\n",
      "| GPU reserved segments |      40    |      40    |      40    |       0    |\n",
      "|       from large pool |      34    |      34    |      34    |       0    |\n",
      "|       from small pool |       6    |       6    |       6    |       0    |\n",
      "|---------------------------------------------------------------------------|\n",
      "| Non-releasable allocs |       8    |    2007    |     963 K  |     963 K  |\n",
      "|       from large pool |       4    |       5    |     656 K  |     656 K  |\n",
      "|       from small pool |       4    |    2003    |     306 K  |     306 K  |\n",
      "|===========================================================================|\n",
      "\n"
     ]
    }
   ],
   "source": [
    "# hidden_layer_dims = [5000, 5000, 5000, 5000, 5000, 5000, 5000]\n",
    "# nx = 1000, n = 1000\n",
    "# loss_scale = 1.00003466337\n",
    "# epochs = 2000\n",
    "\n",
    "print(torch.cuda.memory_summary(cuda0))"
   ]
  },
  {
   "cell_type": "markdown",
   "metadata": {},
   "source": [
    "## Medium"
   ]
  },
  {
   "cell_type": "code",
   "execution_count": null,
   "metadata": {},
   "outputs": [],
   "source": [
    "# hidden_layer_dims = [500, 500, 500, 500, 500, 500, 500]\n",
    "# nx = 1000, n = 1000\n",
    "# loss_scale = 1.0003466337\n",
    "# epochs = 2000\n",
    "\n",
    "!nvidia-smi"
   ]
  },
  {
   "cell_type": "code",
   "execution_count": null,
   "metadata": {},
   "outputs": [],
   "source": [
    "# hidden_layer_dims = [500, 500, 500, 500, 500, 500, 500]\n",
    "# nx = 1000, n = 1000\n",
    "# loss_scale = 1.0003466337\n",
    "# epochs = 2000\n",
    "\n",
    "print(torch.cuda.memory_summary(cuda0))"
   ]
  },
  {
   "cell_type": "markdown",
   "metadata": {},
   "source": [
    "## Small"
   ]
  },
  {
   "cell_type": "code",
   "execution_count": 28,
   "metadata": {},
   "outputs": [
    {
     "name": "stdout",
     "output_type": "stream",
     "text": [
      "Wed Nov 25 23:03:46 2020       \r\n",
      "+-----------------------------------------------------------------------------+\r\n",
      "| NVIDIA-SMI 455.32.00    Driver Version: 455.32.00    CUDA Version: 11.1     |\r\n",
      "|-------------------------------+----------------------+----------------------+\r\n",
      "| GPU  Name        Persistence-M| Bus-Id        Disp.A | Volatile Uncorr. ECC |\r\n",
      "| Fan  Temp  Perf  Pwr:Usage/Cap|         Memory-Usage | GPU-Util  Compute M. |\r\n",
      "|                               |                      |               MIG M. |\r\n",
      "|===============================+======================+======================|\r\n",
      "|   0  Tesla V100-PCIE...  On   | 0000BCA9:00:00.0 Off |                  Off |\r\n",
      "| N/A   32C    P0    38W / 250W |   1153MiB / 16160MiB |      0%      Default |\r\n",
      "|                               |                      |                  N/A |\r\n",
      "+-------------------------------+----------------------+----------------------+\r\n",
      "                                                                               \r\n",
      "+-----------------------------------------------------------------------------+\r\n",
      "| Processes:                                                                  |\r\n",
      "|  GPU   GI   CI        PID   Type   Process name                  GPU Memory |\r\n",
      "|        ID   ID                                                   Usage      |\r\n",
      "|=============================================================================|\r\n",
      "|    0   N/A  N/A     15699      C   ...s/py37_pytorch/bin/python     1149MiB |\r\n",
      "+-----------------------------------------------------------------------------+\r\n"
     ]
    }
   ],
   "source": [
    "# hidden_layer_dims = [50, 50, 50, 50, 50, 50, 50]\n",
    "# nx = 1000, n = 1000\n",
    "# loss_scale = 1.0003466337\n",
    "# epochs = 2000\n",
    "\n",
    "!nvidia-smi"
   ]
  },
  {
   "cell_type": "code",
   "execution_count": 29,
   "metadata": {},
   "outputs": [
    {
     "name": "stdout",
     "output_type": "stream",
     "text": [
      "|===========================================================================|\n",
      "|                  PyTorch CUDA memory summary, device ID 0                 |\n",
      "|---------------------------------------------------------------------------|\n",
      "|            CUDA OOMs: 0            |        cudaMalloc retries: 0         |\n",
      "|===========================================================================|\n",
      "|        Metric         | Cur Usage  | Peak Usage | Tot Alloc  | Tot Freed  |\n",
      "|---------------------------------------------------------------------------|\n",
      "| Allocated memory      |  474112 B  |   24481 KB |  264875 MB |  264875 MB |\n",
      "|       from large pool |       0 B  |   11721 KB |  206033 MB |  206033 MB |\n",
      "|       from small pool |  474112 B  |   12958 KB |   58842 MB |   58842 MB |\n",
      "|---------------------------------------------------------------------------|\n",
      "| Active memory         |  474112 B  |   24481 KB |  264875 MB |  264875 MB |\n",
      "|       from large pool |       0 B  |   11721 KB |  206033 MB |  206033 MB |\n",
      "|       from small pool |  474112 B  |   12958 KB |   58842 MB |   58842 MB |\n",
      "|---------------------------------------------------------------------------|\n",
      "| GPU reserved memory   |   34816 KB |   34816 KB |   34816 KB |       0 B  |\n",
      "|       from large pool |   20480 KB |   20480 KB |   20480 KB |       0 B  |\n",
      "|       from small pool |   14336 KB |   14336 KB |   14336 KB |       0 B  |\n",
      "|---------------------------------------------------------------------------|\n",
      "| Non-releasable memory |    3633 KB |   23290 KB |  269861 MB |  269858 MB |\n",
      "|       from large pool |       0 KB |   18526 KB |  206049 MB |  206049 MB |\n",
      "|       from small pool |    3633 KB |    6034 KB |   63812 MB |   63808 MB |\n",
      "|---------------------------------------------------------------------------|\n",
      "| Allocations           |      32    |   20087    |    2037 K  |    2037 K  |\n",
      "|       from large pool |       0    |       6    |     108 K  |     108 K  |\n",
      "|       from small pool |      32    |   20083    |    1929 K  |    1929 K  |\n",
      "|---------------------------------------------------------------------------|\n",
      "| Active allocs         |      32    |   20087    |    2037 K  |    2037 K  |\n",
      "|       from large pool |       0    |       6    |     108 K  |     108 K  |\n",
      "|       from small pool |      32    |   20083    |    1929 K  |    1929 K  |\n",
      "|---------------------------------------------------------------------------|\n",
      "| GPU reserved segments |       8    |       8    |       8    |       0    |\n",
      "|       from large pool |       1    |       1    |       1    |       0    |\n",
      "|       from small pool |       7    |       7    |       7    |       0    |\n",
      "|---------------------------------------------------------------------------|\n",
      "| Non-releasable allocs |       7    |    2008    |     958 K  |     958 K  |\n",
      "|       from large pool |       0    |       3    |      71 K  |      71 K  |\n",
      "|       from small pool |       7    |    2005    |     886 K  |     886 K  |\n",
      "|===========================================================================|\n",
      "\n"
     ]
    }
   ],
   "source": [
    "# hidden_layer_dims = [50, 50, 50, 50, 50, 50, 50]\n",
    "# nx = 1000, n = 1000\n",
    "# loss_scale = 1.0003466337\n",
    "# epochs = 2000\n",
    "\n",
    "print(torch.cuda.memory_summary(cuda0))"
   ]
  },
  {
   "cell_type": "code",
   "execution_count": null,
   "metadata": {},
   "outputs": [],
   "source": []
  },
  {
   "cell_type": "code",
   "execution_count": null,
   "metadata": {},
   "outputs": [],
   "source": []
  },
  {
   "cell_type": "code",
   "execution_count": null,
   "metadata": {},
   "outputs": [],
   "source": []
  },
  {
   "cell_type": "code",
   "execution_count": null,
   "metadata": {},
   "outputs": [],
   "source": []
  },
  {
   "cell_type": "code",
   "execution_count": null,
   "metadata": {},
   "outputs": [],
   "source": []
  },
  {
   "cell_type": "code",
   "execution_count": 27,
   "metadata": {},
   "outputs": [
    {
     "name": "stdout",
     "output_type": "stream",
     "text": [
      "Wed Nov 25 19:11:42 2020       \r\n",
      "+-----------------------------------------------------------------------------+\r\n",
      "| NVIDIA-SMI 455.32.00    Driver Version: 455.32.00    CUDA Version: 11.1     |\r\n",
      "|-------------------------------+----------------------+----------------------+\r\n",
      "| GPU  Name        Persistence-M| Bus-Id        Disp.A | Volatile Uncorr. ECC |\r\n",
      "| Fan  Temp  Perf  Pwr:Usage/Cap|         Memory-Usage | GPU-Util  Compute M. |\r\n",
      "|                               |                      |               MIG M. |\r\n",
      "|===============================+======================+======================|\r\n",
      "|   0  Tesla V100-PCIE...  On   | 00004026:00:00.0 Off |                  Off |\r\n",
      "| N/A   32C    P0    36W / 250W |   3069MiB / 16160MiB |      0%      Default |\r\n",
      "|                               |                      |                  N/A |\r\n",
      "+-------------------------------+----------------------+----------------------+\r\n",
      "                                                                               \r\n",
      "+-----------------------------------------------------------------------------+\r\n",
      "| Processes:                                                                  |\r\n",
      "|  GPU   GI   CI        PID   Type   Process name                  GPU Memory |\r\n",
      "|        ID   ID                                                   Usage      |\r\n",
      "|=============================================================================|\r\n",
      "|    0   N/A  N/A      2920      C   ...s/py37_pytorch/bin/python     3065MiB |\r\n",
      "+-----------------------------------------------------------------------------+\r\n"
     ]
    }
   ],
   "source": [
    "# args.hidden_layer_dims = [5000, 5000, 5000, 5000, 5000, 5000, 5000]\n",
    "# 5000 epochs\n",
    "# 1.00003466337\n",
    "!nvidia-smi"
   ]
  },
  {
   "cell_type": "code",
   "execution_count": 23,
   "metadata": {},
   "outputs": [
    {
     "name": "stdout",
     "output_type": "stream",
     "text": [
      "|===========================================================================|\n",
      "|                  PyTorch CUDA memory summary, device ID 0                 |\n",
      "|---------------------------------------------------------------------------|\n",
      "|            CUDA OOMs: 0            |        cudaMalloc retries: 0         |\n",
      "|===========================================================================|\n",
      "|        Metric         | Cur Usage  | Peak Usage | Tot Alloc  | Tot Freed  |\n",
      "|---------------------------------------------------------------------------|\n",
      "| Allocated memory      |   10240 B  |  276480 B  |  158332 KB |  158322 KB |\n",
      "|       from large pool |       0 B  |       0 B  |       0 KB |       0 KB |\n",
      "|       from small pool |   10240 B  |  276480 B  |  158332 KB |  158322 KB |\n",
      "|---------------------------------------------------------------------------|\n",
      "| Active memory         |   10240 B  |  276480 B  |  158332 KB |  158322 KB |\n",
      "|       from large pool |       0 B  |       0 B  |       0 KB |       0 KB |\n",
      "|       from small pool |   10240 B  |  276480 B  |  158332 KB |  158322 KB |\n",
      "|---------------------------------------------------------------------------|\n",
      "| GPU reserved memory   |    2048 KB |    2048 KB |    2048 KB |       0 B  |\n",
      "|       from large pool |       0 KB |       0 KB |       0 KB |       0 B  |\n",
      "|       from small pool |    2048 KB |    2048 KB |    2048 KB |       0 B  |\n",
      "|---------------------------------------------------------------------------|\n",
      "| Non-releasable memory |    2038 KB |    2038 KB |  160370 KB |  158332 KB |\n",
      "|       from large pool |       0 KB |       0 KB |       0 KB |       0 KB |\n",
      "|       from small pool |    2038 KB |    2038 KB |  160370 KB |  158332 KB |\n",
      "|---------------------------------------------------------------------------|\n",
      "| Allocations           |      20    |      82    |  157068    |  157048    |\n",
      "|       from large pool |       0    |       0    |       0    |       0    |\n",
      "|       from small pool |      20    |      82    |  157068    |  157048    |\n",
      "|---------------------------------------------------------------------------|\n",
      "| Active allocs         |      20    |      82    |  157068    |  157048    |\n",
      "|       from large pool |       0    |       0    |       0    |       0    |\n",
      "|       from small pool |      20    |      82    |  157068    |  157048    |\n",
      "|---------------------------------------------------------------------------|\n",
      "| GPU reserved segments |       1    |       1    |       1    |       0    |\n",
      "|       from large pool |       0    |       0    |       0    |       0    |\n",
      "|       from small pool |       1    |       1    |       1    |       0    |\n",
      "|---------------------------------------------------------------------------|\n",
      "| Non-releasable allocs |       4    |       7    |   72826    |   72822    |\n",
      "|       from large pool |       0    |       0    |       0    |       0    |\n",
      "|       from small pool |       4    |       7    |   72826    |   72822    |\n",
      "|===========================================================================|\n",
      "\n"
     ]
    }
   ],
   "source": [
    "# Ran without profiler\n",
    "print(torch.cuda.memory_summary(cuda0))"
   ]
  },
  {
   "cell_type": "code",
   "execution_count": 28,
   "metadata": {},
   "outputs": [
    {
     "name": "stdout",
     "output_type": "stream",
     "text": [
      "|===========================================================================|\n",
      "|                  PyTorch CUDA memory summary, device ID 0                 |\n",
      "|---------------------------------------------------------------------------|\n",
      "|            CUDA OOMs: 0            |        cudaMalloc retries: 0         |\n",
      "|===========================================================================|\n",
      "|        Metric         | Cur Usage  | Peak Usage | Tot Alloc  | Tot Freed  |\n",
      "|---------------------------------------------------------------------------|\n",
      "| Allocated memory      |  589935 KB |    1939 MB |   43811 GB |   43810 GB |\n",
      "|       from large pool |  589500 KB |    1914 MB |   43783 GB |   43783 GB |\n",
      "|       from small pool |     435 KB |      25 MB |      27 GB |      27 GB |\n",
      "|---------------------------------------------------------------------------|\n",
      "| Active memory         |  589935 KB |    1939 MB |   43811 GB |   43810 GB |\n",
      "|       from large pool |  589500 KB |    1914 MB |   43783 GB |   43783 GB |\n",
      "|       from small pool |     435 KB |      25 MB |      27 GB |      27 GB |\n",
      "|---------------------------------------------------------------------------|\n",
      "| GPU reserved memory   |    1950 MB |    1950 MB |    1950 MB |       0 B  |\n",
      "|       from large pool |    1924 MB |    1924 MB |    1924 MB |       0 B  |\n",
      "|       from small pool |      26 MB |      26 MB |      26 MB |       0 B  |\n",
      "|---------------------------------------------------------------------------|\n",
      "| Non-releasable memory |   51088 KB |   99848 KB |   24167 GB |   24167 GB |\n",
      "|       from large pool |   49475 KB |   99575 KB |   24122 GB |   24122 GB |\n",
      "|       from small pool |    1613 KB |    6199 KB |      44 GB |      44 GB |\n",
      "|---------------------------------------------------------------------------|\n",
      "| Allocations           |      32    |   50087    |    5634 K  |    5634 K  |\n",
      "|       from large pool |      12    |      39    |    2069 K  |    2069 K  |\n",
      "|       from small pool |      20    |   50062    |    3564 K  |    3564 K  |\n",
      "|---------------------------------------------------------------------------|\n",
      "| Active allocs         |      32    |   50087    |    5634 K  |    5634 K  |\n",
      "|       from large pool |      12    |      39    |    2069 K  |    2069 K  |\n",
      "|       from small pool |      20    |   50062    |    3564 K  |    3564 K  |\n",
      "|---------------------------------------------------------------------------|\n",
      "| GPU reserved segments |      41    |      41    |      41    |       0    |\n",
      "|       from large pool |      28    |      28    |      28    |       0    |\n",
      "|       from small pool |      13    |      13    |      13    |       0    |\n",
      "|---------------------------------------------------------------------------|\n",
      "| Non-releasable allocs |       6    |    5003    |    2687 K  |    2687 K  |\n",
      "|       from large pool |       1    |       3    |    1215 K  |    1215 K  |\n",
      "|       from small pool |       5    |    5002    |    1472 K  |    1472 K  |\n",
      "|===========================================================================|\n",
      "\n"
     ]
    }
   ],
   "source": [
    "# args.hidden_layer_dims = [5000, 5000, 5000, 5000, 5000, 5000, 5000]\n",
    "# 5000 epochs\n",
    "# 1.00003466337\n",
    "print(torch.cuda.memory_summary(cuda0))"
   ]
  },
  {
   "cell_type": "code",
   "execution_count": null,
   "metadata": {},
   "outputs": [],
   "source": []
  }
 ],
 "metadata": {
  "kernelspec": {
   "display_name": "Python 3",
   "language": "python",
   "name": "python3"
  },
  "language_info": {
   "codemirror_mode": {
    "name": "ipython",
    "version": 3
   },
   "file_extension": ".py",
   "mimetype": "text/x-python",
   "name": "python",
   "nbconvert_exporter": "python",
   "pygments_lexer": "ipython3",
   "version": "3.7.9"
  }
 },
 "nbformat": 4,
 "nbformat_minor": 4
}
