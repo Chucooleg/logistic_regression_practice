{
 "cells": [
  {
   "cell_type": "code",
   "execution_count": 2,
   "metadata": {},
   "outputs": [],
   "source": [
    "import sys\n",
    "sys.path.append(\"../\")\n",
    "\n",
    "import torch\n",
    "import torch.nn as nn\n",
    "from torch.utils.data import Dataset, DataLoader\n",
    "import torch.autograd.profiler as profiler\n",
    "\n",
    "import apex.fp16_utils as fp16\n",
    "\n",
    "import os\n",
    "import time, gc\n",
    "from progressbar import progressbar\n",
    "import numpy as np\n",
    "from sklearn.datasets import make_classification\n",
    "from collections import defaultdict\n",
    "from argparse import ArgumentDefaultsHelpFormatter, ArgumentParser\n",
    "import matplotlib.pyplot as plt\n",
    "%matplotlib inline\n",
    "\n",
    "from utils.moduleCodeProfiler import rankByCriteria"
   ]
  },
  {
   "cell_type": "code",
   "execution_count": 3,
   "metadata": {
    "scrolled": false
   },
   "outputs": [
    {
     "name": "stdout",
     "output_type": "stream",
     "text": [
      "Wed Nov 25 22:48:38 2020       \r\n",
      "+-----------------------------------------------------------------------------+\r\n",
      "| NVIDIA-SMI 455.32.00    Driver Version: 455.32.00    CUDA Version: 11.1     |\r\n",
      "|-------------------------------+----------------------+----------------------+\r\n",
      "| GPU  Name        Persistence-M| Bus-Id        Disp.A | Volatile Uncorr. ECC |\r\n",
      "| Fan  Temp  Perf  Pwr:Usage/Cap|         Memory-Usage | GPU-Util  Compute M. |\r\n",
      "|                               |                      |               MIG M. |\r\n",
      "|===============================+======================+======================|\r\n",
      "|   0  Tesla V100-PCIE...  On   | 0000BCA9:00:00.0 Off |                  Off |\r\n",
      "| N/A   30C    P0    26W / 250W |      0MiB / 16160MiB |      0%      Default |\r\n",
      "|                               |                      |                  N/A |\r\n",
      "+-------------------------------+----------------------+----------------------+\r\n",
      "                                                                               \r\n",
      "+-----------------------------------------------------------------------------+\r\n",
      "| Processes:                                                                  |\r\n",
      "|  GPU   GI   CI        PID   Type   Process name                  GPU Memory |\r\n",
      "|        ID   ID                                                   Usage      |\r\n",
      "|=============================================================================|\r\n",
      "|  No running processes found                                                 |\r\n",
      "+-----------------------------------------------------------------------------+\r\n"
     ]
    }
   ],
   "source": [
    "!nvidia-smi"
   ]
  },
  {
   "cell_type": "code",
   "execution_count": 4,
   "metadata": {},
   "outputs": [],
   "source": [
    "cuda0 = torch.device('cuda:0') "
   ]
  },
  {
   "cell_type": "code",
   "execution_count": 5,
   "metadata": {},
   "outputs": [],
   "source": [
    "parser = ArgumentParser(formatter_class=ArgumentDefaultsHelpFormatter)\n",
    "args = parser.parse_args('')\n",
    "\n",
    "args.data_dir = '~/datadrive'\n",
    "args.dataset_dir = 'toy_mlp_1'\n",
    "args.seed = 123\n",
    "args.batch_size = 1000\n",
    "# Large\n",
    "# args.hidden_layer_dims = [5000, 5000, 5000, 5000, 5000, 5000, 5000]\n",
    "# Medium\n",
    "# args.hidden_layer_dims = [500, 500, 500, 500, 500, 500, 500]\n",
    "# Small\n",
    "args.hidden_layer_dims = [50, 50, 50, 50, 50, 50, 50]\n",
    "args.lr = 0.01\n",
    "args.epochs = 2000"
   ]
  },
  {
   "cell_type": "markdown",
   "metadata": {},
   "source": [
    "# Model"
   ]
  },
  {
   "cell_type": "code",
   "execution_count": 8,
   "metadata": {},
   "outputs": [],
   "source": [
    "class MLPLazy(nn.Module):\n",
    "\n",
    "    def __init__(self, nx, hidden_layer_dims, ny):\n",
    "        super(MLPLazy, self).__init__()\n",
    "        self.hidden_layer_dims = hidden_layer_dims\n",
    "        \n",
    "        linear_layers = []\n",
    "        last_dim = nx\n",
    "        for next_dim in hidden_layer_dims:\n",
    "            linear_layer = nn.Linear(last_dim, next_dim)\n",
    "            linear_layers.append(linear_layer)\n",
    "            last_dim = next_dim\n",
    "        # should push to ModuleList so that params stay on cuda\n",
    "        self.linear_layers = nn.ModuleList(linear_layers)\n",
    "        self.scorer = nn.Linear(last_dim, ny)\n",
    "\n",
    "    def forward(self, X):\n",
    "        '''\n",
    "        X has shape (m, nx)\n",
    "        '''\n",
    "        last_X = X\n",
    "        for i, linear_layer in enumerate(self.linear_layers):\n",
    "            # shape (m, self.hidden_layer_dims[i])\n",
    "            last_X = linear_layer(last_X)\n",
    "            # shape (m, self.hidden_layer_dims[i])\n",
    "            last_X = torch.relu(last_X)\n",
    "        # shape (m, ny)\n",
    "        z = self.scorer(last_X)\n",
    "        # shape (m, ny)\n",
    "        a = torch.softmax(z, dim=1)\n",
    "        return z, a"
   ]
  },
  {
   "cell_type": "markdown",
   "metadata": {},
   "source": [
    "# Small Experiments"
   ]
  },
  {
   "cell_type": "code",
   "execution_count": 24,
   "metadata": {},
   "outputs": [
    {
     "name": "stdout",
     "output_type": "stream",
     "text": [
      "12.939019203186035\n"
     ]
    }
   ],
   "source": [
    "mlp = MLPLazy(100, [5000, 5000, 5000, 5000, 5000, 5000, 5000], 1)\n",
    "torch.cuda.set_device('cuda:0')\n",
    "mlp.to(device='cuda:0') \n",
    "mlp.half()\n",
    "\n",
    "torch.manual_seed(42)\n",
    "X = torch.randn((500, 100), dtype=torch.float16, device='cuda:0')\n",
    "start_time = time.time()\n",
    "for i in range(5000):\n",
    "    y_hat, _ = mlp(X)\n",
    "    loss = torch.sum(10 - y_hat)\n",
    "\n",
    "torch.cuda.synchronize()\n",
    "print(time.time() - start_time)"
   ]
  },
  {
   "cell_type": "code",
   "execution_count": 23,
   "metadata": {},
   "outputs": [
    {
     "name": "stdout",
     "output_type": "stream",
     "text": [
      "62.056530475616455\n"
     ]
    }
   ],
   "source": [
    "mlp32 = MLPLazy(100, [5000, 5000, 5000, 5000, 5000, 5000, 5000], 1)\n",
    "torch.cuda.set_device('cuda:0')\n",
    "mlp32.to(device='cuda:0')\n",
    "\n",
    "torch.manual_seed(42)\n",
    "X = torch.randn((500, 100), device='cuda:0')\n",
    "start_time = time.time()\n",
    "for i in range(5000):\n",
    "    y_hat, _ = mlp32(X)\n",
    "    loss = torch.sum(10 - y_hat)\n",
    "torch.cuda.synchronize()\n",
    "print(time.time() - start_time)"
   ]
  },
  {
   "cell_type": "code",
   "execution_count": 1,
   "metadata": {
    "scrolled": true
   },
   "outputs": [
    {
     "name": "stdout",
     "output_type": "stream",
     "text": [
      "31.640761137008667\n",
      "52.30562925338745\n"
     ]
    }
   ],
   "source": [
    "# with sad k80 16-bit emulation rather than native 16bit!\n",
    "import torch\n",
    "import time\n",
    "X = torch.randn((2000,2000)).cuda()\n",
    "Y = torch.randn((2000,2000)).cuda()\n",
    "t0 = time.time()\n",
    "for i in range(5000):\n",
    "\tX@Y\n",
    "t1 = time.time()\n",
    "torch.cuda.synchronize()\n",
    "print(t1 - t0)\n",
    "X = torch.randn((2000,2000)).cuda().half()\n",
    "Y = torch.randn((2000,2000)).cuda().half()\n",
    "t0 = time.time()\n",
    "for i in range(5000):\n",
    "\tX@Y\n",
    "t1 = time.time()\n",
    "torch.cuda.synchronize()\n",
    "print(t1 - t0)"
   ]
  },
  {
   "cell_type": "code",
   "execution_count": 16,
   "metadata": {
    "scrolled": true
   },
   "outputs": [
    {
     "name": "stdout",
     "output_type": "stream",
     "text": [
      "5.22260594367981\n",
      "0.993229866027832\n"
     ]
    }
   ],
   "source": [
    "# with V100!\n",
    "import torch\n",
    "import time\n",
    "X = torch.randn((2000,2000)).cuda()\n",
    "Y = torch.randn((2000,2000)).cuda()\n",
    "t0 = time.time()\n",
    "for i in range(5000):\n",
    "\tX@Y\n",
    "t1 = time.time()\n",
    "torch.cuda.synchronize()\n",
    "print(t1 - t0)\n",
    "X = torch.randn((2000,2000)).cuda().half()\n",
    "Y = torch.randn((2000,2000)).cuda().half()\n",
    "t0 = time.time()\n",
    "for i in range(5000):\n",
    "\tX@Y\n",
    "t1 = time.time()\n",
    "torch.cuda.synchronize()\n",
    "print(t1 - t0)"
   ]
  }
 ],
 "metadata": {
  "kernelspec": {
   "display_name": "Python 3",
   "language": "python",
   "name": "python3"
  },
  "language_info": {
   "codemirror_mode": {
    "name": "ipython",
    "version": 3
   },
   "file_extension": ".py",
   "mimetype": "text/x-python",
   "name": "python",
   "nbconvert_exporter": "python",
   "pygments_lexer": "ipython3",
   "version": "3.8.5"
  }
 },
 "nbformat": 4,
 "nbformat_minor": 4
}
