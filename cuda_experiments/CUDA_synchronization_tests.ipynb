{
 "cells": [
  {
   "cell_type": "code",
   "execution_count": null,
   "metadata": {},
   "outputs": [],
   "source": [
    "# https://pytorch.org/docs/stable/notes/cuda.html\n",
    "# Async Execution Section"
   ]
  },
  {
   "cell_type": "code",
   "execution_count": 1,
   "metadata": {},
   "outputs": [],
   "source": [
    "import os\n",
    "import torch"
   ]
  },
  {
   "cell_type": "code",
   "execution_count": 2,
   "metadata": {},
   "outputs": [],
   "source": [
    "cuda0 = torch.device('cuda:0') # same as cuda0 = torch.device('cuda:0') or cuda = torch.device('cuda')\n",
    "cuda1 = torch.device('cuda:1') # same as cuda1 = torch.device('cuda:1')"
   ]
  },
  {
   "cell_type": "code",
   "execution_count": 3,
   "metadata": {},
   "outputs": [],
   "source": [
    "# try to do something on cuda0, and cuda1\n",
    "# see if there's speed up compared to calling torch.cuda.synchronize() in the middle"
   ]
  },
  {
   "cell_type": "code",
   "execution_count": 4,
   "metadata": {
    "scrolled": true
   },
   "outputs": [
    {
     "name": "stdout",
     "output_type": "stream",
     "text": [
      "1702.708740234375\n"
     ]
    }
   ],
   "source": [
    "# https://discuss.pytorch.org/t/gpu-operations-seem-not-asynchronous/63330/4\n",
    "os.environ[\"CUDA_LAUNCH_BLOCKING\"] = '0'\n",
    "\n",
    "torch.cuda.synchronize() \n",
    "start_event = torch.cuda.Event(enable_timing=True)\n",
    "end_event = torch.cuda.Event(enable_timing=True)\n",
    "start_event.record()\n",
    "\n",
    "torch.manual_seed(123)\n",
    "for i in range(10):\n",
    "    wtx = torch.randn(30000, dtype=torch.float).cuda(cuda0).unsqueeze(-1)\n",
    "    x = torch.randn(30000, dtype=torch.float).cuda(cuda0).unsqueeze(0)\n",
    "    dotx = torch.mm(wtx, x)\n",
    "    wty = torch.randn(30000, dtype=torch.float).cuda(cuda1).unsqueeze(-1)\n",
    "    y = torch.randn(30000, dtype=torch.float).cuda(cuda1).unsqueeze(0)\n",
    "    doty = torch.mm(wty, y)\n",
    "    \n",
    "    \n",
    "end_event.record()\n",
    "torch.cuda.synchronize()  # Wait for the events to be recorded!\n",
    "elapsed_time_ms = start_event.elapsed_time(end_event)\n",
    "print(elapsed_time_ms)"
   ]
  },
  {
   "cell_type": "code",
   "execution_count": 3,
   "metadata": {
    "scrolled": true
   },
   "outputs": [
    {
     "name": "stdout",
     "output_type": "stream",
     "text": [
      "1793.8739013671875\n"
     ]
    }
   ],
   "source": [
    "# https://discuss.pytorch.org/t/gpu-operations-seem-not-asynchronous/63330/4\n",
    "os.environ[\"CUDA_LAUNCH_BLOCKING\"] = '0'\n",
    "\n",
    "torch.cuda.synchronize() \n",
    "start_event = torch.cuda.Event(enable_timing=True)\n",
    "end_event = torch.cuda.Event(enable_timing=True)\n",
    "start_event.record()\n",
    "\n",
    "torch.manual_seed(123)\n",
    "for i in range(10):\n",
    "    wtx = torch.randn(30000, dtype=torch.float).cuda(cuda0).unsqueeze(-1)\n",
    "    torch.cuda.synchronize()\n",
    "    x = torch.randn(30000, dtype=torch.float).cuda(cuda0).unsqueeze(0)\n",
    "    torch.cuda.synchronize()\n",
    "    dotx = torch.mm(wtx, x)\n",
    "    torch.cuda.synchronize()\n",
    "    wty = torch.randn(30000, dtype=torch.float).cuda(cuda1).unsqueeze(-1)\n",
    "    torch.cuda.synchronize()\n",
    "    y = torch.randn(30000, dtype=torch.float).cuda(cuda1).unsqueeze(0)\n",
    "    torch.cuda.synchronize()\n",
    "    doty = torch.mm(wty, y)\n",
    "    torch.cuda.synchronize()\n",
    "    \n",
    "    \n",
    "end_event.record()\n",
    "torch.cuda.synchronize()  # Wait for the events to be recorded!\n",
    "elapsed_time_ms = start_event.elapsed_time(end_event)\n",
    "print(elapsed_time_ms)"
   ]
  },
  {
   "cell_type": "code",
   "execution_count": 3,
   "metadata": {
    "scrolled": true
   },
   "outputs": [
    {
     "name": "stdout",
     "output_type": "stream",
     "text": [
      "769.6156616210938\n"
     ]
    }
   ],
   "source": [
    "# https://discuss.pytorch.org/t/gpu-operations-seem-not-asynchronous/63330/4\n",
    "os.environ[\"CUDA_LAUNCH_BLOCKING\"] = '0'\n",
    "\n",
    "torch.cuda.synchronize() \n",
    "start_event = torch.cuda.Event(enable_timing=True)\n",
    "end_event = torch.cuda.Event(enable_timing=True)\n",
    "start_event.record()\n",
    "\n",
    "torch.manual_seed(123)\n",
    "for i in range(10):\n",
    "    wtx = torch.randn(30000, dtype=torch.float).cuda(cuda0).unsqueeze(-1)\n",
    "    torch.cuda.synchronize()\n",
    "    x = torch.randn(30000, dtype=torch.float).cuda(cuda0).unsqueeze(0)\n",
    "    torch.cuda.synchronize()\n",
    "    dotx = torch.mm(wtx, x)\n",
    "    torch.cuda.synchronize()\n",
    "    wty = torch.randn(30000, dtype=torch.float).cuda(cuda0).unsqueeze(-1)\n",
    "    torch.cuda.synchronize()\n",
    "    y = torch.randn(30000, dtype=torch.float).cuda(cuda0).unsqueeze(0)\n",
    "    torch.cuda.synchronize()\n",
    "    doty = torch.mm(wty, y)\n",
    "    torch.cuda.synchronize()\n",
    "    \n",
    "    \n",
    "end_event.record()\n",
    "torch.cuda.synchronize()  # Wait for the events to be recorded!\n",
    "elapsed_time_ms = start_event.elapsed_time(end_event)\n",
    "print(elapsed_time_ms)"
   ]
  },
  {
   "cell_type": "code",
   "execution_count": 3,
   "metadata": {
    "scrolled": true
   },
   "outputs": [
    {
     "name": "stdout",
     "output_type": "stream",
     "text": [
      "759.4615478515625\n"
     ]
    }
   ],
   "source": [
    "# https://discuss.pytorch.org/t/gpu-operations-seem-not-asynchronous/63330/4\n",
    "os.environ[\"CUDA_LAUNCH_BLOCKING\"] = '1'\n",
    "\n",
    "torch.cuda.synchronize() \n",
    "start_event = torch.cuda.Event(enable_timing=True)\n",
    "end_event = torch.cuda.Event(enable_timing=True)\n",
    "start_event.record()\n",
    "\n",
    "torch.manual_seed(123)\n",
    "for i in range(10):\n",
    "    wtx = torch.randn(30000, dtype=torch.float).cuda(cuda0).unsqueeze(-1)\n",
    "    torch.cuda.synchronize()\n",
    "    x = torch.randn(30000, dtype=torch.float).cuda(cuda0).unsqueeze(0)\n",
    "    torch.cuda.synchronize()\n",
    "    dotx = torch.mm(wtx, x)\n",
    "    torch.cuda.synchronize()\n",
    "    wty = torch.randn(30000, dtype=torch.float).cuda(cuda0).unsqueeze(-1)\n",
    "    torch.cuda.synchronize()\n",
    "    y = torch.randn(30000, dtype=torch.float).cuda(cuda0).unsqueeze(0)\n",
    "    torch.cuda.synchronize()\n",
    "    doty = torch.mm(wty, y)\n",
    "    torch.cuda.synchronize()\n",
    "    \n",
    "    \n",
    "end_event.record()\n",
    "torch.cuda.synchronize()  # Wait for the events to be recorded!\n",
    "elapsed_time_ms = start_event.elapsed_time(end_event)\n",
    "print(elapsed_time_ms)"
   ]
  },
  {
   "cell_type": "code",
   "execution_count": 3,
   "metadata": {},
   "outputs": [
    {
     "name": "stdout",
     "output_type": "stream",
     "text": [
      "2047.1427001953125\n"
     ]
    }
   ],
   "source": [
    "# https://discuss.pytorch.org/t/gpu-operations-seem-not-asynchronous/63330/4\n",
    "os.environ[\"CUDA_LAUNCH_BLOCKING\"] = '1'\n",
    "\n",
    "torch.cuda.synchronize() \n",
    "start_event = torch.cuda.Event(enable_timing=True)\n",
    "end_event = torch.cuda.Event(enable_timing=True)\n",
    "start_event.record()\n",
    "\n",
    "torch.manual_seed(123)\n",
    "for i in range(10):\n",
    "    wtx = torch.randn(30000, dtype=torch.float).cuda(cuda0).unsqueeze(-1)\n",
    "    x = torch.randn(30000, dtype=torch.float).cuda(cuda0).unsqueeze(0)\n",
    "    dotx = torch.mm(wtx, x)\n",
    "    wty = torch.randn(30000, dtype=torch.float).cuda(cuda1).unsqueeze(-1)\n",
    "    y = torch.randn(30000, dtype=torch.float).cuda(cuda1).unsqueeze(0)\n",
    "    doty = torch.mm(wty, y)\n",
    "    \n",
    "    \n",
    "end_event.record()\n",
    "torch.cuda.synchronize()  # Wait for the events to be recorded!\n",
    "elapsed_time_ms = start_event.elapsed_time(end_event)\n",
    "print(elapsed_time_ms)"
   ]
  },
  {
   "cell_type": "code",
   "execution_count": 3,
   "metadata": {},
   "outputs": [
    {
     "name": "stdout",
     "output_type": "stream",
     "text": [
      "2133.711181640625\n"
     ]
    }
   ],
   "source": [
    "# https://discuss.pytorch.org/t/gpu-operations-seem-not-asynchronous/63330/4\n",
    "os.environ[\"CUDA_LAUNCH_BLOCKING\"] = '1'\n",
    "\n",
    "torch.cuda.synchronize() \n",
    "start_event = torch.cuda.Event(enable_timing=True)\n",
    "end_event = torch.cuda.Event(enable_timing=True)\n",
    "start_event.record()\n",
    "\n",
    "torch.manual_seed(123)\n",
    "for i in range(10):\n",
    "    wtx = torch.randn(30000, dtype=torch.float).cuda(cuda0).unsqueeze(-1)\n",
    "    x = torch.randn(30000, dtype=torch.float).cuda(cuda0).unsqueeze(0)\n",
    "    dotx = torch.mm(wtx, x)\n",
    "    wty = torch.randn(30000, dtype=torch.float).cuda(cuda1).unsqueeze(-1)\n",
    "    y = torch.randn(30000, dtype=torch.float).cuda(cuda1).unsqueeze(0)\n",
    "    doty = torch.mm(wty, y)\n",
    "    torch.cuda.synchronize()\n",
    "    \n",
    "\n",
    "end_event.record()\n",
    "torch.cuda.synchronize()  # Wait for the events to be recorded!\n",
    "elapsed_time_ms = start_event.elapsed_time(end_event)\n",
    "print(elapsed_time_ms)"
   ]
  },
  {
   "cell_type": "code",
   "execution_count": null,
   "metadata": {},
   "outputs": [],
   "source": []
  },
  {
   "cell_type": "code",
   "execution_count": null,
   "metadata": {},
   "outputs": [],
   "source": []
  },
  {
   "cell_type": "code",
   "execution_count": 1,
   "metadata": {},
   "outputs": [],
   "source": [
    "import os\n",
    "import torch\n",
    "cuda0 = torch.device('cuda:0') # same as cuda0 = torch.device('cuda:0') or cuda = torch.device('cuda')\n",
    "cuda1 = torch.device('cuda:1') # same as cuda1 = torch.device('cuda:1')"
   ]
  },
  {
   "cell_type": "code",
   "execution_count": 2,
   "metadata": {},
   "outputs": [],
   "source": [
    "cuda0 = torch.device('cuda:0') # same as cuda0 = torch.device('cuda:0') or cuda = torch.device('cuda')\n",
    "cuda1 = torch.device('cuda:1') # same as cuda1 = torch.device('cuda:1')"
   ]
  },
  {
   "cell_type": "code",
   "execution_count": 9,
   "metadata": {},
   "outputs": [
    {
     "name": "stdout",
     "output_type": "stream",
     "text": [
      "20298.763671875\n"
     ]
    }
   ],
   "source": [
    "# https://discuss.pytorch.org/t/gpu-operations-seem-not-asynchronous/63330/4\n",
    "os.environ[\"CUDA_LAUNCH_BLOCKING\"] = '0'\n",
    "\n",
    "torch.cuda.synchronize() \n",
    "start_event = torch.cuda.Event(enable_timing=True)\n",
    "end_event = torch.cuda.Event(enable_timing=True)\n",
    "start_event.record()\n",
    "\n",
    "J = 20\n",
    "torch.manual_seed(123)\n",
    "for i in range(10):\n",
    "    x = torch.randn((3000, 1), dtype=torch.float).cuda(cuda0)\n",
    "    for j in range(J):\n",
    "        wtx = torch.randn((3000, 3000), dtype=torch.float).cuda(cuda0)\n",
    "        x = torch.mm(wtx, x)\n",
    "\n",
    "end_event.record()\n",
    "torch.cuda.synchronize()  # Wait for the events to be recorded!\n",
    "elapsed_time_ms = start_event.elapsed_time(end_event)\n",
    "print(elapsed_time_ms)"
   ]
  },
  {
   "cell_type": "code",
   "execution_count": 3,
   "metadata": {},
   "outputs": [
    {
     "name": "stdout",
     "output_type": "stream",
     "text": [
      "40677.71875\n"
     ]
    }
   ],
   "source": [
    "# https://discuss.pytorch.org/t/gpu-operations-seem-not-asynchronous/63330/4\n",
    "os.environ[\"CUDA_LAUNCH_BLOCKING\"] = '0'\n",
    "\n",
    "torch.cuda.synchronize() \n",
    "start_event = torch.cuda.Event(enable_timing=True)\n",
    "end_event = torch.cuda.Event(enable_timing=True)\n",
    "start_event.record()\n",
    "\n",
    "J = 20\n",
    "torch.manual_seed(123)\n",
    "for i in range(10):\n",
    "    x = torch.randn((3000, 1), dtype=torch.float).cuda(cuda0)\n",
    "    for j in range(J):\n",
    "        wtx = torch.randn((3000, 3000), dtype=torch.float).cuda(cuda0)\n",
    "        x = torch.mm(wtx, x)\n",
    "        \n",
    "    y = torch.randn((3000, 1), dtype=torch.float).cuda(cuda0)\n",
    "    for j in range(J):\n",
    "        wty = torch.randn((3000, 3000), dtype=torch.float).cuda(cuda0)\n",
    "        y = torch.mm(wty, y)\n",
    "\n",
    "end_event.record()\n",
    "torch.cuda.synchronize()  # Wait for the events to be recorded!\n",
    "elapsed_time_ms = start_event.elapsed_time(end_event)\n",
    "print(elapsed_time_ms)"
   ]
  },
  {
   "cell_type": "code",
   "execution_count": 3,
   "metadata": {},
   "outputs": [
    {
     "name": "stdout",
     "output_type": "stream",
     "text": [
      "42232.28515625\n"
     ]
    }
   ],
   "source": [
    "# https://discuss.pytorch.org/t/gpu-operations-seem-not-asynchronous/63330/4\n",
    "os.environ[\"CUDA_LAUNCH_BLOCKING\"] = '0'\n",
    "\n",
    "torch.cuda.synchronize() \n",
    "start_event = torch.cuda.Event(enable_timing=True)\n",
    "end_event = torch.cuda.Event(enable_timing=True)\n",
    "start_event.record()\n",
    "\n",
    "J = 20\n",
    "torch.manual_seed(123)\n",
    "for i in range(10):\n",
    "    x = torch.randn((3000, 1), dtype=torch.float).cuda(cuda0)\n",
    "    for j in range(J):\n",
    "        wtx = torch.randn((3000, 3000), dtype=torch.float).cuda(cuda0)\n",
    "        x = torch.mm(wtx, x)\n",
    "        \n",
    "    y = torch.randn((3000, 1), dtype=torch.float).cuda(cuda1)\n",
    "    for j in range(J):\n",
    "        wty = torch.randn((3000, 3000), dtype=torch.float).cuda(cuda1)\n",
    "        y = torch.mm(wty, y)\n",
    "\n",
    "end_event.record()\n",
    "torch.cuda.synchronize()  # Wait for the events to be recorded!\n",
    "elapsed_time_ms = start_event.elapsed_time(end_event)\n",
    "print(elapsed_time_ms)"
   ]
  },
  {
   "cell_type": "code",
   "execution_count": 3,
   "metadata": {},
   "outputs": [
    {
     "name": "stdout",
     "output_type": "stream",
     "text": [
      "1599.0179443359375\n"
     ]
    }
   ],
   "source": [
    "# https://discuss.pytorch.org/t/gpu-operations-seem-not-asynchronous/63330/4\n",
    "os.environ[\"CUDA_LAUNCH_BLOCKING\"] = '0'\n",
    "\n",
    "torch.cuda.synchronize() \n",
    "start_event = torch.cuda.Event(enable_timing=True)\n",
    "end_event = torch.cuda.Event(enable_timing=True)\n",
    "start_event.record()\n",
    "\n",
    "J = 20\n",
    "torch.manual_seed(123)\n",
    "for i in range(10):\n",
    "    x = torch.randn((3000, 1), dtype=torch.float, device=cuda0)\n",
    "    y = torch.randn((3000, 1), dtype=torch.float, device=cuda1)\n",
    "    \n",
    "    for j in range(J):\n",
    "        wtx = torch.randn((3000, 3000), dtype=torch.float, device=cuda0)\n",
    "        x = torch.mm(wtx, x)\n",
    "        \n",
    "        wty = torch.randn((3000, 3000), dtype=torch.float, device=cuda1)\n",
    "        y = torch.mm(wty, y)\n",
    "\n",
    "end_event.record()\n",
    "torch.cuda.synchronize()  # Wait for the events to be recorded!\n",
    "elapsed_time_ms = start_event.elapsed_time(end_event)\n",
    "print(elapsed_time_ms)"
   ]
  },
  {
   "cell_type": "code",
   "execution_count": 1,
   "metadata": {},
   "outputs": [
    {
     "name": "stdout",
     "output_type": "stream",
     "text": [
      "1649.1849365234375\n"
     ]
    }
   ],
   "source": [
    "import os\n",
    "import torch\n",
    "cuda0 = torch.device('cuda:0') # same as cuda0 = torch.device('cuda:0') or cuda = torch.device('cuda')\n",
    "cuda1 = torch.device('cuda:1') # same as cuda1 = torch.device('cuda:1')\n",
    "\n",
    "\n",
    "os.environ[\"CUDA_LAUNCH_BLOCKING\"] = '0'\n",
    "\n",
    "torch.cuda.synchronize() \n",
    "start_event = torch.cuda.Event(enable_timing=True)\n",
    "end_event = torch.cuda.Event(enable_timing=True)\n",
    "start_event.record()\n",
    "\n",
    "J = 20\n",
    "torch.manual_seed(123)\n",
    "for i in range(10):\n",
    "    x = torch.randn((3000, 1), dtype=torch.float, device=cuda0)\n",
    "    for j in range(J):\n",
    "        wtx = torch.randn((3000, 3000), dtype=torch.float, device=cuda0)\n",
    "        x = torch.mm(wtx, x)\n",
    "        \n",
    "    y = torch.randn((3000, 1), dtype=torch.float, device=cuda1)\n",
    "    for j in range(J):\n",
    "        wty = torch.randn((3000, 3000), dtype=torch.float, device=cuda1)\n",
    "        y = torch.mm(wty, y)\n",
    "\n",
    "end_event.record()\n",
    "torch.cuda.synchronize()  # Wait for the events to be recorded!\n",
    "elapsed_time_ms = start_event.elapsed_time(end_event)\n",
    "print(elapsed_time_ms)"
   ]
  },
  {
   "cell_type": "code",
   "execution_count": null,
   "metadata": {},
   "outputs": [],
   "source": []
  },
  {
   "cell_type": "code",
   "execution_count": null,
   "metadata": {},
   "outputs": [],
   "source": []
  },
  {
   "cell_type": "code",
   "execution_count": null,
   "metadata": {},
   "outputs": [],
   "source": []
  },
  {
   "cell_type": "code",
   "execution_count": null,
   "metadata": {},
   "outputs": [],
   "source": []
  },
  {
   "cell_type": "code",
   "execution_count": null,
   "metadata": {},
   "outputs": [],
   "source": []
  },
  {
   "cell_type": "code",
   "execution_count": null,
   "metadata": {},
   "outputs": [],
   "source": []
  },
  {
   "cell_type": "markdown",
   "metadata": {},
   "source": [
    "## For Synchronize with CUDA_LAUNCH_BLOCKING (2 GPU)"
   ]
  },
  {
   "cell_type": "code",
   "execution_count": 1,
   "metadata": {},
   "outputs": [
    {
     "name": "stdout",
     "output_type": "stream",
     "text": [
      "333257.34375\n"
     ]
    }
   ],
   "source": [
    "import os\n",
    "import torch\n",
    "cuda0 = torch.device('cuda:0') # same as cuda0 = torch.device('cuda:0') or cuda = torch.device('cuda')\n",
    "cuda1 = torch.device('cuda:1') # same as cuda1 = torch.device('cuda:1')\n",
    "\n",
    "\n",
    "os.environ[\"CUDA_LAUNCH_BLOCKING\"] = '1'\n",
    "\n",
    "torch.cuda.synchronize() \n",
    "start_event = torch.cuda.Event(enable_timing=True)\n",
    "end_event = torch.cuda.Event(enable_timing=True)\n",
    "start_event.record()\n",
    "\n",
    "J = 20000\n",
    "torch.manual_seed(123)\n",
    "for i in range(10):\n",
    "    x = torch.randn((3000, 1), dtype=torch.float, device=cuda0)\n",
    "    for j in range(J):\n",
    "        wtx = torch.randn((3000, 3000), dtype=torch.float, device=cuda0)\n",
    "        x = torch.mm(wtx, x)\n",
    "        \n",
    "    y = torch.randn((3000, 1), dtype=torch.float, device=cuda1)\n",
    "    for j in range(J):\n",
    "        wty = torch.randn((3000, 3000), dtype=torch.float, device=cuda1)\n",
    "        y = torch.mm(wty, y) \n",
    "\n",
    "end_event.record()\n",
    "torch.cuda.synchronize()  # Wait for the events to be recorded!\n",
    "elapsed_time_ms = start_event.elapsed_time(end_event)\n",
    "print(elapsed_time_ms)"
   ]
  },
  {
   "cell_type": "markdown",
   "metadata": {},
   "source": [
    "## Manually add Sync Points (2 GPU)"
   ]
  },
  {
   "cell_type": "code",
   "execution_count": 1,
   "metadata": {},
   "outputs": [
    {
     "name": "stdout",
     "output_type": "stream",
     "text": [
      "314793.5625\n"
     ]
    }
   ],
   "source": [
    "import os\n",
    "import torch\n",
    "cuda0 = torch.device('cuda:0') # same as cuda0 = torch.device('cuda:0') or cuda = torch.device('cuda')\n",
    "cuda1 = torch.device('cuda:1') # same as cuda1 = torch.device('cuda:1')\n",
    "\n",
    "\n",
    "os.environ[\"CUDA_LAUNCH_BLOCKING\"] = '0'\n",
    "\n",
    "torch.cuda.synchronize() \n",
    "start_event = torch.cuda.Event(enable_timing=True)\n",
    "end_event = torch.cuda.Event(enable_timing=True)\n",
    "start_event.record()\n",
    "\n",
    "J = 20000\n",
    "torch.manual_seed(123)\n",
    "for i in range(10):\n",
    "    x = torch.randn((3000, 1), dtype=torch.float, device=cuda0)\n",
    "    for j in range(J):\n",
    "        wtx = torch.randn((3000, 3000), dtype=torch.float, device=cuda0)\n",
    "        x = torch.mm(wtx, x)\n",
    "        torch.cuda.synchronize() \n",
    "        \n",
    "    y = torch.randn((3000, 1), dtype=torch.float, device=cuda1)\n",
    "    for j in range(J):\n",
    "        wty = torch.randn((3000, 3000), dtype=torch.float, device=cuda1)\n",
    "        y = torch.mm(wty, y)\n",
    "        torch.cuda.synchronize() \n",
    "\n",
    "end_event.record()\n",
    "torch.cuda.synchronize()  # Wait for the events to be recorded!\n",
    "elapsed_time_ms = start_event.elapsed_time(end_event)\n",
    "print(elapsed_time_ms)"
   ]
  },
  {
   "cell_type": "markdown",
   "metadata": {},
   "source": [
    "## For Synchronize with CUDA_LAUNCH_BLOCKING (1 GPU)"
   ]
  },
  {
   "cell_type": "code",
   "execution_count": 1,
   "metadata": {},
   "outputs": [
    {
     "name": "stdout",
     "output_type": "stream",
     "text": [
      "330762.9375\n"
     ]
    }
   ],
   "source": [
    "import os\n",
    "import torch\n",
    "cuda0 = torch.device('cuda:0') # same as cuda0 = torch.device('cuda:0') or cuda = torch.device('cuda')\n",
    "cuda1 = torch.device('cuda:1') # same as cuda1 = torch.device('cuda:1')\n",
    "\n",
    "\n",
    "os.environ[\"CUDA_LAUNCH_BLOCKING\"] = '1'\n",
    "\n",
    "torch.cuda.synchronize() \n",
    "start_event = torch.cuda.Event(enable_timing=True)\n",
    "end_event = torch.cuda.Event(enable_timing=True)\n",
    "start_event.record()\n",
    "\n",
    "J = 20000\n",
    "torch.manual_seed(123)\n",
    "for i in range(10):\n",
    "    x = torch.randn((3000, 1), dtype=torch.float, device=cuda0)\n",
    "    for j in range(J):\n",
    "        wtx = torch.randn((3000, 3000), dtype=torch.float, device=cuda0)\n",
    "        x = torch.mm(wtx, x)\n",
    "        \n",
    "    y = torch.randn((3000, 1), dtype=torch.float, device=cuda0)\n",
    "    for j in range(J):\n",
    "        wty = torch.randn((3000, 3000), dtype=torch.float, device=cuda0)\n",
    "        y = torch.mm(wty, y) \n",
    "\n",
    "end_event.record()\n",
    "torch.cuda.synchronize()  # Wait for the events to be recorded!\n",
    "elapsed_time_ms = start_event.elapsed_time(end_event)\n",
    "print(elapsed_time_ms)"
   ]
  },
  {
   "cell_type": "markdown",
   "metadata": {},
   "source": [
    "## Manually add Sync Points (1 GPU)"
   ]
  },
  {
   "cell_type": "code",
   "execution_count": 1,
   "metadata": {},
   "outputs": [
    {
     "name": "stdout",
     "output_type": "stream",
     "text": [
      "317634.40625\n"
     ]
    }
   ],
   "source": [
    "import os\n",
    "import torch\n",
    "cuda0 = torch.device('cuda:0') # same as cuda0 = torch.device('cuda:0') or cuda = torch.device('cuda')\n",
    "cuda1 = torch.device('cuda:1') # same as cuda1 = torch.device('cuda:1')\n",
    "\n",
    "\n",
    "os.environ[\"CUDA_LAUNCH_BLOCKING\"] = '0'\n",
    "\n",
    "torch.cuda.synchronize() \n",
    "start_event = torch.cuda.Event(enable_timing=True)\n",
    "end_event = torch.cuda.Event(enable_timing=True)\n",
    "start_event.record()\n",
    "\n",
    "J = 20000\n",
    "torch.manual_seed(123)\n",
    "for i in range(10):\n",
    "    x = torch.randn((3000, 1), dtype=torch.float, device=cuda0)\n",
    "    for j in range(J):\n",
    "        wtx = torch.randn((3000, 3000), dtype=torch.float, device=cuda0)\n",
    "        x = torch.mm(wtx, x)\n",
    "        torch.cuda.synchronize() \n",
    "        \n",
    "    y = torch.randn((3000, 1), dtype=torch.float, device=cuda0)\n",
    "    for j in range(J):\n",
    "        wty = torch.randn((3000, 3000), dtype=torch.float, device=cuda0)\n",
    "        y = torch.mm(wty, y)\n",
    "        torch.cuda.synchronize() \n",
    "\n",
    "end_event.record()\n",
    "torch.cuda.synchronize()  # Wait for the events to be recorded!\n",
    "elapsed_time_ms = start_event.elapsed_time(end_event)\n",
    "print(elapsed_time_ms)"
   ]
  },
  {
   "cell_type": "markdown",
   "metadata": {},
   "source": [
    "## Async (2 GPU)"
   ]
  },
  {
   "cell_type": "code",
   "execution_count": 1,
   "metadata": {},
   "outputs": [
    {
     "name": "stdout",
     "output_type": "stream",
     "text": [
      "305783.21875\n"
     ]
    }
   ],
   "source": [
    "import os\n",
    "import torch\n",
    "cuda0 = torch.device('cuda:0') # same as cuda0 = torch.device('cuda:0') or cuda = torch.device('cuda')\n",
    "cuda1 = torch.device('cuda:1') # same as cuda1 = torch.device('cuda:1')\n",
    "\n",
    "\n",
    "os.environ[\"CUDA_LAUNCH_BLOCKING\"] = '0'\n",
    "\n",
    "torch.cuda.synchronize() \n",
    "start_event = torch.cuda.Event(enable_timing=True)\n",
    "end_event = torch.cuda.Event(enable_timing=True)\n",
    "start_event.record()\n",
    "\n",
    "J = 20000\n",
    "torch.manual_seed(123)\n",
    "for i in range(10):\n",
    "    x = torch.randn((3000, 1), dtype=torch.float, device=cuda0)\n",
    "    for j in range(J):\n",
    "        wtx = torch.randn((3000, 3000), dtype=torch.float, device=cuda0)\n",
    "        x = torch.mm(wtx, x)\n",
    "        \n",
    "    y = torch.randn((3000, 1), dtype=torch.float, device=cuda1)\n",
    "    for j in range(J):\n",
    "        wty = torch.randn((3000, 3000), dtype=torch.float, device=cuda1)\n",
    "        y = torch.mm(wty, y)\n",
    "\n",
    "end_event.record()\n",
    "torch.cuda.synchronize()  # Wait for the events to be recorded!\n",
    "elapsed_time_ms = start_event.elapsed_time(end_event)\n",
    "print(elapsed_time_ms)"
   ]
  },
  {
   "cell_type": "markdown",
   "metadata": {},
   "source": [
    "## Async (1 GPU)"
   ]
  },
  {
   "cell_type": "code",
   "execution_count": 1,
   "metadata": {},
   "outputs": [
    {
     "name": "stdout",
     "output_type": "stream",
     "text": [
      "309210.46875\n"
     ]
    }
   ],
   "source": [
    "import os\n",
    "import torch\n",
    "cuda0 = torch.device('cuda:0') # same as cuda0 = torch.device('cuda:0') or cuda = torch.device('cuda')\n",
    "cuda1 = torch.device('cuda:1') # same as cuda1 = torch.device('cuda:1')\n",
    "\n",
    "\n",
    "os.environ[\"CUDA_LAUNCH_BLOCKING\"] = '0'\n",
    "\n",
    "torch.cuda.synchronize() \n",
    "start_event = torch.cuda.Event(enable_timing=True)\n",
    "end_event = torch.cuda.Event(enable_timing=True)\n",
    "start_event.record()\n",
    "\n",
    "J = 20000\n",
    "torch.manual_seed(123)\n",
    "for i in range(10):\n",
    "    x = torch.randn((3000, 1), dtype=torch.float, device=cuda0)\n",
    "    for j in range(J):\n",
    "        wtx = torch.randn((3000, 3000), dtype=torch.float, device=cuda0)\n",
    "        x = torch.mm(wtx, x) \n",
    "        \n",
    "    y = torch.randn((3000, 1), dtype=torch.float, device=cuda0)\n",
    "    for j in range(J):\n",
    "        wty = torch.randn((3000, 3000), dtype=torch.float, device=cuda0)\n",
    "        y = torch.mm(wty, y)\n",
    "\n",
    "end_event.record()\n",
    "torch.cuda.synchronize()  # Wait for the events to be recorded!\n",
    "elapsed_time_ms = start_event.elapsed_time(end_event)\n",
    "print(elapsed_time_ms)"
   ]
  },
  {
   "cell_type": "markdown",
   "metadata": {},
   "source": [
    "## Async (2 GPU) Big Data Set"
   ]
  },
  {
   "cell_type": "code",
   "execution_count": 1,
   "metadata": {},
   "outputs": [
    {
     "ename": "KeyboardInterrupt",
     "evalue": "",
     "output_type": "error",
     "traceback": [
      "\u001b[0;31m---------------------------------------------------------------------------\u001b[0m",
      "\u001b[0;31mKeyboardInterrupt\u001b[0m                         Traceback (most recent call last)",
      "\u001b[0;32m<ipython-input-1-33580a35d369>\u001b[0m in \u001b[0;36m<module>\u001b[0;34m\u001b[0m\n\u001b[1;32m     18\u001b[0m     \u001b[0mx\u001b[0m \u001b[0;34m=\u001b[0m \u001b[0mtorch\u001b[0m\u001b[0;34m.\u001b[0m\u001b[0mrandn\u001b[0m\u001b[0;34m(\u001b[0m\u001b[0;34m(\u001b[0m\u001b[0mm\u001b[0m\u001b[0;34m,\u001b[0m \u001b[0;36m1\u001b[0m\u001b[0;34m)\u001b[0m\u001b[0;34m,\u001b[0m \u001b[0mdtype\u001b[0m\u001b[0;34m=\u001b[0m\u001b[0mtorch\u001b[0m\u001b[0;34m.\u001b[0m\u001b[0mfloat\u001b[0m\u001b[0;34m,\u001b[0m \u001b[0mdevice\u001b[0m\u001b[0;34m=\u001b[0m\u001b[0mcuda0\u001b[0m\u001b[0;34m)\u001b[0m\u001b[0;34m\u001b[0m\u001b[0;34m\u001b[0m\u001b[0m\n\u001b[1;32m     19\u001b[0m     \u001b[0;32mfor\u001b[0m \u001b[0mj\u001b[0m \u001b[0;32min\u001b[0m \u001b[0mrange\u001b[0m\u001b[0;34m(\u001b[0m\u001b[0mJ\u001b[0m\u001b[0;34m)\u001b[0m\u001b[0;34m:\u001b[0m\u001b[0;34m\u001b[0m\u001b[0;34m\u001b[0m\u001b[0m\n\u001b[0;32m---> 20\u001b[0;31m         \u001b[0mwtx\u001b[0m \u001b[0;34m=\u001b[0m \u001b[0mtorch\u001b[0m\u001b[0;34m.\u001b[0m\u001b[0mrandn\u001b[0m\u001b[0;34m(\u001b[0m\u001b[0;34m(\u001b[0m\u001b[0mm\u001b[0m\u001b[0;34m,\u001b[0m \u001b[0mm\u001b[0m\u001b[0;34m)\u001b[0m\u001b[0;34m,\u001b[0m \u001b[0mdtype\u001b[0m\u001b[0;34m=\u001b[0m\u001b[0mtorch\u001b[0m\u001b[0;34m.\u001b[0m\u001b[0mfloat\u001b[0m\u001b[0;34m,\u001b[0m \u001b[0mdevice\u001b[0m\u001b[0;34m=\u001b[0m\u001b[0mcuda0\u001b[0m\u001b[0;34m)\u001b[0m\u001b[0;34m\u001b[0m\u001b[0;34m\u001b[0m\u001b[0m\n\u001b[0m\u001b[1;32m     21\u001b[0m         \u001b[0mx\u001b[0m \u001b[0;34m=\u001b[0m \u001b[0mtorch\u001b[0m\u001b[0;34m.\u001b[0m\u001b[0mmm\u001b[0m\u001b[0;34m(\u001b[0m\u001b[0mwtx\u001b[0m\u001b[0;34m,\u001b[0m \u001b[0mx\u001b[0m\u001b[0;34m)\u001b[0m\u001b[0;34m\u001b[0m\u001b[0;34m\u001b[0m\u001b[0m\n\u001b[1;32m     22\u001b[0m \u001b[0;34m\u001b[0m\u001b[0m\n",
      "\u001b[0;31mKeyboardInterrupt\u001b[0m: "
     ]
    }
   ],
   "source": [
    "import os\n",
    "import torch\n",
    "cuda0 = torch.device('cuda:0') # same as cuda0 = torch.device('cuda:0') or cuda = torch.device('cuda')\n",
    "cuda1 = torch.device('cuda:1') # same as cuda1 = torch.device('cuda:1')\n",
    "\n",
    "\n",
    "os.environ[\"CUDA_LAUNCH_BLOCKING\"] = '0'\n",
    "\n",
    "torch.cuda.synchronize() \n",
    "start_event = torch.cuda.Event(enable_timing=True)\n",
    "end_event = torch.cuda.Event(enable_timing=True)\n",
    "start_event.record()\n",
    "\n",
    "J = 20000\n",
    "m = 30000 # 40000 will raise CUDA memory error \n",
    "m = 3000 # 40000 will raise CUDA memory error \n",
    "torch.manual_seed(123)\n",
    "for i in range(1):\n",
    "    x = torch.randn((m, 1), dtype=torch.float, device=cuda0)\n",
    "    for j in range(J):\n",
    "        wtx = torch.randn((m, m), dtype=torch.float, device=cuda0)\n",
    "        x = torch.mm(wtx, x)\n",
    "        \n",
    "    y = torch.randn((m, 1), dtype=torch.float, device=cuda1)\n",
    "    for j in range(J):\n",
    "        wty = torch.randn((m, m), dtype=torch.float, device=cuda1)\n",
    "        y = torch.mm(wty, y)\n",
    "\n",
    "    \n",
    "end_event.record()\n",
    "torch.cuda.synchronize()  # Wait for the events to be recorded!\n",
    "elapsed_time_ms = start_event.elapsed_time(end_event)\n",
    "print(elapsed_time_ms)"
   ]
  },
  {
   "cell_type": "markdown",
   "metadata": {},
   "source": [
    "## Async (1 GPU) Big Data Set"
   ]
  },
  {
   "cell_type": "code",
   "execution_count": null,
   "metadata": {},
   "outputs": [],
   "source": [
    "import os\n",
    "import torch\n",
    "cuda0 = torch.device('cuda:0') # same as cuda0 = torch.device('cuda:0') or cuda = torch.device('cuda')\n",
    "cuda1 = torch.device('cuda:1') # same as cuda1 = torch.device('cuda:1')\n",
    "\n",
    "\n",
    "os.environ[\"CUDA_LAUNCH_BLOCKING\"] = '0'\n",
    "\n",
    "torch.cuda.synchronize() \n",
    "start_event = torch.cuda.Event(enable_timing=True)\n",
    "end_event = torch.cuda.Event(enable_timing=True)\n",
    "start_event.record()\n",
    "\n",
    "J = 20000\n",
    "m = 50500 # 40000 will raise CUDA memory error \n",
    "torch.manual_seed(123)\n",
    "for i in range(10):\n",
    "    x = torch.randn((m, 1), dtype=torch.float, device=cuda0)\n",
    "    for j in range(J):\n",
    "        wtx = torch.randn((m, m), dtype=torch.float, device=cuda0)\n",
    "        x = torch.mm(wtx, x) \n",
    "        \n",
    "    y = torch.randn((m, 1), dtype=torch.float, device=cuda0)\n",
    "    for j in range(J):\n",
    "        wty = torch.randn((m, m), dtype=torch.float, device=cuda0)\n",
    "        y = torch.mm(wty, y)\n",
    "\n",
    "end_event.record()\n",
    "torch.cuda.synchronize()  # Wait for the events to be recorded!\n",
    "elapsed_time_ms = start_event.elapsed_time(end_event)\n",
    "print(elapsed_time_ms)"
   ]
  },
  {
   "cell_type": "code",
   "execution_count": null,
   "metadata": {},
   "outputs": [],
   "source": [
    "# J = 2000\n",
    "# async two devices 23476.904296875\n",
    "\n",
    "# sync two devices  29139.279296875\n",
    "# async one device  30838.9453125\n",
    "# sync one device   31943.115234375"
   ]
  }
 ],
 "metadata": {
  "kernelspec": {
   "display_name": "Python 3",
   "language": "python",
   "name": "python3"
  },
  "language_info": {
   "codemirror_mode": {
    "name": "ipython",
    "version": 3
   },
   "file_extension": ".py",
   "mimetype": "text/x-python",
   "name": "python",
   "nbconvert_exporter": "python",
   "pygments_lexer": "ipython3",
   "version": "3.7.7"
  }
 },
 "nbformat": 4,
 "nbformat_minor": 4
}
